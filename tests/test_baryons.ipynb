{
 "cells": [
  {
   "cell_type": "code",
   "execution_count": null,
   "metadata": {},
   "outputs": [],
   "source": [
    "import numpy as np\n",
    "import matplotlib.pyplot as plt\n",
    "\n",
    "from imripy import merger_system as ms\n",
    "from imripy import halo, inspiral, waveform, plot_utils"
   ]
  },
  {
   "cell_type": "code",
   "execution_count": null,
   "metadata": {},
   "outputs": [],
   "source": [
    "m1 = 1e3 * ms.solar_mass_to_pc\n",
    "m2 = 1. *  ms.solar_mass_to_pc"
   ]
  },
  {
   "cell_type": "code",
   "execution_count": null,
   "metadata": {},
   "outputs": [],
   "source": [
    "M_d = 1.\n",
    "R_d = 1.\n",
    "z_d = 1.\n",
    "\n",
    "mnDisc = halo.MiyamotoNagaiDisc(M_d, R_d, z_d)"
   ]
  },
  {
   "cell_type": "code",
   "execution_count": null,
   "metadata": {},
   "outputs": [],
   "source": [
    "rho6 = 5.448e15 * ms.solar_mass_to_pc  # in 1/pc^2 \n",
    "alpha = 7./3.\n",
    "spike = halo.Spike.FromRho6(rho6, m1, alpha)"
   ]
  },
  {
   "cell_type": "code",
   "execution_count": null,
   "metadata": {},
   "outputs": [],
   "source": [
    "r_grid = np.geomspace(1e-10, 1e5)\n",
    "l, = plt.plot(r_grid, mnDisc.density(r_grid), label='z=0')\n",
    "plt.plot(r_grid, mnDisc.mass(r_grid), color = l.get_c(), linestyle='--')\n",
    "l, = plt.plot(r_grid, mnDisc.density(r_grid, z=1.), label='z=1')\n",
    "plt.plot(r_grid, mnDisc.mass(r_grid, z=1.), color = l.get_c(), linestyle='--')\n",
    "l, = plt.plot(r_grid, mnDisc.density(r_grid, z=2.), label='z=2')\n",
    "plt.plot(r_grid, mnDisc.mass(r_grid, z=2), color = l.get_c(), linestyle='--')\n",
    "\n",
    "plt.plot(r_grid, spike.density(r_grid), label='spike')\n",
    "plt.xscale('log'); plt.yscale('log'); plt.grid(); plt.legend()"
   ]
  },
  {
   "cell_type": "code",
   "execution_count": null,
   "metadata": {},
   "outputs": [],
   "source": [
    "sp_0 = ms.SystemProp(m1, m2, halo.ConstHalo(0.))\n",
    "sp_b = ms.SystemProp(m1, m2, halo.ConstHalo(0.), baryonicHalo = mnDisc)\n",
    "sp_dm = ms.SystemProp(m1, m2, spike)\n",
    "sp_dm_b = ms.SystemProp(m1, m2, spike, baryonicHalo = mnDisc)"
   ]
  },
  {
   "cell_type": "code",
   "execution_count": null,
   "metadata": {},
   "outputs": [],
   "source": [
    "a0 = 100. * sp_0.r_isco()\n",
    "e0 = 0.1\n",
    "\n",
    "opt_0 = inspiral.Classic.EvolutionOptions(acc=1e-10, verbose=1)\n",
    "baryonicOptions = inspiral.Classic.EvolutionOptions(acc=1e-10, verbose=3, accretion=True, accretionModel='Bondi-Hoyle')\n",
    "opt_b = inspiral.Classic.EvolutionOptions(acc=1e-10, verbose=3, baryonicHaloEffects=True, baryonicEvolutionOptions=baryonicOptions)\n",
    "opt_dm = inspiral.Classic.EvolutionOptions(acc=1e-10, verbose=1)\n",
    "opt_dm_b = opt_b"
   ]
  },
  {
   "cell_type": "code",
   "execution_count": null,
   "metadata": {},
   "outputs": [],
   "source": [
    "ev_0 = inspiral.Classic.Evolve(sp_0, a0, e0, opt=opt_0)\n",
    "ev_b = inspiral.Classic.Evolve(sp_b, a0, e0, opt=opt_b)"
   ]
  },
  {
   "cell_type": "code",
   "execution_count": null,
   "metadata": {},
   "outputs": [],
   "source": [
    "ev_dm = inspiral.Classic.Evolve(sp_dm, a0, e0, opt=opt_dm)\n",
    "ev_dm_b = inspiral.Classic.Evolve(sp_dm_b, a0, e0, opt=opt_dm_b)"
   ]
  },
  {
   "cell_type": "code",
   "execution_count": null,
   "metadata": {},
   "outputs": [],
   "source": [
    "fig_ae, axes_ae = plt.subplots(2, 1, figsize=(6,10))\n",
    "fig_gw, axes_gw = plt.subplots(2, 1, sharex='col', figsize=(6,10))\n",
    "\n",
    "ax_m = axes_ae[0].twinx()\n",
    "l = plot_utils.plotEvolution(sp_0, ev_0, ax_a=axes_ae[0], ax_ae=axes_ae[1], label='vacuum')\n",
    "plot_utils.plotGWcharacteristicStrain(sp_0, ev_0, axes_gw[0], label='vacuum' , harmonics=[2,3], color=l.get_c())\n",
    "\n",
    "l = plot_utils.plotEvolution(sp_b, ev_b, ax_a=axes_ae[0], ax_ae=axes_ae[1], ax_m=ax_m, m2=m2, label='baryonic')\n",
    "plot_utils.plotGWcharacteristicStrain(sp_b, ev_b, axes_gw[0], label='baryonic' , harmonics=[2,3], color=l.get_c())\n",
    "plot_utils.plotDeltaN(sp_0, ev_0, sp_b, ev_b, axes_gw[1], color=l.get_c(), label='baryonic')\n",
    "\n",
    "l = plot_utils.plotEvolution(sp_dm, ev_dm, ax_a=axes_ae[0], ax_ae=axes_ae[1], label='spike')\n",
    "plot_utils.plotGWcharacteristicStrain(sp_dm, ev_dm, axes_gw[0], label='dm' , harmonics=[2,3], color=l.get_c())\n",
    "plot_utils.plotDeltaN(sp_0, ev_0, sp_dm, ev_dm, axes_gw[1], color=l.get_c(), label='spike')\n",
    "\n",
    "l = plot_utils.plotEvolution(sp_dm_b, ev_dm_b, ax_a=axes_ae[0], ax_ae=axes_ae[1], ax_m=ax_m, m2=m2, label='spike+baryonic')\n",
    "plot_utils.plotGWcharacteristicStrain(sp_dm_b, ev_dm_b, axes_gw[0], label='spike+baryonic' , harmonics=[2,3], color=l.get_c())\n",
    "plot_utils.plotDeltaN(sp_0, ev_0, sp_dm_b, ev_dm_b, axes_gw[1], color=l.get_c(), label='spike+baryonic')\n",
    "\n",
    "plot_utils.plotDeltaN(sp_dm, ev_dm, sp_dm_b, ev_dm_b, axes_gw[1], color=l.get_c(), label='spike vs baryonic', linestyle='--')\n",
    "\n",
    "for ax in np.append(axes_ae.flatten(), axes_gw.flatten()):\n",
    "    ax.grid()\n",
    "    ax.legend()"
   ]
  },
  {
   "cell_type": "code",
   "execution_count": null,
   "metadata": {},
   "outputs": [],
   "source": []
  }
 ],
 "metadata": {
  "kernelspec": {
   "display_name": "Python 3",
   "language": "python",
   "name": "python3"
  },
  "language_info": {
   "codemirror_mode": {
    "name": "ipython",
    "version": 3
   },
   "file_extension": ".py",
   "mimetype": "text/x-python",
   "name": "python",
   "nbconvert_exporter": "python",
   "pygments_lexer": "ipython3",
   "version": "3.8.10"
  }
 },
 "nbformat": 4,
 "nbformat_minor": 4
}
