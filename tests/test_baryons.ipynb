{
 "cells": [
  {
   "cell_type": "code",
   "execution_count": null,
   "metadata": {},
   "outputs": [],
   "source": [
    "import numpy as np\n",
    "import matplotlib.pyplot as plt\n",
    "\n",
    "from imripy import merger_system as ms\n",
    "from imripy import halo, inspiral, waveform, plot_utils, detector\n",
    "\n",
    "from scipy.interpolate import interp1d"
   ]
  },
  {
   "cell_type": "code",
   "execution_count": null,
   "metadata": {},
   "outputs": [],
   "source": [
    "m1 = 1e4 * ms.solar_mass_to_pc\n",
    "m2 = 1. *  ms.solar_mass_to_pc\n",
    "D = 5e8"
   ]
  },
  {
   "cell_type": "code",
   "execution_count": null,
   "metadata": {},
   "outputs": [],
   "source": [
    "gamma = 5./3.\n",
    "Kappa= 2.2e-1\n",
    "r_c = 60.*m1\n",
    "print(Kappa)\n",
    "maDisc = halo.MichelAccretion(m1, r_c, Kappa, gamma)\n",
    "print(maDisc)"
   ]
  },
  {
   "cell_type": "code",
   "execution_count": null,
   "metadata": {},
   "outputs": [],
   "source": [
    "rho_ism = 1e-24 * ms.g_cm3_to_invpc2"
   ]
  },
  {
   "cell_type": "code",
   "execution_count": null,
   "metadata": {},
   "outputs": [],
   "source": [
    "rho6 = 1.5e15 * ms.solar_mass_to_pc  # in 1/pc^2 \n",
    "alpha = 7./3.\n",
    "spike = halo.Spike.FromRho6(rho6, m1, alpha)"
   ]
  },
  {
   "cell_type": "code",
   "execution_count": null,
   "metadata": {},
   "outputs": [],
   "source": [
    "sp_0 = ms.SystemProp(m1, m2, halo.ConstHalo(0.), D=D)\n",
    "r_grid = np.geomspace(sp_0.r_schwarzschild(), 200*sp_0.r_isco(), 500)\n",
    "maDisc_int = halo.InterpolatedHalo(r_grid, maDisc.density(r_grid))\n",
    "maDisc_int.velocity = interp1d(r_grid, maDisc.velocity(r_grid), kind='cubic')\n",
    "maDisc_int.soundspeed = interp1d(r_grid, maDisc.soundspeed(r_grid), kind='cubic')\n",
    "sp_b = ms.SystemProp(m1, m2, halo.ConstHalo(0.), baryonicHalo = maDisc_int, D=D)"
   ]
  },
  {
   "cell_type": "code",
   "execution_count": null,
   "metadata": {},
   "outputs": [],
   "source": [
    "plt.figure(figsize=(12,8))\n",
    "r_grid = np.geomspace(2*m1, 150*sp_0.r_isco())\n",
    "l, = plt.plot(r_grid/sp_0.r_isco(), maDisc.density(r_grid)/ms.solar_mass_to_pc, label=\"baryons\")\n",
    "              #label=\"$\\\\rho_{\\\\infty}=\" + f\"{maDisc.M_dot/(2.2 * 1e-9 * maDisc.M /0.3064):.0e}\" + \"M_{Edd}$\")\n",
    "#plt.plot(r_grid, maDisc.mass(r_grid), color = l.get_c(), linestyle='--')\n",
    "\n",
    "plt.plot(r_grid/sp_0.r_isco(), spike.density(r_grid)/ms.solar_mass_to_pc, label='spike')\n",
    "#plt.axhline(rho_ism/ms.solar_mass_to_pc, linestyle='--', label=\"ISM\")\n",
    "#plt.axvline(2.*m1/m1, color='black')\n",
    "plt.axvline(100., linestyle='--', label=\"$a_0$\")\n",
    "plt.yscale('log');# plt.xscale('log') \n",
    "plt.xlabel(\"r/$r_{isco}$\", fontsize=20); plt.ylabel(\"density / $M_{\\odot}/pc^3$\", fontsize=20)\n",
    "plt.grid(); plt.legend(fontsize=18)"
   ]
  },
  {
   "cell_type": "markdown",
   "metadata": {},
   "source": [
    "### Compare accretion"
   ]
  },
  {
   "cell_type": "code",
   "execution_count": null,
   "metadata": {},
   "outputs": [],
   "source": [
    "accuracy = 1e-9\n",
    "opt_0 = inspiral.Classic.EvolutionOptions(accuracy=accuracy, verbose=1)\n",
    "baryonicOptions_acc = inspiral.Classic.EvolutionOptions(accuracy=accuracy, verbose=1, accretion=True, accretionModel='Bondi-Hoyle')\n",
    "baryonicOptions_nacc = inspiral.Classic.EvolutionOptions(accuracy=accuracy, verbose=1, accretion=False)\n",
    "\n",
    "opt_acc = inspiral.Classic.EvolutionOptions(baryonicHaloEffects=True, baryonicEvolutionOptions=baryonicOptions_acc, accuracy=accuracy, verbose=1)\n",
    "opt_nacc = inspiral.Classic.EvolutionOptions(baryonicHaloEffects=True, baryonicEvolutionOptions=baryonicOptions_nacc, accuracy=accuracy, verbose=1)\n"
   ]
  },
  {
   "cell_type": "code",
   "execution_count": null,
   "metadata": {},
   "outputs": [],
   "source": [
    "a0 = 100. * sp_0.r_isco()\n",
    "e0 = 0.1"
   ]
  },
  {
   "cell_type": "code",
   "execution_count": null,
   "metadata": {},
   "outputs": [],
   "source": [
    "ev_0 = inspiral.Classic.Evolve(sp_0, a0, e0, opt=opt_0)\n",
    "ev_acc = inspiral.Classic.Evolve(sp_b, a0, e0, opt=opt_acc)\n",
    "ev_nacc = inspiral.Classic.Evolve(sp_b, a0, e0, opt=opt_nacc)"
   ]
  },
  {
   "cell_type": "code",
   "execution_count": null,
   "metadata": {},
   "outputs": [],
   "source": [
    "fig_ae, axes_ae = plt.subplots(2, 1, figsize=(6,10))\n",
    "fig_gw, axes_gw = plt.subplots(2, 1, sharex='col', figsize=(6,10))\n",
    "\n",
    "ax_m = axes_ae[0].twinx()\n",
    "l = plot_utils.plotEvolution(sp_0, ev_0, ax_a=axes_ae[0], ax_ae=axes_ae[1], label='vacuum')\n",
    "plot_utils.plotGWcharacteristicStrain(sp_0, ev_0, axes_gw[0], label='vacuum' , harmonics=[2,3], color=l.get_c())\n",
    "\n",
    "l = plot_utils.plotEvolution(sp_b, ev_nacc, ax_a=axes_ae[0], ax_ae=axes_ae[1], label='nacc')\n",
    "plot_utils.plotGWcharacteristicStrain(sp_b, ev_nacc, axes_gw[0], label='nacc' , harmonics=[2,3], color=l.get_c())\n",
    "plot_utils.plotDeltaN(sp_0, ev_0, sp_b, ev_nacc, axes_gw[1], color=l.get_c(), label='nacc')\n",
    "\n",
    "l = plot_utils.plotEvolution(sp_b, ev_acc, ax_a=axes_ae[0], ax_ae=axes_ae[1], ax_m=ax_m, m2=m2, label='acc')\n",
    "plot_utils.plotGWcharacteristicStrain(sp_b, ev_acc, axes_gw[0], label='acc' , harmonics=[2,3], color=l.get_c())\n",
    "plot_utils.plotDeltaN(sp_0, ev_0, sp_b, ev_acc, axes_gw[1], color=l.get_c(), label='acc')\n",
    "\n",
    "plot_utils.plotDeltaN(sp_b, ev_nacc, sp_b, ev_acc, axes_gw[1], color=l.get_c(), label='$\\delta_{acc}$', linestyle='--')\n",
    "\n",
    "for ax in axes_ae:\n",
    "    ax.grid(); ax.legend()\n",
    "for ax in axes_gw:\n",
    "    ax.grid(); ax.legend()"
   ]
  },
  {
   "cell_type": "markdown",
   "metadata": {},
   "source": [
    "### Compare with DM"
   ]
  },
  {
   "cell_type": "code",
   "execution_count": null,
   "metadata": {},
   "outputs": [],
   "source": [
    "sp_dm = ms.SystemProp(m1, m2, spike, D=D)\n",
    "sp_dm_b = ms.SystemProp(m1, m2, spike, baryonicHalo = maDisc, D=D)"
   ]
  },
  {
   "cell_type": "code",
   "execution_count": null,
   "metadata": {},
   "outputs": [],
   "source": [
    "def makeDynamicSpike(sp_stat):\n",
    "    extPotential = lambda r:sp_stat.m1/r\n",
    "    r_grid = np.geomspace(1e-1*sp_stat.r_isco(), 1e8*sp_stat.r_isco(), 100)\n",
    "    Eps_grid = np.geomspace(extPotential(r_grid[-1]), extPotential(r_grid[0]), 500)\n",
    "    dynSpike = halo.DynamicSS.FromSpike(Eps_grid, sp_stat, sp_stat.halo)\n",
    "    sp_dyn = ms.SystemProp(sp_stat.m1, sp_stat.m2, dynSpike, sp_stat.D)\n",
    "    return sp_dyn\n",
    "sp_dm = makeDynamicSpike(sp_dm)\n",
    "sp_dm_b.halo = sp_dm.halo"
   ]
  },
  {
   "cell_type": "code",
   "execution_count": null,
   "metadata": {},
   "outputs": [],
   "source": [
    "a0 = 100. * sp_0.r_isco()\n",
    "e0 = 0.4\n",
    "accuracy = 1e-10\n",
    "opt_0 = inspiral.Classic.EvolutionOptions(accuracy=accuracy, verbose=1)\n",
    "baryonicOptions = inspiral.Classic.EvolutionOptions(accretion=True, accretionModel='Bondi-Hoyle', accuracy=accuracy, verbose=1)\n",
    "opt_b = inspiral.Classic.EvolutionOptions(baryonicHaloEffects=True, baryonicEvolutionOptions=baryonicOptions, accuracy=accuracy, verbose=1)\n",
    "opt_dm = inspiral.Classic.EvolutionOptions(haloPhaseSpaceDescription=True, accuracy=accuracy, verbose=1)\n",
    "opt_dm_b = inspiral.Classic.EvolutionOptions(haloPhaseSpaceDescription=True, baryonicHaloEffects=True, baryonicEvolutionOptions=baryonicOptions, accuracy=accuracy, verbose=1)\n"
   ]
  },
  {
   "cell_type": "code",
   "execution_count": null,
   "metadata": {},
   "outputs": [],
   "source": [
    "ev_0 = inspiral.Classic.Evolve(sp_0, a0, e0, opt=opt_0)\n",
    "ev_b = inspiral.Classic.Evolve(sp_b, a0, e0, opt=opt_b)"
   ]
  },
  {
   "cell_type": "code",
   "execution_count": null,
   "metadata": {},
   "outputs": [],
   "source": [
    "ev_dm = inspiral.Classic.Evolve(sp_dm, a0, e0, opt=opt_dm)\n",
    "ev_dm_b = inspiral.Classic.Evolve(sp_dm_b, a0, e0, opt=opt_dm_b)"
   ]
  },
  {
   "cell_type": "code",
   "execution_count": null,
   "metadata": {},
   "outputs": [],
   "source": [
    "fig_ae, axes_ae = plt.subplots(2, 1, figsize=(8,12))\n",
    "fig_gw, axes_gw = plt.subplots(2, 1, sharex='col', figsize=(8,12))\n",
    "\n",
    "ax_m = axes_ae[0].twinx()\n",
    "l = plot_utils.plotEvolution(sp_0, ev_0, ax_a=axes_ae[0], ax_ae=axes_ae[1], label='vacuum')\n",
    "plot_utils.plotGWcharacteristicStrain(sp_0, ev_0, axes_gw[0], label='vacuum' , harmonics=[2,3], color=l.get_c())\n",
    "\n",
    "l = plot_utils.plotEvolution(sp_b, ev_b, ax_a=axes_ae[0], ax_ae=axes_ae[1], m2=m2, label='baryonic')\n",
    "plot_utils.plotGWcharacteristicStrain(sp_b, ev_b, axes_gw[0], label='baryonic' , harmonics=[2,3], color=l.get_c())\n",
    "plot_utils.plotDeltaN(sp_0, ev_0, sp_b, ev_b, axes_gw[1], plotFgw5year=True, color=l.get_c(), label='baryonic')\n",
    "\n",
    "l = plot_utils.plotEvolution(sp_dm, ev_dm, ax_a=axes_ae[0], ax_ae=axes_ae[1], label='spike')\n",
    "plot_utils.plotGWcharacteristicStrain(sp_dm, ev_dm, axes_gw[0], label='dm' , harmonics=[2,3], color=l.get_c())\n",
    "plot_utils.plotDeltaN(sp_0, ev_0, sp_dm, ev_dm, axes_gw[1], color=l.get_c(), label='spike')\n",
    "\n",
    "#plot_utils.plotDeltaN(sp_dm, ev_dm, sp_b, ev_b, axes_gw[1], color=l.get_c(), label='spike vs baryonic', linestyle='--')\n",
    "\n",
    "l = plot_utils.plotEvolution(sp_dm_b, ev_dm_b, ax_a=axes_ae[0], ax_ae=axes_ae[1], m2=m2, label='all')\n",
    "plot_utils.plotGWcharacteristicStrain(sp_dm_b, ev_dm_b, axes_gw[0], label='all' , harmonics=[2,3], color=l.get_c())\n",
    "plot_utils.plotDeltaN(sp_0, ev_0, sp_dm_b, ev_dm_b, axes_gw[1], color=l.get_c(), label='all')\n",
    "\n",
    "plot_utils.plotDeltaN(sp_dm, ev_dm, sp_dm_b, ev_dm_b, axes_gw[1], color=l.get_c(), label=\"$\\delta N_{b}$\", linestyle='--')\n",
    "\n",
    "f_gw = np.geomspace(detector.Lisa().Bandwith()[0], detector.Lisa().Bandwith()[1], 100)\n",
    "axes_gw[0].loglog(f_gw/ms.hz_to_invpc, detector.Lisa().NoiseStrain(f_gw), label='LISA')\n",
    "\n",
    "axes_ae[0].set_yscale('linear'); axes_ae[0].set_xscale('linear')\n",
    "axes_ae[0].legend(fontsize=18)\n",
    "axes_ae[0].set_xlabel(\"t / yr\", fontsize=20); axes_ae[0].set_ylabel(\"semimajor axis / $r_{isco}$\",fontsize=20)\n",
    "axes_ae[1].set_xlabel(\"semimajor axis / $r_{isco}$\", fontsize=20); axes_ae[1].set_ylabel(\"eccentricity\",fontsize=20)\n",
    "axes_gw[0].set_xlabel(\"f / Hz\", fontsize=20); axes_gw[0].set_ylabel(\"characteristic strain\",fontsize=20)\n",
    "axes_gw[1].set_xlabel(\"f / Hz\", fontsize=20); axes_gw[1].set_ylabel(\"$|\\Delta N^{(2)}|$\",fontsize=20)\n",
    "axes_gw[1].set_ylim(bottom=0.1)\n",
    "axes_gw[1].legend(fontsize=18)\n",
    "for ax in np.append(axes_ae.flatten(), axes_gw.flatten()):\n",
    "    ax.grid()"
   ]
  },
  {
   "cell_type": "code",
   "execution_count": null,
   "metadata": {},
   "outputs": [],
   "source": []
  }
 ],
 "metadata": {
  "kernelspec": {
   "display_name": "Python 3",
   "language": "python",
   "name": "python3"
  },
  "language_info": {
   "codemirror_mode": {
    "name": "ipython",
    "version": 3
   },
   "file_extension": ".py",
   "mimetype": "text/x-python",
   "name": "python",
   "nbconvert_exporter": "python",
   "pygments_lexer": "ipython3",
   "version": "3.8.10"
  }
 },
 "nbformat": 4,
 "nbformat_minor": 4
}
