{
 "cells": [
  {
   "cell_type": "markdown",
   "metadata": {},
   "source": [
    "## Packages"
   ]
  },
  {
   "cell_type": "code",
   "execution_count": null,
   "metadata": {},
   "outputs": [],
   "source": [
    "#Packages to solve DE and math\n",
    "import numpy as np\n",
    "from scipy.integrate import solve_ivp\n",
    "from scipy.interpolate import interp1d, UnivariateSpline\n",
    "import scipy.fftpack\n",
    "from statsmodels.nonparametric.kernel_regression import KernelReg\n",
    "\n",
    "#Packages to plot and animate\n",
    "import matplotlib\n",
    "import matplotlib.pyplot as plt\n",
    "import matplotlib.animation as animation\n",
    "from matplotlib.animation import PillowWriter  \n",
    "from collections import deque\n",
    "\n",
    "#Packages from imripy\n",
    "from imripy import merger_system as ms\n",
    "from imripy import inspiral\n",
    "from imripy import waveform\n",
    "from imripy import detector\n",
    "from imripy import halo\n",
    "from imripy import cosmo\n",
    "\n",
    "#miscellaneous Packages\n",
    "import time"
   ]
  },
  {
   "cell_type": "markdown",
   "metadata": {},
   "source": [
    "## Orbit"
   ]
  },
  {
   "cell_type": "code",
   "execution_count": null,
   "metadata": {},
   "outputs": [],
   "source": [
    "def initial_conditions(sp, a0, e0, phi0 = 0.):\n",
    "    \"\"\"\n",
    "    Calculate the initial conditions for a Keplerian orbit with parameters a, e\n",
    "    \"\"\"\n",
    "    r0 = a0 * (1. - e0**2) / (1. + e0 * np.cos(phi0))\n",
    "    dphi0 = np.sqrt(sp.m_total() * a0 * (1.-e0**2)) / r0**2\n",
    "    dr0 = a0* (1. - e0**2) / (1 + e0 * np.cos(phi0))**2 * e0 *np.sin(phi0) * dphi0\n",
    "    return [r0, phi0, dr0, dphi0, sp.m2]\n",
    "\n",
    "def dm2dt(sp, r, v):\n",
    "    sigma = (np.pi * sp.m2**2. / v**2.) * (8. * (1. - v**2.))**3 / (4. * (1. - 4. * v**2. + (1. + 8. * v**2.)**(1./2.)) * (3. - (1. + 8. * v**2.)**(1./2.))**2.)\n",
    "    return sigma * sp.halo.density(r) * v\n",
    "    \n",
    "\n",
    "def evolve(sp, y0, t_end, t_start=0., gwEmission=True, dynamicalFriction=True, accretion=True, \n",
    "                           accretionRecoil=True, coulombLog=3., nSteps=1000, acc=1e-9):   \n",
    "    \"\"\"\n",
    "    Evolve the system of differential equations from t_start to t_end with initial conditions y0\n",
    "    \"\"\"\n",
    "    t_scale = t_end\n",
    "    r_scale = y0[0]\n",
    "    m_scale = y0[4]\n",
    "    \n",
    "    y0scaled = y0[:]\n",
    "    y0scaled[0] /= r_scale; y0scaled[2] /= r_scale; y0scaled[4]/= m_scale\n",
    "    \n",
    "    t_eval = np.linspace(t_start, t_end, nSteps)/t_scale\n",
    "    \n",
    "    def dy_dt(t, y, sp):\n",
    "        r, phi, dr, dphi, m2 = y\n",
    "        r *= r_scale; dr *= r_scale; m2 *= m_scale; sp.m2 = m2\n",
    "        \n",
    "        v = np.sqrt(dr**2 + r**2 * dphi**2)\n",
    "        \n",
    "        gwEmissionTerm = (8./15.* sp.m_reduced() * sp.m_total()**2 / r**4 / v**2\n",
    "                               * (12. *r**2 * dphi**2 + dr**2 )) if gwEmission else 0.\n",
    "\n",
    "        dm2_dt = dm2dt(sp, r, v) if accretion else 0.\n",
    "        mass_change = sp.m1/sp.m2/sp.m_total() * dm2_dt    # this is dmu/mu\n",
    "        accretionRecoilTerm = dm2_dt / sp.m_reduced()   if accretionRecoil else 0.\n",
    "         \n",
    "        dynamicalFrictionTerm = 4.*np.pi * sp.m2**2/sp.m_reduced() * sp.halo.density(r) * coulombLog /v**3  if dynamicalFriction else 0.\n",
    "           \n",
    "        ddr = (  r * dphi**2  - sp.m_total()  / r**2\n",
    "                  - mass_change *dr\n",
    "                  - accretionRecoilTerm   * dr\n",
    "                  - gwEmissionTerm * dr\n",
    "                  - dynamicalFrictionTerm * dr\n",
    "                  ) \n",
    "        \n",
    "        ddphi= (-2.* dr * dphi / r\n",
    "                  - mass_change * dphi\n",
    "                  - accretionRecoilTerm * dphi\n",
    "                  - gwEmissionTerm  *dphi\n",
    "                  - dynamicalFrictionTerm * dphi\n",
    "               ) \n",
    "        \n",
    "        dy_dt = np.array([dr/r_scale, dphi, ddr/r_scale, ddphi, dm2_dt/m_scale]) * t_scale\n",
    "        #print(y, dy_dt)\n",
    "        return  dy_dt \n",
    "    \n",
    "    rt_start = time.perf_counter()\n",
    "    sol=solve_ivp(dy_dt, [t_start/t_scale, t_end/t_scale], y0scaled, method='RK45', args=(sp, ),\n",
    "                          dense_output=True, atol=1e-12, rtol=acc, t_eval=t_eval)\n",
    "    rt_elapsed = time.perf_counter() - rt_start\n",
    "    \n",
    "    sol.t *= t_scale\n",
    "    sol.y[0] *= r_scale\n",
    "    sol.y[2] *= r_scale\n",
    "    sol.y[4] *= m_scale\n",
    "    print(sol.message)\n",
    "    print(\"elapsed time \", rt_elapsed)\n",
    "    return sol"
   ]
  },
  {
   "cell_type": "code",
   "execution_count": null,
   "metadata": {},
   "outputs": [],
   "source": [
    "def plotOrbit(sp, sol, ax_polar, label=\"\", **args):\n",
    "    r = sol.y[0]; phi = sol.y[1]\n",
    "    trace, = ax_polar.plot(phi, r/sp.r_isco(), linestyle='--', lw=1, label=label, **args)"
   ]
  },
  {
   "cell_type": "code",
   "execution_count": null,
   "metadata": {},
   "outputs": [],
   "source": [
    "# Set basic parameters of the system\n",
    "m1= 1e3* ms.solar_mass_to_pc\n",
    "m2= 1. * ms.solar_mass_to_pc\n",
    "D = 1e5 \n",
    "\n",
    "sp_0 = ms.SystemProp(m1, m2, halo.ConstHalo(0.), D)"
   ]
  },
  {
   "cell_type": "code",
   "execution_count": null,
   "metadata": {},
   "outputs": [],
   "source": [
    "# Set initial parameters of the inspiral\n",
    "a0 = 100. * sp_0.r_isco()\n",
    "e0 = 0.\n",
    "y0 = initial_conditions(sp_0, a0, e0)\n",
    "print(y0)\n",
    "F0 = np.sqrt(sp_0.m_total()/a0**3)/ 2./np.pi\n",
    "nOrbits = 1000\n",
    "t_end = nOrbits/ F0"
   ]
  },
  {
   "cell_type": "code",
   "execution_count": null,
   "metadata": {},
   "outputs": [],
   "source": [
    "# Evolve with and without gw loss\n",
    "sol_0 = evolve(sp_0, y0, t_end, gwEmission=False, dynamicalFriction=False, accretion=False, nSteps=20*nOrbits)\n",
    "sol_0gw = evolve(sp_0, y0, t_end, gwEmission=True, dynamicalFriction=False, accretion=False, nSteps=20*nOrbits, acc=1e-10)"
   ]
  },
  {
   "cell_type": "code",
   "execution_count": null,
   "metadata": {},
   "outputs": [],
   "source": [
    "# Plot orbit\n",
    "fig = plt.figure(figsize=(9,9))\n",
    "ax = fig.add_subplot(projection='polar')\n",
    "plotOrbit(sp_0, sol_0, ax, 'no GW')\n",
    "plotOrbit(sp_0, sol_0gw, ax, 'with GW', alpha=0.5)\n",
    "fig.legend();"
   ]
  },
  {
   "cell_type": "code",
   "execution_count": null,
   "metadata": {},
   "outputs": [],
   "source": [
    "def getOrbitalParameters(sp, sol, smooth_e=False):\n",
    "    \"\"\"\n",
    "    Calculate a, e as Keplerian paramters from the evolution\n",
    "    \"\"\"\n",
    "    r = sol.y[0]; phi = sol.y[1]; dr = sol.y[2]; dphi = sol.y[3]\n",
    "    \n",
    "    v = np.sqrt(dr**2 + r**2 * dphi**2)\n",
    "    a = sp.m_total()/ np.abs( v**2 - 2*sp.m_total()/r)\n",
    "    e2 = 1. + ( v**2 - 2*sp.m_total()/r ) * r**4 * dphi**2 / sp.m_total()**2\n",
    "    e = np.sqrt(np.clip(e2, 0., None))\n",
    "    #e = np.sqrt(e2)\n",
    "    \n",
    "    if smooth_e:\n",
    "        n = 5000\n",
    "        split_e = np.array_split(e, len(e)//n)\n",
    "        split_t = np.array_split(sol.t, len(e)//n)\n",
    "        for i in range(len(split_e)):\n",
    "            t_s = time.perf_counter()\n",
    "            kr = KernelReg(split_e[i], split_t[i], 'c')\n",
    "            split_e[i] = kr.fit(split_t[i])[0]\n",
    "            t_e = time.perf_counter()\n",
    "            print(f\"Kernel Regression step {i} took {t_e-t_s}s: {(i+1) * n}/{len(e)} \")\n",
    "        e = np.concatenate(split_e, axis=0)\n",
    "    \n",
    "    sol.v = v; sol.a = a; sol.e = e\n",
    "    return sol\n",
    "    \n",
    "def plotOrbitalParameters(sp, sol, ax_a, ax_e, label=\"\", timescale = 1.):\n",
    "    #if not hasattr(sol, 'a'):\n",
    "    sol = getOrbitalParameters(sp, sol)\n",
    "    l, = ax_a.plot(sol.t/timescale, sol.a/sp.r_isco(), label=label)\n",
    "    ax_e.plot(sol.t/timescale, sol.e, color=l.get_c())\n",
    "    #ax_e.plot(t, sol.y[1], linestyle='--', color=l.get_c())\n",
    "    #ax_e.plot(t, np.cos(sol.y[1]), linestyle='-.', color=l.get_c())\n",
    "    return sol"
   ]
  },
  {
   "cell_type": "code",
   "execution_count": null,
   "metadata": {},
   "outputs": [],
   "source": [
    "# Plot keplerian elements\n",
    "fig, (ax_a, ax_e) = plt.subplots(2,1, sharex='all', figsize=(10, 8))\n",
    "fig.subplots_adjust(hspace=0.)\n",
    "sol_0 = plotOrbitalParameters(sp_0, sol_0, ax_a, ax_e, label='no GW', timescale=1/F0)\n",
    "sol_0gw = plotOrbitalParameters(sp_0, sol_0gw, ax_a, ax_e, label='with GW', timescale=1/F0)\n",
    "ax_a.grid(); ax_a.set_ylabel('a')\n",
    "ax_e.grid(); ax_e.set_ylabel('e'); ax_e.set_xlabel('t')\n",
    "ax_a.legend()"
   ]
  },
  {
   "cell_type": "code",
   "execution_count": null,
   "metadata": {},
   "outputs": [],
   "source": [
    "sol_0gw = getOrbitalParameters(sp_0, sol_0gw, smooth_e=True) # smooth e so that np.gradient returns sensible results\n",
    "sol_0 = getOrbitalParameters(sp_0, sol_0, smooth_e=True) # smooth e so that np.gradient returns sensible results"
   ]
  },
  {
   "cell_type": "code",
   "execution_count": null,
   "metadata": {},
   "outputs": [],
   "source": [
    "# Compare to 4.116, 4.117    # mix from original and new\n",
    "def da_dt(sp, a, e):\n",
    "    return (-64./5. *sp.m_reduced()*sp.m_total()**2 / a**3  / (1.-e**2)**(7./2.) \n",
    "                    *(1. + 73./24.*e**2 + 37./96.*e**4))\n",
    "def de_dt(sp, a, e):\n",
    "    return (-304./15. *sp.m_reduced()*sp.m_total()**2 / a**4  * e/ (1.-e**2)**(5./2.) \n",
    "                *(1. + 121./304.*e**2 ) )\n",
    "plt.plot(sol_0gw.t, da_dt(sp_0, sol_0gw.a, sol_0gw.e), label='a, analytic')\n",
    "plt.plot(sol_0gw.t, np.gradient(sol_0gw.a, sol_0gw.t), linestyle='--', label=\"a, code\")\n",
    "plt.plot(sol_0gw.t, de_dt(sp_0, sol_0gw.a, sol_0gw.e), label='e, analytic')\n",
    "plt.plot(sol_0gw.t, np.gradient(sol_0gw.e, sol_0gw.t), linestyle='--', label=\"e, code\")\n",
    "plt.legend(); plt.grid()\n",
    "plt.yscale('symlog')"
   ]
  },
  {
   "cell_type": "code",
   "execution_count": null,
   "metadata": {},
   "outputs": [],
   "source": [
    "# Compare to 4.25 of Maggiore\n",
    "if e0 == 0.:\n",
    "    t_coal = 5./256. * a0**4 / sp_0.m_total()**2 / sp_0.m_reduced()\n",
    "    plt.plot(sol_0gw.t, a0 * ((t_coal - sol_0gw.t)/t_coal)**(1./4.), label='analytic')\n",
    "    plt.plot(sol_0gw.t, sol_0gw.y[0], label='code', linestyle='--')\n",
    "    #plt.plot(sol_0.t, sol_0.y[0], label='code, no gw')\n",
    "    plt.legend(); plt.grid()\n",
    "    plt.show()"
   ]
  },
  {
   "cell_type": "code",
   "execution_count": null,
   "metadata": {},
   "outputs": [],
   "source": [
    "if e0 > 0.:   # Compare to 4.127\n",
    "    def g(e):\n",
    "        return e**(12./19.)/(1.-e**2) * (1. + 121./304.*e**2)**(870./2299.)\n",
    "    plt.plot(sol_0gw.e, sol_0gw.a[0] * g(sol_0gw.e)/ g(sol_0gw.e[0]), label='analytic')\n",
    "    plt.plot(sol_0gw.e, sol_0gw.a, linestyle='--', label=\"code\")\n",
    "    plt.legend(); plt.grid()\n",
    "    plt.show()"
   ]
  },
  {
   "cell_type": "markdown",
   "metadata": {},
   "source": [
    "### Gravitational Wave Signal"
   ]
  },
  {
   "cell_type": "code",
   "execution_count": null,
   "metadata": {},
   "outputs": [],
   "source": [
    "def strain(sp, sol):\n",
    "    r = sol.y[0]; phi = sol.y[1];\n",
    "    t = sol.t\n",
    "    #Observer parameters\n",
    "    mu = sp.m_reduced()\n",
    "    theta_o = sp.inclination_angle\n",
    "    phi_o = sp.pericenter_angle\n",
    "\n",
    "    #Rotating body parameters\n",
    "    x = r*np.cos(phi)\n",
    "    y = r*np.sin(phi)\n",
    "    z = np.zeros(np.shape(x))\n",
    "    \n",
    "    Q=[ [mu*x*x, mu*x*y, mu*x*z],\n",
    "           [mu*y*x, mu*y*y, mu*y*z],\n",
    "           [mu*z*x, mu*z*y, mu*z*z] ]\n",
    "    \n",
    "    def Mdt(Q):\n",
    "        return np.array([ [np.gradient(Q[0][0], t), np.gradient(Q[0][1], t), np.gradient(Q[0][2], t)], \n",
    "                            [np.gradient(Q[1][0], t),np.gradient(Q[1][1], t),np.gradient(Q[1][2], t)],\n",
    "                            [np.gradient(Q[2][0], t),np.gradient(Q[2][1], t),np.gradient(Q[2][2], t)] ])\n",
    "    dQdt=Mdt(Q)\n",
    "    d2Qd2t=Mdt(dQdt)\n",
    "    \n",
    "    h_plus =  1./sp.D * ( d2Qd2t[0][0] * (np.cos(phi_o)**2 - np.sin(phi_o)**2 * np.cos(theta_o)**2) \n",
    "                         + d2Qd2t[1][1] * (np.sin(phi_o)**2 - np.cos(phi_o)**2 * np.cos(theta_o)**2) \n",
    "                         - d2Qd2t[2][2] * np.sin(theta_o)**2 \n",
    "                         - d2Qd2t[0][1] * np.sin(2*phi_o) * (1. + np.cos(theta_o)**2)\n",
    "                         + d2Qd2t[0][2] * np.sin(phi_o) * np.sin(2*theta_o) \n",
    "                         + d2Qd2t[1][2] * np.cos(phi_o) * np.sin(2*theta_o) )      \n",
    "    h_cross = 1./sp.D * ( (d2Qd2t[0][0]-d2Qd2t[1][1]) * np.sin(2*phi_o)*np.cos(theta_o)\n",
    "                         + 2. * d2Qd2t[0][1] * np.cos(2*phi_o)*np.cos(theta_o) \n",
    "                         - 2. * d2Qd2t[0][2] * np.cos(phi_o)*np.sin(theta_o) \n",
    "                         + 2. * d2Qd2t[1][2] * np.sin(theta_o)*np.sin(phi_o) )\n",
    "    \n",
    "    sol.h_plus = h_plus; sol.h_cross = h_cross\n",
    "    return sol\n",
    "\n",
    "def strainFFT(sp, sol, f_bin):\n",
    "    N = len(sol.t)\n",
    "    T = sol.t[1] - sol.t[0]\n",
    "    \n",
    "    h_plus_fft = scipy.fftpack.fft(sol.h_plus)\n",
    "    h_cross_fft = scipy.fftpack.fft(sol.h_cross)\n",
    "    xf = scipy.fftpack.fftfreq(N, T)[:N//2]\n",
    "    \n",
    "    h_plus_fft = h_plus_fft[np.where((xf > f_bin[0]) & (xf < f_bin[1]))]\n",
    "    h_cross_fft = h_cross_fft[np.where((xf > f_bin[0]) & (xf < f_bin[1]))]\n",
    "    xf = xf[np.where((xf > f_bin[0]) & (xf < f_bin[1]))]\n",
    "    \n",
    "    sol.f = xf; sol.h_plus_fft = h_plus_fft; sol.h_cross_fft = h_cross_fft\n",
    "    return sol\n"
   ]
  },
  {
   "cell_type": "code",
   "execution_count": null,
   "metadata": {},
   "outputs": [],
   "source": [
    "def plot_strain(sp, sol, ax_h_plus, ax_f=None, label=\"\", plot_h_cross=False):\n",
    "    l, = ax_h_plus.plot(sol.t/ms.year_to_pc, sol.h_plus, label=label)\n",
    "    if plot_h_cross:\n",
    "        ax_h_cross.plot(sol.t/ms.year_to_pc, sol.h_cross, color=l.get_c(), linestyle='--')\n",
    "    if ax_f is None:\n",
    "        return\n",
    "    ax_f.plot(sol.f/ms.hz_to_invpc, 2.*sol.f*np.abs(sol.h_plus_fft), color=l.get_c())\n"
   ]
  },
  {
   "cell_type": "code",
   "execution_count": null,
   "metadata": {},
   "outputs": [],
   "source": [
    "# Calculate GW signal\n",
    "sol_0 = strain(sp_0, sol_0)\n",
    "sol_0 = strainFFT(sp_0, sol_0, [1e-4*ms.hz_to_invpc, 1e-1*ms.hz_to_invpc])"
   ]
  },
  {
   "cell_type": "code",
   "execution_count": null,
   "metadata": {},
   "outputs": [],
   "source": [
    "# Plot GW signal\n",
    "fig, (ax_h_plus, ax_f) = plt.subplots(2, 1, figsize=(10,12))\n",
    "plot_strain(sp_0, sol_0, ax_h_plus, ax_f=ax_f, label=\"no GW\")\n",
    "\n",
    "ax_h_plus.set_xlabel(\"t / yr\"); ax_h_plus.set_ylabel(\"$h_+$\")\n",
    "ax_h_plus.grid(); ax_h_plus.legend(); ax_h_plus.set_xlim(left=0., right=10./F0/ms.year_to_pc)\n",
    "ax_f.set_xlabel(\"f / Hz\"); ax_f.set_ylabel(\"characteristic strain\"); ax_f.grid(); \n",
    "print(\"orbital freq: \", F0/ms.hz_to_invpc)"
   ]
  },
  {
   "cell_type": "markdown",
   "metadata": {},
   "source": [
    "### Compare to imripy"
   ]
  },
  {
   "cell_type": "code",
   "execution_count": null,
   "metadata": {},
   "outputs": [],
   "source": [
    "# Define different dark matter models\n",
    "m1= 1e3* ms.solar_mass_to_pc\n",
    "m2= 1. * ms.solar_mass_to_pc\n",
    "D = 1e5 \n",
    "\n",
    "rho_spike = 226. * ms.solar_mass_to_pc\n",
    "alpha_spike = 7./3.\n",
    "r_spike = 0.54\n",
    "sp_spike = ms.SystemProp(m1, m2, halo.Spike(rho_spike, r_spike, alpha_spike), D)"
   ]
  },
  {
   "cell_type": "code",
   "execution_count": null,
   "metadata": {},
   "outputs": [],
   "source": [
    "# Initial conditions\n",
    "inspiral.Classic.ln_Lambda = 3.\n",
    "inspiral.Classic.dmPhaseSpaceFraction=1.\n",
    "\n",
    "a0 = 30. * sp_spike.r_isco()\n",
    "e0 = 0.1\n",
    "y0 = initial_conditions(sp_spike, a0, e0)\n",
    "print(y0)\n",
    "F0 = np.sqrt(sp_spike.m_total()/a0**3)/ 2./np.pi\n",
    "nOrbits = 2000\n",
    "t_end = nOrbits/ F0"
   ]
  },
  {
   "cell_type": "code",
   "execution_count": null,
   "metadata": {},
   "outputs": [],
   "source": [
    "def compareModels(sp, sol, ev, ax_a, ax_e=None, label=\"\"):\n",
    "    l1, = ax_a.plot(sol.t, sol.a, label=label + \",GR\")\n",
    "    l2, = ax_a.plot(ev.t, ev.a, label=label + \",imripy\", linestyle='--')\n",
    "    #l3, = ax_a.plot(ev.t, np.abs(interp1d(sol.t, sol.a, kind='cubic', bounds_error=False, fill_value=(0.,0.))(ev.t) - ev.a),\n",
    "    #              label='$\\Delta$')\n",
    "    if not ax_e is None:\n",
    "        ax_e.plot(sol.t, sol.e, color=l1.get_c())\n",
    "        if isinstance(ev.e, np.ndarray):\n",
    "            ax_e.plot(ev.t, ev.e, linestyle='--', color=l2.get_c())\n",
    "        else:\n",
    "            ax_e.plot(ev.t, np.zeros(np.shape(ev.t)), linestyle='--', color=l2.get_c())\n",
    "        #ax_e.plot(ev.t, np.abs(interp1d(sol.t, sol.e, kind='cubic', bounds_error=False, fill_value=(0.,0.))(ev.t) - ev.e),\n",
    "        #          label='$\\Delta$', color=l3.get_c())"
   ]
  },
  {
   "cell_type": "code",
   "execution_count": null,
   "metadata": {},
   "outputs": [],
   "source": [
    "# Evolution of both this code and imripy with GW loss and dynamical friction\n",
    "sol_spike = evolve(sp_spike, y0, t_end, nSteps=20*nOrbits, accretion=False, acc=1e-10)\n",
    "sol_spike = getOrbitalParameters(sp_spike, sol_spike)\n",
    "ev_spike = inspiral.Classic.Evolve(sp_spike, a0, e_0=e0, t_fin = t_end)"
   ]
  },
  {
   "cell_type": "code",
   "execution_count": null,
   "metadata": {},
   "outputs": [],
   "source": [
    "# Plot difference\n",
    "fig, (ax_a, ax_e) = plt.subplots(2, 1, figsize=(10, 12))\n",
    "compareModels(sp_spike, sol_spike, ev_spike, ax_a, ax_e=ax_e if e0 > 0. else None, label=\"spike\")\n",
    "\n",
    "ax_a.grid(); ax_a.legend()\n",
    "ax_a.set_yscale('log')\n",
    "ax_e.grid(); "
   ]
  },
  {
   "cell_type": "code",
   "execution_count": null,
   "metadata": {},
   "outputs": [],
   "source": [
    "# Evolution of both this code and imripy with just GWloss\n",
    "sol_gwOnly = evolve(sp_spike, y0, t_end, nSteps=10*nOrbits, dynamicalFriction=False, accretion=False, acc=1e-12)\n",
    "sol_gwOnly = getOrbitalParameters(sp_spike, sol_gwOnly)\n",
    "ev_gwOnly = inspiral.Classic.Evolve(sp_spike, a0, e_0=e0, t_fin = t_end, \n",
    "                            opt=inspiral.Classic.EvolutionOptions(gwEmissionLoss=True, accretion=False, dynamicalFrictionLoss=False))"
   ]
  },
  {
   "cell_type": "code",
   "execution_count": null,
   "metadata": {},
   "outputs": [],
   "source": [
    "fig, (ax_a, ax_e) = plt.subplots(2, 1, figsize=(10, 12))\n",
    "compareModels(sp_spike, sol_gwOnly, ev_gwOnly, ax_a, ax_e=ax_e, label=\"gwOnly\")\n",
    "\n",
    "ax_a.grid(); ax_a.legend()\n",
    "ax_a.set_yscale('log')\n",
    "ax_e.grid(); "
   ]
  },
  {
   "cell_type": "code",
   "execution_count": null,
   "metadata": {},
   "outputs": [],
   "source": [
    "# Evolution of both this code and imripy with just dynamical friction Loss\n",
    "sol_dfOnly = evolve(sp_spike, y0, t_end, nSteps=10*nOrbits, gwEmission=False, accretion=False, acc=1e-12)\n",
    "sol_dfOnly = getOrbitalParameters(sp_spike, sol_dfOnly)\n",
    "ev_dfOnly = inspiral.Classic.Evolve(sp_spike, a0, e_0=e0, t_fin = t_end, opt=inspiral.Classic.EvolutionOptions(dynamicalFrictionLoss=True, accretion=False, gwEmissionLoss=False))"
   ]
  },
  {
   "cell_type": "code",
   "execution_count": null,
   "metadata": {},
   "outputs": [],
   "source": [
    "fig, (ax_a, ax_e) = plt.subplots(2, 1, figsize=(10, 12))\n",
    "compareModels(sp_spike, sol_dfOnly, ev_dfOnly, ax_a, ax_e=ax_e, label=\"dfOnly\")\n",
    "\n",
    "ax_a.grid(); ax_a.legend()\n",
    "ax_a.set_yscale('log')\n",
    "ax_e.grid(); "
   ]
  },
  {
   "cell_type": "code",
   "execution_count": null,
   "metadata": {},
   "outputs": [],
   "source": [
    "# Evolution of both this code and imripy with just accretion effects\n",
    "sol_accOnly = evolve(sp_spike, y0, t_end, nSteps=10*nOrbits, gwEmission=False, dynamicalFriction=False, accretion=True, accretionRecoil=True, acc=1e-10)\n",
    "sol_accOnly = getOrbitalParameters(sp_spike, sol_accOnly)\n",
    "sp_spike.m2 = m2\n",
    "ev_accOnly = inspiral.Classic.Evolve(sp_spike, a0, e_0=e0, t_fin = t_end, \n",
    "                                    opt=inspiral.Classic.EvolutionOptions(accretion=True, accretionForceLoss=True, accretionRecoilLoss=True, verbose=1, \n",
    "                                                                          gwEmissionLoss=False, dynamicalFrictionLoss=False, accuracy=1e-10))"
   ]
  },
  {
   "cell_type": "code",
   "execution_count": null,
   "metadata": {},
   "outputs": [],
   "source": [
    "fig, (ax_a, ax_e, ax_m) = plt.subplots(3, 1, figsize=(10, 12))\n",
    "compareModels(sp_spike, sol_accOnly, ev_accOnly, ax_a, ax_e=ax_e, label=\"accOnly\")\n",
    "ax_m.plot(sol_accOnly.t, sol_accOnly.y[4]/m2 - 1.)\n",
    "ax_m.plot(ev_accOnly.t, ev_accOnly.m2/m2 - 1., linestyle='--')\n",
    "\n",
    "ax_a.grid(); ax_a.legend()\n",
    "ax_a.set_yscale('log')\n",
    "ax_e.grid(); ax_m.grid()"
   ]
  },
  {
   "cell_type": "code",
   "execution_count": null,
   "metadata": {},
   "outputs": [],
   "source": [
    "print(ev_accOnly.options.accretionForceLoss)"
   ]
  },
  {
   "cell_type": "code",
   "execution_count": null,
   "metadata": {},
   "outputs": [],
   "source": [
    "# Evolution of both this code and imripy with just accretion effects but without accretion recoil Force \n",
    "sp_spike.m2 = m2\n",
    "sol_accOnly = evolve(sp_spike, y0, t_end, nSteps=10*nOrbits, gwEmission=False, dynamicalFriction=False, accretion=True, accretionRecoil=False, acc=1e-11)\n",
    "sol_accOnly = getOrbitalParameters(sp_spike, sol_accOnly)\n",
    "sp_spike.m2 = m2\n",
    "ev_accOnly = inspiral.Classic.Evolve(sp_spike, a0, e_0=e0, t_fin = t_end, \n",
    "                                     opt=inspiral.Classic.EvolutionOptions(accretion=True, accretionForceLoss=True, accretionRecoilLoss=False,\n",
    "                                                                           gwEmissionLoss=False, dynamicalFrictionLoss=False, verbose=1, accuracy=1e-11))"
   ]
  },
  {
   "cell_type": "code",
   "execution_count": null,
   "metadata": {},
   "outputs": [],
   "source": [
    "fig, (ax_a, ax_e, ax_m) = plt.subplots(3, 1, figsize=(10, 12))\n",
    "compareModels(sp_spike, sol_accOnly, ev_accOnly, ax_a, ax_e=ax_e, label=\"accOnly, w/o accForce\")\n",
    "ax_m.plot(sol_accOnly.t, sol_accOnly.y[4]/m2 - 1.)\n",
    "ax_m.plot(ev_accOnly.t, ev_accOnly.m2/m2 - 1., linestyle='--')\n",
    "\n",
    "ax_a.grid(); ax_a.legend()\n",
    "ax_a.set_yscale('log')\n",
    "ax_e.grid(); ax_m.grid()"
   ]
  },
  {
   "cell_type": "code",
   "execution_count": null,
   "metadata": {},
   "outputs": [],
   "source": [
    "print(ev_accOnly.options.accretionForceLoss, ev_accOnly.options.accretionRecoilLoss)"
   ]
  },
  {
   "cell_type": "code",
   "execution_count": null,
   "metadata": {},
   "outputs": [],
   "source": [
    "def compareGWsignal(sp, sol, ev, ax_h, ax_hc=None, label=\"\"):\n",
    "    l1, = ax_h.plot(sol.t, sol.h_plus, label=label+\",GR\")\n",
    "    l2, = ax_h.plot(sol.t, ev.h_plus, linestyle='--', label=label+\"imripy\")\n",
    "    #ax_h.plot(sol.t, ev.h_cross, linestyle='-.', color=l2.get_c())\n",
    "    if ax_hc is None:\n",
    "        return\n",
    "    ax_hc.loglog(sol.f/ms.hz_to_invpc, 2.*sol.f * np.abs(sol.h_plus_fft), color=l1.get_c())\n",
    "    ax_hc.loglog(ev.fgw/ms.hz_to_invpc, 2.*ev.fgw * np.abs(ev.h_2_plus),'o', color=l2.get_c(), linestyle=l2.get_linestyle())"
   ]
  },
  {
   "cell_type": "code",
   "execution_count": null,
   "metadata": {},
   "outputs": [],
   "source": [
    "sol_spike = strain(sp_spike, sol_spike)\n",
    "sol_spike = strainFFT(sp_spike, sol_spike, [1e-4*ms.hz_to_invpc, 1.*ms.hz_to_invpc])\n",
    "\n",
    "ev_h_plus, ev_h_cross = waveform.h(sp_spike, ev_spike, sol_spike.t)\n",
    "ev_fgw, ev_h_2_plus, _, __ = waveform.h_n(2,  sp_spike, ev_spike)\n",
    "ev_spike.h_plus = ev_h_plus; ev_spike.h_cross = ev_h_cross\n",
    "ev_spike.fgw = ev_fgw; ev_spike.h_2_plus = ev_h_2_plus"
   ]
  },
  {
   "cell_type": "code",
   "execution_count": null,
   "metadata": {},
   "outputs": [],
   "source": [
    "fig, (ax_h, ax_hc) = plt.subplots(2, 1, figsize=(10, 10))\n",
    "compareGWsignal(sp_spike, sol_spike, ev_spike, ax_h, ax_hc=ax_hc)\n",
    "\n",
    "ax_h.grid(); ax_h.legend()\n",
    "ax_h.set_xlim(left = (sol_spike.t[-1]-5/F0), right=sol_spike.t[-1])\n",
    "ax_hc.grid(); ax_hc.set_xlim(left=F0/2./ms.hz_to_invpc)"
   ]
  },
  {
   "cell_type": "markdown",
   "metadata": {},
   "source": [
    "### DM model comparison"
   ]
  },
  {
   "cell_type": "code",
   "execution_count": null,
   "metadata": {},
   "outputs": [],
   "source": [
    "# Define different dark matter models\n",
    "m1= 1e3* ms.solar_mass_to_pc\n",
    "m2= 1. * ms.solar_mass_to_pc\n",
    "D = 1e5 \n",
    "\n",
    "sp_0 = ms.SystemProp(m1, m2, halo.ConstHalo(0.), D)\n",
    "\n",
    "rho_spike = 226. * ms.solar_mass_to_pc\n",
    "alpha_spike = 7./3.\n",
    "r_spike = 0.54\n",
    "sp_spike = ms.SystemProp(m1, m2, halo.Spike(rho_spike, r_spike, alpha_spike), D)\n",
    "\n",
    "rho_s = 3.8e-22 * ms.g_cm3_to_invpc2\n",
    "r_s = 23.1\n",
    "sp_nfw = ms.SystemProp(m1, m2, halo.NFW(rho_s, r_s), D)\n",
    "\n",
    "# SIDM profile is missing"
   ]
  },
  {
   "cell_type": "code",
   "execution_count": null,
   "metadata": {},
   "outputs": [],
   "source": [
    "# Define initial conditions\n",
    "a0 = 50. * sp_0.r_isco()\n",
    "e0 = 0.\n",
    "y0 = initial_conditions(sp_0, a0, e0)\n",
    "print(y0)\n",
    "F0 = np.sqrt(sp_0.m_total()/a0**3)/ 2./np.pi\n",
    "nOrbits = 5000\n",
    "t_end = nOrbits/ F0"
   ]
  },
  {
   "cell_type": "code",
   "execution_count": null,
   "metadata": {},
   "outputs": [],
   "source": [
    "# Evolve systems\n",
    "sol_0 = evolve(sp_0, y0, t_end, nSteps=10*nOrbits, accretion=False)\n",
    "sol_spike = evolve(sp_spike, y0, t_end, nSteps=10*nOrbits, accretion=False)\n",
    "sol_nfw = evolve(sp_nfw, y0, t_end, nSteps=10*nOrbits, accretion=False)"
   ]
  },
  {
   "cell_type": "code",
   "execution_count": null,
   "metadata": {},
   "outputs": [],
   "source": [
    "# Plot evolution of keplerian elements\n",
    "fig, (ax_a, ax_e) = plt.subplots(2,1, sharex='all', figsize=(10, 8))\n",
    "fig.subplots_adjust(hspace=0.)\n",
    "sol_0 = plotOrbitalParameters(sp_0, sol_0, ax_a, ax_e, label='no DM')\n",
    "sol_spike = plotOrbitalParameters(sp_spike, sol_spike, ax_a, ax_e, label='Spike')\n",
    "sol_nfw = plotOrbitalParameters(sp_nfw, sol_nfw, ax_a, ax_e, label='nfw')\n",
    "ax_a.grid(); ax_e.grid()\n",
    "ax_a.legend()"
   ]
  },
  {
   "cell_type": "code",
   "execution_count": null,
   "metadata": {},
   "outputs": [],
   "source": [
    "# Calculate GW signal\n",
    "f_band = [1e-4*ms.hz_to_invpc, 1e-1*ms.hz_to_invpc]\n",
    "\n",
    "sol_0 = strain(sp_0, sol_0)\n",
    "sol_0 = strainFFT(sp_0, sol_0, f_band)\n",
    "\n",
    "sol_spike = strain(sp_spike, sol_spike)\n",
    "sol_spike = strainFFT(sp_spike, sol_spike, f_band)\n",
    "\n",
    "sol_nfw = strain(sp_nfw, sol_nfw)\n",
    "sol_nfw = strainFFT(sp_nfw, sol_nfw, f_band)"
   ]
  },
  {
   "cell_type": "code",
   "execution_count": null,
   "metadata": {},
   "outputs": [],
   "source": [
    "# Plot GW signal\n",
    "fig, (ax_h_plus, ax_f) = plt.subplots(2, 1, figsize=(10,12))\n",
    "plot_strain(sp_0, sol_0, ax_h_plus, ax_f=ax_f, label=\"no DM\")\n",
    "plot_strain(sp_spike, sol_spike, ax_h_plus, ax_f=ax_f, label=\"spike\")\n",
    "plot_strain(sp_nfw, sol_nfw, ax_h_plus, ax_f=ax_f, label=\"nfw\")\n",
    "\n",
    "ax_h_plus.set_xlabel(\"t / yr\"); ax_h_plus.set_ylabel(\"$h_+$\")\n",
    "ax_h_plus.grid(); ax_h_plus.legend(); \n",
    "#ax_h_plus.set_xlim(left=0., right=10./F0/ms.year_to_pc)\n",
    "ax_h_plus.set_xlim(left=(sol_spike.t[-1]- 10./F0)/ms.year_to_pc, right=(sol_spike.t[-1])/ms.year_to_pc)\n",
    "ax_f.set_xlabel(\"f / Hz\"); ax_f.set_ylabel(\"characteristic strain\"); ax_f.grid(); \n",
    "print(\"orbital freq: \", F0/ms.hz_to_invpc)"
   ]
  },
  {
   "cell_type": "code",
   "execution_count": null,
   "metadata": {},
   "outputs": [],
   "source": []
  }
 ],
 "metadata": {
  "kernelspec": {
   "display_name": "Python 3",
   "language": "python",
   "name": "python3"
  },
  "language_info": {
   "codemirror_mode": {
    "name": "ipython",
    "version": 3
   },
   "file_extension": ".py",
   "mimetype": "text/x-python",
   "name": "python",
   "nbconvert_exporter": "python",
   "pygments_lexer": "ipython3",
   "version": "3.8.10"
  }
 },
 "nbformat": 4,
 "nbformat_minor": 1
}
