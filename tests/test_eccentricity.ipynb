{
 "cells": [
  {
   "cell_type": "code",
   "execution_count": null,
   "metadata": {},
   "outputs": [],
   "source": [
    "import numpy as np\n",
    "import matplotlib.pyplot as plt\n",
    "import imripy.merger_system as ms\n",
    "from imripy import halo\n",
    "from imripy import inspiral\n",
    "from imripy import waveform\n",
    "from imripy import detector"
   ]
  },
  {
   "cell_type": "code",
   "execution_count": null,
   "metadata": {},
   "outputs": [],
   "source": [
    "m1 = 10.*ms.solar_mass_to_pc\n",
    "m2 = 10.*ms.solar_mass_to_pc\n",
    "D = 5e8\n",
    "\n",
    "sp_0 = ms.SystemProp(m1, m2, halo.ConstHalo(0.), D=D, inclination_angle=np.pi/2., pericenter_angle=np.pi/4.)"
   ]
  },
  {
   "cell_type": "code",
   "execution_count": null,
   "metadata": {},
   "outputs": [],
   "source": [
    "# first, compare to Maggiore 2007\n",
    "a0 = 500.* sp_0.r_isco()\n",
    "afin = 1.*sp_0.r_isco()\n",
    "\n",
    "e0 = 0.9\n",
    "\n",
    "#t_0, a_0, e_0 = inspiral.Classic.evolve_elliptic_binary(sp_0, a0, e0, afin, acc=1e-10)\n",
    "ev_0 =  inspiral.Classic.evolve_elliptic_binary(sp_0, a0, e0, afin, acc=1e-10)"
   ]
  },
  {
   "cell_type": "code",
   "execution_count": null,
   "metadata": {},
   "outputs": [],
   "source": [
    "def g(e):\n",
    "    return e**(12./19.)/(1. - e**2) * (1. + 121./304. * e**2)**(870./2299.)\n",
    "\n",
    "plt.figure(figsize=(16,10))\n",
    "plt.plot(ev_0.e, ev_0.a, label='numeric')\n",
    "plt.plot(ev_0.e, a0 * g(ev_0.e)/g(e0), label='analytic', linestyle='--')\n",
    "plt.xlabel('e'); plt.ylabel('a')\n",
    "plt.yscale('log')\n",
    "plt.grid(); plt.legend()"
   ]
  },
  {
   "cell_type": "code",
   "execution_count": null,
   "metadata": {},
   "outputs": [],
   "source": [
    "# Now compare to 1807.07163\n",
    "a0 = 20.*sp_0.r_isco()\n",
    "e0 = 0.6\n",
    "#t, a, e = inspiral.Classic.evolve_elliptic_binary(sp_0, a0, e0, a_fin = 1e-1*sp_0.r_isco(), acc=1e-12)\n",
    "ev = inspiral.Classic.evolve_elliptic_binary(sp_0, a0, e0, a_fin = 1e-1*sp_0.r_isco(), acc=1e-12)"
   ]
  },
  {
   "cell_type": "code",
   "execution_count": null,
   "metadata": {},
   "outputs": [],
   "source": [
    "fig, (ax_a, ax_e) = plt.subplots(2, 1, figsize=(8,10))\n",
    "ax_a.plot(ev.t/ms.year_to_pc, ev.a)\n",
    "\n",
    "ax_e.plot(ev.t/ms.year_to_pc, ev.e)\n",
    "\n",
    "ax_a.grid(); ax_a.set_xscale('log'); ax_a.set_ylabel('y')\n",
    "ax_e.grid(); ax_e.set_xscale('log'); ax_e.set_ylabel('e'); ax_e.set_xlabel('t / yr')"
   ]
  },
  {
   "cell_type": "code",
   "execution_count": null,
   "metadata": {},
   "outputs": [],
   "source": [
    "n_comp = 20\n",
    "\n",
    "wfs = [waveform.h_n(n, sp_0, ev, acc=1e-13) for n in range(1, n_comp+1)]"
   ]
  },
  {
   "cell_type": "code",
   "execution_count": null,
   "metadata": {},
   "outputs": [],
   "source": [
    "n_disp = 5\n",
    "plt.figure(figsize=(10, 8))\n",
    "\n",
    "for i in range( min(len(wfs), n_disp)):\n",
    "    plt.plot(wfs[i][0]/ms.hz_to_invpc, np.abs(wfs[i][1]), label=r\"$|h^{(\" + str(i+1) + \")}_+|$\")\n",
    "\n",
    "f_gw = np.geomspace(np.min(wfs[0][0]), np.max(wfs[n_disp][0]), 5000)\n",
    "\n",
    "h_plus_tot = np.sum([ np.interp(f_gw, wf[0], wf[1], left=0., right=0.) * np.exp(1.j * np.interp(f_gw, wf[0], wf[3], left=0., right=0.)) for wf in wfs ],  axis=0)\n",
    "h_cross_tot = np.sum([ np.interp(f_gw, wf[0], wf[2], left=0., right=0.) * np.exp(1.j * np.interp(f_gw, wf[0], wf[3], left=0., right=0.)) for wf in wfs ],  axis=0)\n",
    "plt.plot(f_gw/ms.hz_to_invpc, np.abs(h_plus_tot), label=r\"$|h^{SPA}_+|$\")\n",
    "\n",
    "plt.xlim(left=np.min(wfs[0][0])/ms.hz_to_invpc, right=np.max(wfs[n_disp][0])*4e-3/ms.hz_to_invpc)\n",
    "#plt.xscale('log')\n",
    "plt.xlabel('f / Hz'); \n",
    "plt.grid(); plt.legend();"
   ]
  },
  {
   "cell_type": "code",
   "execution_count": null,
   "metadata": {},
   "outputs": [],
   "source": [
    "plt.figure(figsize=(10, 8))\n",
    "plt.loglog(f_gw/ms.hz_to_invpc, 2.*f_gw*np.abs(h_plus_tot), label=r\"$|h^{SPA}_+|$\")\n",
    "#plt.loglog(f_gw, 2.*f_gw*np.abs(h_2_cross), label=r\"$|h^{(2)}_x|$\")\n",
    "\n",
    "f = np.geomspace(detector.Lisa().Bandwith()[0], detector.Lisa().Bandwith()[1], 100)\n",
    "plt.plot(f/ms.hz_to_invpc, detector.Lisa().NoiseStrain(f), label='LISA')\n",
    "\n",
    "plt.ylim(1e-22, 2e-18)\n",
    "#plt.xlim(detector.Lisa().Bandwith()[0]/ms.hz_to_invpc, detector.Lisa().Bandwith()[1]/ms.hz_to_invpc, )\n",
    "plt.xlabel('f / Hz'); plt.ylabel('characteristic strain')\n",
    "plt.grid(); plt.legend();"
   ]
  },
  {
   "cell_type": "code",
   "execution_count": null,
   "metadata": {},
   "outputs": [],
   "source": [
    "t_plot = np.linspace(np.min(ev.t) if ev.t[0] > 0. else ev.t[1]*1e-1, np.max(ev.t), 500)\n",
    "f_plot = np.linspace(np.min(f_gw), np.max(f_gw)/1000., 500)\n",
    "t_plot, f_plot = np.meshgrid(t_plot, f_plot)\n",
    "\n",
    "h_plus_plot = np.zeros(shape=np.shape(t_plot))\n",
    "h_cross_plot = np.zeros(shape=np.shape(t_plot))\n",
    "for i in range(len(t_plot[0])):\n",
    "    for wf in wfs:\n",
    "        #print(t_plot[i,0])\n",
    "        f = np.interp(t_plot[0, i], ev.t, wf[0], left=0., right=0.)\n",
    "        index_f = (np.abs(f_plot[:, i] - f)).argmin()\n",
    "        #print(f, f_plot[i], index_f)\n",
    "        h_plus_plot[index_f, i] = np.abs(np.interp(f_plot[index_f, i], wf[0], wf[1]))\n",
    "        h_cross_plot[index_f, i] = np.abs(np.interp(f_plot[index_f, i], wf[0], wf[2]))\n",
    "        \n",
    "h_plus_plot = h_plus_plot/np.max(h_plus_plot)\n",
    "\n",
    "plt.figure(figsize=(10, 8))\n",
    "#plt.xscale('log'); plt.yscale('log')\n",
    "plt.contourf( t_plot/ms.s_to_pc, f_plot/ms.hz_to_invpc, h_plus_plot, cmap=plt.get_cmap(\"YlOrRd\"))\n",
    "\n",
    "plt.figure(figsize=(10, 8))\n",
    "#plt.xscale('log'); plt.yscale('log')\n",
    "plt.contourf( t_plot/ms.s_to_pc, f_plot/ms.hz_to_invpc, h_cross_plot, cmap=plt.get_cmap(\"YlOrRd\"))\n",
    "\n",
    "plt.show()"
   ]
  },
  {
   "cell_type": "code",
   "execution_count": null,
   "metadata": {},
   "outputs": [],
   "source": [
    "# Now compare eccentricity and circular implementation for consistency\n",
    "from scipy.interpolate import interp1d\n",
    "D = 1e3\n",
    "m1 = 1e3 * ms.solar_mass_to_pc\n",
    "m2 = 1e0 * ms.solar_mass_to_pc\n",
    "sp_dm = ms.SystemProp(m1, m2, halo.Spike(226.*ms.solar_mass_to_pc, 0.54, 7./3.), D=D, inclination_angle=np.pi/3.)"
   ]
  },
  {
   "cell_type": "code",
   "execution_count": null,
   "metadata": {},
   "outputs": [],
   "source": [
    "a0 = 100.*sp_dm.r_isco()\n",
    "e0 = 0.001\n",
    "afin= 1.*sp_dm.r_isco()\n",
    "\n",
    "ev_circ = inspiral.Classic.evolve_circular_binary(sp_dm, a0, R_fin=afin, acc=1e-12)\n",
    "ev_ecc = inspiral.Classic.evolve_elliptic_binary(sp_dm, a0, e0, a_fin=afin, acc=1e-12)"
   ]
  },
  {
   "cell_type": "code",
   "execution_count": null,
   "metadata": {},
   "outputs": [],
   "source": [
    "plt.figure(figsize=(16, 10))\n",
    "plt.loglog(ev_ecc.t, ev_ecc.a, label='$a_{ecc}$')\n",
    "plt.loglog(ev_circ.t, ev_circ.a, label='$a_{circ}$')\n",
    "plt.loglog(ev_circ.t, np.abs(ev_circ.a - interp1d(ev_ecc.t, ev_ecc.a, kind='cubic', bounds_error=False, fill_value=(0.,0.))(ev_circ.t))/ev_circ.a\n",
    "                         , label=r'$|\\Delta a|/a_{circ}$')\n",
    "plt.loglog(ev_ecc.t, ev_ecc.e, label='$e_{ecc}$')\n",
    "plt.xlabel('t')\n",
    "plt.grid(); plt.legend()"
   ]
  },
  {
   "cell_type": "code",
   "execution_count": null,
   "metadata": {},
   "outputs": [],
   "source": [
    "print(ev_ecc.a, ev_ecc.e)"
   ]
  },
  {
   "cell_type": "code",
   "execution_count": null,
   "metadata": {},
   "outputs": [],
   "source": [
    "f_gw_circ, h_plus_circ, h_cross_circ, Psi_circ, _, Phi_circ, __ = waveform.h_2(sp_dm, ev_circ, dbg=True)\n",
    "f_gw_ecc, h_plus_ecc, h_cross_ecc, Psi_ecc, Phi_ecc, _ = waveform.h_n(2, sp_dm, ev_ecc, dbg=True)"
   ]
  },
  {
   "cell_type": "code",
   "execution_count": null,
   "metadata": {},
   "outputs": [],
   "source": [
    "plt.figure(figsize=(16, 10))\n",
    "plt.loglog(f_gw_circ/ms.hz_to_invpc, h_plus_circ, label=\"$h_{+}^{circ}$\")\n",
    "plt.loglog(f_gw_ecc/ms.hz_to_invpc,  np.abs(h_plus_ecc), linestyle=\"--\", label=\"$h_{+}^{ecc}$\")\n",
    "plt.loglog(f_gw_circ/ms.hz_to_invpc, h_cross_circ, label=\"$h_{x}^{circ}$\")\n",
    "plt.loglog(f_gw_ecc/ms.hz_to_invpc,  np.abs(h_cross_ecc), linestyle=\"--\", label=\"$h_{x}^{ecc}$\")\n",
    "\n",
    "plt.grid(); plt.legend()"
   ]
  },
  {
   "cell_type": "code",
   "execution_count": null,
   "metadata": {},
   "outputs": [],
   "source": [
    "plt.figure(figsize=(16,10))\n",
    "plt.loglog(f_gw_ecc/ms.hz_to_invpc, Phi_ecc, label='$\\Phi_{ecc}$')\n",
    "plt.loglog(f_gw_circ/ms.hz_to_invpc, Phi_circ, label='$\\Phi_{circ}$')\n",
    "plt.loglog(f_gw_circ/ms.hz_to_invpc, np.abs(Phi_circ \n",
    "                                            - interp1d(f_gw_ecc, Phi_ecc, kind='cubic', fill_value=(0.,0.), bounds_error=False)(f_gw_circ))\n",
    "                       , label='$|\\Delta\\Phi|$' )\n",
    "\n",
    "plt.legend(); plt.grid()"
   ]
  },
  {
   "cell_type": "code",
   "execution_count": null,
   "metadata": {},
   "outputs": [],
   "source": []
  }
 ],
 "metadata": {
  "kernelspec": {
   "display_name": "Python 3",
   "language": "python",
   "name": "python3"
  },
  "language_info": {
   "codemirror_mode": {
    "name": "ipython",
    "version": 3
   },
   "file_extension": ".py",
   "mimetype": "text/x-python",
   "name": "python",
   "nbconvert_exporter": "python",
   "pygments_lexer": "ipython3",
   "version": "3.8.10"
  }
 },
 "nbformat": 4,
 "nbformat_minor": 4
}
