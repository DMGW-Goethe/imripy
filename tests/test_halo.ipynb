{
 "cells": [
  {
   "cell_type": "code",
   "execution_count": null,
   "metadata": {},
   "outputs": [],
   "source": [
    "import numpy as np\n",
    "import matplotlib.pyplot as plt\n",
    "import imripy.halo\n",
    "from imripy import merger_system as ms\n",
    "import time"
   ]
  },
  {
   "cell_type": "markdown",
   "metadata": {},
   "source": [
    "## Compare the analytic mass function of the halo profiles with the numeric integration"
   ]
  },
  {
   "cell_type": "code",
   "execution_count": null,
   "metadata": {},
   "outputs": [],
   "source": [
    "def CompareMassFunction(halo, r_grid, ax):\n",
    "    tic = time.perf_counter()\n",
    "    m_ana = halo.mass(r_grid)  # Here we call the analytic expression\n",
    "    toc = time.perf_counter()\n",
    "    t_ana = toc - tic\n",
    "\n",
    "    tic = time.perf_counter()\n",
    "    m_num = imripy.halo.MatterHalo.mass(halo, r_grid) # Here we call the numerical odeint integration in the base class\n",
    "    #m_num = [imripy.halo.MatterHalo.mass(halo, r) for r in r_grid]  # Here we call the numerical quad integration in the base class\n",
    "    toc = time.perf_counter()\n",
    "    t_num = toc - tic\n",
    "\n",
    "    print(\"Comparing implementation for \" + str(halo))\n",
    "    print(\"elapsed time in analytic case: \", t_ana)\n",
    "    print(\"elapsed time in numeric case:\", t_num)\n",
    "    print(\"The average relative error is \", np.average(np.abs(m_num/m_ana - 1.)))\n",
    "    print(\"The maximal relative error is \", np.max(np.abs(m_num/m_ana - 1.)))\n",
    "\n",
    "    l, = ax.loglog(r_grid, m_ana, alpha=0.5, label=str(halo) + ',analytic')\n",
    "    ax.loglog(r_grid, m_num, color=l.get_c(), linestyle='--', label=str(halo) + ',numeric')"
   ]
  },
  {
   "cell_type": "code",
   "execution_count": null,
   "metadata": {},
   "outputs": [],
   "source": [
    "n = 1000\n",
    "r_grid = np.geomspace(1e-5, 1e5, n)\n",
    "\n",
    "# Test numerical and analytical mass functions\n",
    "plt.figure(figsize=(16, 10)); ax = plt.gca()\n",
    "CompareMassFunction(imripy.halo.ConstHalo(1.), r_grid, ax)\n",
    "CompareMassFunction(imripy.halo.NFW(1., 1e2), r_grid, ax)\n",
    "CompareMassFunction(imripy.halo.SpikedNFW(1., 1e3, 1e-2, 7./3.), r_grid, ax)\n",
    "CompareMassFunction(imripy.halo.Spike(1., 1e-2, 7./3.), r_grid, ax)\n",
    "CompareMassFunction(imripy.halo.Hernquist(1., 1e0), r_grid, ax)\n",
    "ax.set_xlabel(\"r\")\n",
    "ax.set_ylabel(\"m\")\n",
    "plt.grid(); plt.legend();\n",
    "plt.show()"
   ]
  },
  {
   "cell_type": "markdown",
   "metadata": {},
   "source": [
    "## Compare the results from the Eddington inversion procedure with the analytic equations"
   ]
  },
  {
   "cell_type": "code",
   "execution_count": null,
   "metadata": {},
   "outputs": [],
   "source": [
    "from scipy.integrate import quad, odeint\n",
    "from scipy.interpolate import interp1d"
   ]
  },
  {
   "cell_type": "code",
   "execution_count": null,
   "metadata": {},
   "outputs": [],
   "source": [
    "def TestEddingtonInversion(halo, r_grid, ax_r, ax_eps, extPotential=None, f_ana=None, pot_ana=None):\n",
    "    if extPotential is None:  # Invert density function in its own potential\n",
    "        integrand = lambda r, m: halo.mass(np.abs(r))/r**2\n",
    "        Phi_inf = quad(integrand, r_grid[-1], np.inf, args=(0.), limit=200)[0]\n",
    "        Phi_inf = np.clip(Phi_inf, 1e-50, None)\n",
    "        extPotential =  odeint(integrand, Phi_inf, -r_grid[::-1], tfirst=True, atol=1e-10, rtol=1e-10)[::-1,0]\n",
    "        extPotential = interp1d(r_grid, extPotential, kind='cubic', bounds_error=False, fill_value=(0.,0.))\n",
    "\n",
    "    if not pot_ana is None:\n",
    "        l, = ax_r.loglog(r_grid, extPotential(r_grid), linestyle='--', label=str(halo) + ' $\\Phi$, recovered')\n",
    "        ax_r.loglog(r_grid, pot_ana(r_grid), color=l.get_c(), alpha=0.5, label=str(halo) + ' $\\Phi$, analytic')\n",
    "\n",
    "    Eps_grid = np.geomspace(extPotential(r_grid[-1]), extPotential(r_grid[0]), 500)\n",
    "    haloRec = imripy.halo.DynamicSS.FromStatic(Eps_grid, halo, extPotential)   # Here the Eddington inversion is called\n",
    "    \n",
    "    l, = ax_r.loglog(r_grid, halo.density(r_grid), alpha=0.5, label=str(halo) + ',static')  # Plot for comparison\n",
    "    ax_r.loglog(r_grid, haloRec.density(r_grid), color=l.get_c(), linestyle='--', label=str(halo) + ',recovered')\n",
    "    ax_eps.loglog(Eps_grid, haloRec.f_grid, color=l.get_c(), linestyle='--', label=str(halo) +',recovered')\n",
    "    if not f_ana is None:\n",
    "        ax_eps.loglog(Eps_grid, f_ana(Eps_grid), color=l.get_c(), alpha = 0.5 , label=str(halo) + ',analytic')\n",
    "    return haloRec"
   ]
  },
  {
   "cell_type": "code",
   "execution_count": null,
   "metadata": {},
   "outputs": [],
   "source": [
    "fig, (ax_r, ax_eps) = plt.subplots(2, 1, figsize=(20,20));\n",
    "n = 1000\n",
    "r_grid = np.geomspace(1e-5, 1e5, n)\n",
    "\n",
    "# Test Eddington inversion for Spike profile with known analytic equations\n",
    "Spike = imripy.halo.Spike(1., 1e-2, 7./3.)\n",
    "extPotential = lambda r : 1./r\n",
    "from scipy.special import gamma\n",
    "f_ana = lambda E : Spike.rho_spike * Spike.alpha*(Spike.alpha-1.)/(2.*np.pi)**(3./2.) * (Spike.r_spike/1.)**Spike.alpha * gamma(Spike.alpha-1.)/gamma(Spike.alpha-1./2.) * E**(Spike.alpha-3./2.)\n",
    "TestEddingtonInversion( Spike , r_grid, ax_r, ax_eps, extPotential, f_ana)\n",
    "\n",
    "# Test Eddington inversion for Hernquist profile with known analytic equations\n",
    "Hern = imripy.halo.Hernquist(1., 1e1)\n",
    "def f_ana_Hern(Eps):\n",
    "    M = 2.*np.pi * Hern.rho_s * Hern.r_s**3\n",
    "    E = Eps*Hern.r_s/M\n",
    "    return (M * Hern.r_s)**(-3./2.)/np.sqrt(2)/(2.*np.pi)**3 * np.sqrt(E)/(1-E)**2  *( (1.-2*E)*(8.*E**2 - 8.*E - 3.) + 3.*np.arcsin(np.sqrt(E)) / np.sqrt(E*(1-E))  )\n",
    "def pot_ana_Hern(r):\n",
    "    M = 2.*np.pi * Hern.rho_s * Hern.r_s**3\n",
    "    return M/(r + Hern.r_s)\n",
    "\n",
    "TestEddingtonInversion( Hern , r_grid, ax_r, ax_eps, extPotential=None, f_ana=f_ana_Hern, pot_ana=pot_ana_Hern)\n",
    "\n",
    "ax_eps.grid(); ax_eps.legend(); ax_eps.set_xlabel(r\"$\\varepsilon$\"); ax_eps.set_ylabel(\"f\")\n",
    "ax_r.grid(); ax_r.legend(); ax_r.set_xlabel(\"r\")\n",
    "plt.show()"
   ]
  },
  {
   "cell_type": "markdown",
   "metadata": {},
   "source": [
    "### Compare Spike parametrizations"
   ]
  },
  {
   "cell_type": "code",
   "execution_count": null,
   "metadata": {},
   "outputs": [],
   "source": [
    "m1 = 1e3 * ms.solar_mass_to_pc\n",
    "alpha = 7./3.\n",
    "rho_spike = 226*ms.solar_mass_to_pc\n",
    "r_spike = ( (3-alpha)* 0.2**(3-alpha) * m1 / 2. / np.pi / rho_spike)**(1./3)\n",
    "s1 = imripy.halo.Spike(rho_spike, r_spike, alpha)\n",
    "rho_6 = 5.448*1e15 * ms.solar_mass_to_pc\n",
    "s2 = imripy.halo.Spike.FromRho6(rho_6, m1, alpha)\n",
    "print(s1.rho_spike, s1.r_spike, s1.alpha)\n",
    "print(s2.rho_spike, s2.r_spike, s2.alpha)"
   ]
  },
  {
   "cell_type": "code",
   "execution_count": null,
   "metadata": {},
   "outputs": [],
   "source": []
  }
 ],
 "metadata": {
  "kernelspec": {
   "display_name": "Python 3",
   "language": "python",
   "name": "python3"
  },
  "language_info": {
   "codemirror_mode": {
    "name": "ipython",
    "version": 3
   },
   "file_extension": ".py",
   "mimetype": "text/x-python",
   "name": "python",
   "nbconvert_exporter": "python",
   "pygments_lexer": "ipython3",
   "version": "3.8.10"
  }
 },
 "nbformat": 4,
 "nbformat_minor": 4
}
