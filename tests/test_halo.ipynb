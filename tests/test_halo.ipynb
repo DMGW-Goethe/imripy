{
 "cells": [
  {
   "cell_type": "code",
   "execution_count": 1,
   "metadata": {},
   "outputs": [],
   "source": [
    "import numpy as np\n",
    "import matplotlib.pyplot as plt\n",
    "import imripy.halo\n",
    "from imripy import merger_system as ms\n",
    "import time"
   ]
  },
  {
   "cell_type": "markdown",
   "metadata": {},
   "source": [
    "## Compare the analytic mass function of the halo profiles with the numeric integration"
   ]
  },
  {
   "cell_type": "code",
   "execution_count": null,
   "metadata": {},
   "outputs": [],
   "source": [
    "def CompareMassFunction(halo, r_grid, ax):\n",
    "    tic = time.perf_counter()\n",
    "    m_ana = halo.mass(r_grid)  # Here we call the analytic expression\n",
    "    toc = time.perf_counter()\n",
    "    t_ana = toc - tic\n",
    "\n",
    "    tic = time.perf_counter()\n",
    "    m_num = imripy.halo.MatterHalo.mass(halo, r_grid) # Here we call the numerical odeint integration in the base class\n",
    "    #m_num = [imripy.halo.MatterHalo.mass(halo, r) for r in r_grid]  # Here we call the numerical quad integration in the base class\n",
    "    toc = time.perf_counter()\n",
    "    t_num = toc - tic\n",
    "\n",
    "    print(\"Comparing implementation for \" + str(halo))\n",
    "    print(\"elapsed time in analytic case: \", t_ana)\n",
    "    print(\"elapsed time in numeric case:\", t_num)\n",
    "    print(\"The average relative error is \", np.average(np.abs(m_num/m_ana - 1.)))\n",
    "    print(\"The maximal relative error is \", np.max(np.abs(m_num/m_ana - 1.)))\n",
    "\n",
    "    l, = ax.loglog(r_grid, m_ana, alpha=0.5, label=str(halo) + ',analytic')\n",
    "    ax.loglog(r_grid, m_num, color=l.get_c(), linestyle='--', label=str(halo) + ',numeric')"
   ]
  },
  {
   "cell_type": "code",
   "execution_count": null,
   "metadata": {},
   "outputs": [],
   "source": [
    "n = 1000\n",
    "r_grid = np.geomspace(1e-5, 1e5, n)\n",
    "\n",
    "# Test numerical and analytical mass functions\n",
    "plt.figure(figsize=(16, 10)); ax = plt.gca()\n",
    "CompareMassFunction(imripy.halo.ConstHalo(1.), r_grid, ax)\n",
    "CompareMassFunction(imripy.halo.NFW(1., 1e2), r_grid, ax)\n",
    "CompareMassFunction(imripy.halo.SpikedNFW(1., 1e3, 1e-2, 7./3.), r_grid, ax)\n",
    "CompareMassFunction(imripy.halo.Spike(1., 1e-2, 7./3.), r_grid, ax)\n",
    "CompareMassFunction(imripy.halo.Hernquist(1., 1e0), r_grid, ax)\n",
    "ax.set_xlabel(\"r\")\n",
    "ax.set_ylabel(\"m\")\n",
    "plt.grid(); plt.legend();\n",
    "plt.show()"
   ]
  },
  {
   "cell_type": "markdown",
   "metadata": {},
   "source": [
    "## Compare the results from the Eddington inversion procedure with the analytic equations"
   ]
  },
  {
   "cell_type": "code",
   "execution_count": null,
   "metadata": {},
   "outputs": [],
   "source": [
    "from scipy.integrate import quad, odeint\n",
    "from scipy.interpolate import interp1d"
   ]
  },
  {
   "cell_type": "code",
   "execution_count": null,
   "metadata": {},
   "outputs": [],
   "source": [
    "def TestEddingtonInversion(halo, r_grid, ax_r, ax_eps, extPotential=None, f_ana=None, pot_ana=None):\n",
    "    if extPotential is None:  # Invert density function in its own potential\n",
    "        integrand = lambda r, m: halo.mass(np.abs(r))/r**2\n",
    "        Phi_inf = quad(integrand, r_grid[-1], np.inf, args=(0.), limit=200)[0]\n",
    "        Phi_inf = np.clip(Phi_inf, 1e-50, None)\n",
    "        extPotential =  odeint(integrand, Phi_inf, -r_grid[::-1], tfirst=True, atol=1e-10, rtol=1e-10)[::-1,0]\n",
    "        extPotential = interp1d(r_grid, extPotential, kind='cubic', bounds_error=False, fill_value=(0.,0.))\n",
    "\n",
    "    if not pot_ana is None:\n",
    "        l, = ax_r.loglog(r_grid, extPotential(r_grid), linestyle='--', label=str(halo) + ' $\\Phi$, recovered')\n",
    "        ax_r.loglog(r_grid, pot_ana(r_grid), color=l.get_c(), alpha=0.5, label=str(halo) + ' $\\Phi$, analytic')\n",
    "\n",
    "    Eps_grid = np.geomspace(extPotential(r_grid[-1]), extPotential(r_grid[0]), 500)\n",
    "    haloRec = imripy.halo.DynamicSS.FromStatic(Eps_grid, halo, extPotential)   # Here the Eddington inversion is called\n",
    "    \n",
    "    l, = ax_r.loglog(r_grid, halo.density(r_grid), alpha=0.5, label=str(halo) + ',static')  # Plot for comparison\n",
    "    ax_r.loglog(r_grid, haloRec.density(r_grid), color=l.get_c(), linestyle='--', label=str(halo) + ',recovered')\n",
    "    ax_eps.loglog(Eps_grid, haloRec.f_grid, color=l.get_c(), linestyle='--', label=str(halo) +',recovered')\n",
    "    if not f_ana is None:\n",
    "        ax_eps.loglog(Eps_grid, f_ana(Eps_grid), color=l.get_c(), alpha = 0.5 , label=str(halo) + ',analytic')\n",
    "    return haloRec"
   ]
  },
  {
   "cell_type": "code",
   "execution_count": null,
   "metadata": {},
   "outputs": [],
   "source": [
    "fig, (ax_r, ax_eps) = plt.subplots(2, 1, figsize=(20,20));\n",
    "n = 1000\n",
    "r_grid = np.geomspace(1e-5, 1e5, n)\n",
    "\n",
    "# Test Eddington inversion for Spike profile with known analytic equations\n",
    "Spike = imripy.halo.Spike(1., 1e-2, 7./3.)\n",
    "extPotential = lambda r : 1./r\n",
    "from scipy.special import gamma\n",
    "f_ana = lambda E : Spike.rho_spike * Spike.alpha*(Spike.alpha-1.)/(2.*np.pi)**(3./2.) * (Spike.r_spike/1.)**Spike.alpha * gamma(Spike.alpha-1.)/gamma(Spike.alpha-1./2.) * E**(Spike.alpha-3./2.)\n",
    "TestEddingtonInversion( Spike , r_grid, ax_r, ax_eps, extPotential, f_ana)\n",
    "\n",
    "# Test Eddington inversion for Hernquist profile with known analytic equations\n",
    "Hern = imripy.halo.Hernquist(1., 1e1)\n",
    "def f_ana_Hern(Eps):\n",
    "    M = 2.*np.pi * Hern.rho_s * Hern.r_s**3\n",
    "    E = Eps*Hern.r_s/M\n",
    "    return (M * Hern.r_s)**(-3./2.)/np.sqrt(2)/(2.*np.pi)**3 * np.sqrt(E)/(1-E)**2  *( (1.-2*E)*(8.*E**2 - 8.*E - 3.) + 3.*np.arcsin(np.sqrt(E)) / np.sqrt(E*(1-E))  )\n",
    "def pot_ana_Hern(r):\n",
    "    M = 2.*np.pi * Hern.rho_s * Hern.r_s**3\n",
    "    return M/(r + Hern.r_s)\n",
    "\n",
    "TestEddingtonInversion( Hern , r_grid, ax_r, ax_eps, extPotential=None, f_ana=f_ana_Hern, pot_ana=pot_ana_Hern)\n",
    "\n",
    "ax_eps.grid(); ax_eps.legend(); ax_eps.set_xlabel(r\"$\\varepsilon$\"); ax_eps.set_ylabel(\"f\")\n",
    "ax_r.grid(); ax_r.legend(); ax_r.set_xlabel(\"r\")\n",
    "plt.show()"
   ]
  },
  {
   "cell_type": "markdown",
   "metadata": {},
   "source": [
    "### Compare Spike parametrizations"
   ]
  },
  {
   "cell_type": "code",
   "execution_count": null,
   "metadata": {},
   "outputs": [],
   "source": [
    "m1 = 1e3 * ms.solar_mass_to_pc\n",
    "alpha = 7./3.\n",
    "rho_spike = 226*ms.solar_mass_to_pc\n",
    "r_spike = ( (3-alpha)* 0.2**(3-alpha) * m1 / 2. / np.pi / rho_spike)**(1./3)\n",
    "s1 = imripy.halo.Spike(rho_spike, r_spike, alpha)\n",
    "rho_6 = 5.448*1e15 * ms.solar_mass_to_pc\n",
    "s2 = imripy.halo.Spike.FromRho6(rho_6, m1, alpha)\n",
    "print(s1.rho_spike, s1.r_spike, s1.alpha)\n",
    "print(s2.rho_spike, s2.r_spike, s2.alpha)"
   ]
  },
  {
   "cell_type": "markdown",
   "metadata": {},
   "source": [
    "## Test averaging method"
   ]
  },
  {
   "cell_type": "code",
   "execution_count": null,
   "metadata": {},
   "outputs": [],
   "source": [
    "m1 = 1e3 * ms.solar_mass_to_pc\n",
    "m2 = 1. * ms.solar_mass_to_pc\n",
    "alpha = 7./3.\n",
    "rho_spike = 226*ms.solar_mass_to_pc\n",
    "r_spike = ( (3-alpha)* 0.2**(3-alpha) * m1 / 2. / np.pi / rho_spike)**(1./3)\n",
    "sp_stat = ms.SystemProp(m1, m2, imripy.halo.Spike(rho_spike, r_spike, alpha))"
   ]
  },
  {
   "cell_type": "code",
   "execution_count": null,
   "metadata": {},
   "outputs": [],
   "source": [
    "def makeDynamicSpike(sp_stat):\n",
    "    extPotential = lambda r:sp_stat.m1/r\n",
    "    r_grid = np.geomspace(1e-1*sp_stat.r_isco(), 1e8*sp_stat.r_isco(), 100)\n",
    "    Eps_grid = np.geomspace(extPotential(r_grid[-1]), extPotential(r_grid[0]), 500)\n",
    "    dynSpike = imripy.halo.DynamicSS.FromSpike(Eps_grid, sp_stat, sp_stat.halo)\n",
    "    sp_dyn = ms.SystemProp(sp_stat.m1, sp_stat.m2, dynSpike, sp_stat.D)\n",
    "    return sp_dyn"
   ]
  },
  {
   "cell_type": "code",
   "execution_count": null,
   "metadata": {},
   "outputs": [],
   "source": [
    "sp_dyn  = makeDynamicSpike(sp_stat)"
   ]
  },
  {
   "cell_type": "code",
   "execution_count": null,
   "metadata": {},
   "outputs": [],
   "source": [
    "plt.figure(figsize=(12,6))\n",
    "sigma_acc = lambda r, v: (1+v**2)/v**2\n",
    "a0 = 100.*sp_dyn.r_isco()\n",
    "r0 = 80.*sp_dyn.r_isco()\n",
    "v_s = np.sqrt(sp_dyn.m_total()*(2./a0 - 1./r0))\n",
    "\n",
    "v = np.linspace(0., np.sqrt(2)*v_s, 100)\n",
    "\n",
    "plt.plot(v/v_s, sigma_acc(r0, v), label=\"$F_{acc}$\")\n",
    "#plt.plot(v/v_s, v**2 * sp_dyn.halo.f(sp_dyn.halo.potential(r0) - 0.5*v**2), label=\"$v^2 f$\")\n",
    "plt.axhline(sp_dyn.halo.psdAveragedQuantity(sigma_acc, r0, v_max=v_s), label=\"$<F_{acc}>$\", linestyle='--')\n",
    "#plt.axhline(sp_dyn.halo.density(r0, v_max=v_s)/v_s**3, label=\"$<F_{acc}>'$\", linestyle='-.', color='red')\n",
    "plt.axhline(sigma_acc(r0, v_s), label=\"$F_{acc}$\")\n",
    "print(\"relative strength: \", sp_dyn.halo.psdAveragedQuantity(sigma_acc, r0, v_max=v_s)/sigma_acc(r0, v_s))\n",
    "plt.legend(); plt.yscale('log')\n",
    "plt.grid()"
   ]
  },
  {
   "cell_type": "code",
   "execution_count": null,
   "metadata": {},
   "outputs": [],
   "source": [
    "plt.figure(figsize=(12,6))\n",
    "\n",
    "a0 = 100.*sp_dyn.r_isco()\n",
    "r0 = 80.*sp_dyn.r_isco()\n",
    "v_s = np.sqrt(sp_dyn.m_total()*(2./a0 - 1./r0))\n",
    "\n",
    "sigma_acc = lambda r, v: 1./(v-v_s)**4\n",
    "v = np.linspace(0., np.sqrt(2)*v_s, 100)\n",
    "\n",
    "plt.plot(v/v_s, sigma_acc(r0, v), label=\"$F_{acc}$\")\n",
    "#plt.plot(v/v_s, v**2 * sp_dyn.halo.f(sp_dyn.halo.potential(r0) - 0.5*v**2), label=\"$v^2 f$\")\n",
    "plt.axhline(sp_dyn.halo.psdAveragedQuantity(sigma_acc, r0, v_max=v_s), label=\"$<F_{acc}>$\", linestyle='--')\n",
    "#plt.axhline(sp_dyn.halo.density(r0, v_max=v_s)/v_s**3, label=\"$<F_{acc}>'$\", linestyle='-.', color='red')\n",
    "plt.axhline(sigma_acc(r0, v_s), label=\"$F_{acc}$\")\n",
    "print(\"relative strength: \", sp_dyn.halo.psdAveragedQuantity(sigma_acc, r0, v_max=v_s)/sigma_acc(r0, v_s))\n",
    "plt.legend(); plt.yscale('log')\n",
    "plt.grid()"
   ]
  },
  {
   "cell_type": "code",
   "execution_count": null,
   "metadata": {},
   "outputs": [],
   "source": [
    "def sigma_acc(delta_v, delta_v_min):\n",
    "    return np.where(np.abs(delta_v) > delta_v_min, 1./delta_v**4, 0.)\n",
    "plt.figure(figsize=(12,6))\n",
    "\n",
    "a0 = 100.*sp_dyn.r_isco()\n",
    "r0 = 80.*sp_dyn.r_isco()\n",
    "v_s = np.sqrt(sp_dyn.m_total()*(2./a0 - 1./r0))\n",
    "\n",
    "v = np.linspace(0., np.sqrt(2)*v_s, 100)\n",
    "delta_v_min = np.geomspace(1e-5*v_s, v_s, 6)\n",
    "plt.plot(v/v_s, sigma_acc(v+v_s, 0.), label=\"$\\sigma_{acc}$\")\n",
    "\n",
    "color_cycle = plt.gca()._get_lines.prop_cycler\n",
    "    \n",
    "for dvm in delta_v_min:\n",
    "    c =  next(color_cycle)['color']\n",
    "    plt.axhline(sp_dyn.halo.psdAveragedQuantity(lambda r,v: sigma_acc(v+v_s, dvm), r0, v_max=v_s), label=f\"$<\\sigma_{{acc}}>, \\Delta v_{{min}}={dvm/v_s:.0e}v_s$\", linestyle='--', color=c)\n",
    "#plt.plot(v/v_s, v**2 * sp_dyn.halo.f(sp_dyn.halo.potential(r0) - 0.5*v**2), label=\"$v^2 f$\")\n",
    "#plt.axhline(sp_dyn.halo.psdAveragedQuantity(sigma_acc, r0, v_max=v_s), label=\"$<F_{acc}>$\", linestyle='--')\n",
    "#plt.axhline(sp_dyn.halo.density(r0, v_max=v_s)/v_s**3, label=\"$<F_{acc}>'$\", linestyle='-.', color='red')\n",
    "#plt.axhline(sigma_acc(r0, v_s), label=\"$F_{acc}$\")\n",
    "#print(\"relative strength: \", sp_dyn.halo.psdAveragedQuantity(sigma_acc, r0, v_max=v_s)/sigma_acc(r0, v_s))\n",
    "plt.legend(); plt.yscale('log')\n",
    "plt.grid()"
   ]
  },
  {
   "cell_type": "markdown",
   "metadata": {},
   "source": [
    "## Test Michel accretion density distribution"
   ]
  },
  {
   "cell_type": "code",
   "execution_count": 15,
   "metadata": {},
   "outputs": [
    {
     "name": "stdout",
     "output_type": "stream",
     "text": [
      "MichelAccretion(M=4.7999999999999996e-11, M_dot=1.1829215436114338e-24, M_dot/M_dot_Edd=3.432264781842266e-06, rho_c=5.778014140880662e-08, u_c=0.07071067811865475, kappa=1.0, Gamma=1.3333333333333333)\n"
     ]
    }
   ],
   "source": [
    "m1 = 1e3*ms.solar_mass_to_pc\n",
    "\n",
    "#Kappa = 1./ms.g_cm3_to_invpc2\n",
    "Kappa =1.\n",
    "gamma = 4./3.\n",
    "\n",
    "r_c = 100.*m1\n",
    "\n",
    "halo = imripy.halo.MichelAccretion(m1, r_c, Kappa, gamma)\n",
    "print(halo)"
   ]
  },
  {
   "cell_type": "code",
   "execution_count": 16,
   "metadata": {},
   "outputs": [
    {
     "name": "stdout",
     "output_type": "stream",
     "text": [
      "MichelAccretion(M=4.7999999999999996e-11, M_dot=1.1622309662244404e-24, M_dot/M_dot_Edd=3.372230758060308e-06, rho_c=5.583359951605328e-08, u_c=0.07031994310597299, kappa=1.0, Gamma=1.3333333333333333)\n"
     ]
    }
   ],
   "source": [
    "M_dot = 4.*np.pi * halo.r_c**2 * halo.u_c * halo.rho_c\n",
    "rho_infty = (((1. + gamma*Kappa/(gamma-1.)*halo.rho_c**(gamma-1.))*np.sqrt(1.-2.*halo.M/halo.r_c + halo.u_c**2)\n",
    "              -1.) * (gamma-1.)/gamma/Kappa)**(1./(gamma-1.))\n",
    "\n",
    "halo_rec = imripy.halo.MichelAccretion.FromM_dot(m1, M_dot, rho_infty, Kappa, gamma)\n",
    "print( halo_rec)"
   ]
  },
  {
   "cell_type": "code",
   "execution_count": 17,
   "metadata": {},
   "outputs": [
    {
     "name": "stderr",
     "output_type": "stream",
     "text": [
      "/media/data/Documents/PhD/imripy/src/imripy/halo.py:788: RuntimeWarning: invalid value encountered in power\n",
      "  W2 = (1. - 2*self.M/r + u**2)\n",
      "/media/data/Documents/PhD/imripy/src/imripy/halo.py:788: RuntimeWarning: invalid value encountered in power\n",
      "  W2 = (1. - 2*self.M/r + u**2)\n",
      "/media/data/Documents/PhD/imripy/src/imripy/halo.py:788: RuntimeWarning: invalid value encountered in power\n",
      "  W2 = (1. - 2*self.M/r + u**2)\n"
     ]
    },
    {
     "data": {
      "image/png": "[encoded data removed]",
      "text/plain": [
       "<Figure size 864x720 with 3 Axes>"
      ]
     },
     "metadata": {
      "needs_background": "light"
     },
     "output_type": "display_data"
    }
   ],
   "source": [
    "fig, (ax_rho, ax_u, ax_v) = plt.subplots(3,1, figsize=(12,10), sharex='all')\n",
    "r_grid = np.geomspace(2.*m1, 1e5*m1, 200)\n",
    "\n",
    "rho, u  = halo.solve_ode(r_grid)\n",
    "l, = ax_rho.loglog(r_grid/m1, rho/rho_infty)\n",
    "ax_u.loglog(r_grid/m1, u, color=l.get_c())\n",
    "ax_u.loglog(r_grid/m1, halo.M_dot/(4.*np.pi*r_grid**2 * rho), linestyle='--')\n",
    "ax_v.plot(r_grid/m1, u/np.sqrt(1. - 2*m1/r_grid + u**2), color=l.get_c())\n",
    "\n",
    "ax_rho.axvline(halo.r_c/m1, color=l.get_c());ax_u.axvline(halo.r_c/m1, color=l.get_c()); ax_v.axvline(halo.r_c/m1, color=l.get_c())\n",
    "\n",
    "rho, u  = halo_rec.solve_ode(r_grid)\n",
    "l, = ax_rho.loglog(r_grid/m1, rho/rho_infty)\n",
    "ax_u.loglog(r_grid/m1, u, color=l.get_c())\n",
    "ax_u.loglog(r_grid/m1, halo.M_dot/(4.*np.pi*r_grid**2 * rho), linestyle='--')\n",
    "ax_v.plot(r_grid/m1, halo.velocity(r_grid)[0], color=l.get_c())\n",
    "\n",
    "ax_rho.axvline(halo.r_c/m1, color=l.get_c());ax_u.axvline(halo.r_c/m1, color=l.get_c()); ax_v.axvline(halo.r_c/m1, color=l.get_c())\n",
    "\n",
    "\n",
    "ax_rho.grid(); ax_u.grid(); ax_v.grid()\n",
    "ax_v.set_xscale('log')"
   ]
  },
  {
   "cell_type": "code",
   "execution_count": null,
   "metadata": {},
   "outputs": [],
   "source": []
  }
 ],
 "metadata": {
  "kernelspec": {
   "display_name": "Python 3",
   "language": "python",
   "name": "python3"
  },
  "language_info": {
   "codemirror_mode": {
    "name": "ipython",
    "version": 3
   },
   "file_extension": ".py",
   "mimetype": "text/x-python",
   "name": "python",
   "nbconvert_exporter": "python",
   "pygments_lexer": "ipython3",
   "version": "3.8.10"
  }
 },
 "nbformat": 4,
 "nbformat_minor": 4
}
