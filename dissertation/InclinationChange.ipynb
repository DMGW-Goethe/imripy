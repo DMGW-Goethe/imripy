{
 "cells": [
  {
   "cell_type": "code",
   "execution_count": 15,
   "metadata": {},
   "outputs": [],
   "source": [
    "import numpy as np\n",
    "import matplotlib.pyplot as plt\n",
    "from imripy import constants as c, kepler, merger_system as ms, halo, inspiral, plot_utils as pu, detector\n",
    "from imripy.inspiral import forces\n",
    "import plotting\n",
    "import common"
   ]
  },
  {
   "cell_type": "markdown",
   "metadata": {},
   "source": [
    "This notebook explores the inclination change in inspirals due to alignment with accretion disks.\n",
    "\n",
    "First, it explores the alignment procedure with different initial angles (and animates them?). The inspirals take a while to compute, so they are saved for optional later use.\n",
    "Later, the critical alignment angle is calculated via a binary search."
   ]
  },
  {
   "cell_type": "code",
   "execution_count": 2,
   "metadata": {},
   "outputs": [],
   "source": [
    "# Example System\n",
    "m1 = 1e5 * c.solar_mass_to_pc\n",
    "m2 = 10. * c.solar_mass_to_pc\n",
    "\n",
    "hs = ms.HostSystem(m1)"
   ]
  },
  {
   "cell_type": "markdown",
   "metadata": {},
   "source": [
    "## Environmental Effects"
   ]
  },
  {
   "cell_type": "code",
   "execution_count": 3,
   "metadata": {},
   "outputs": [],
   "source": [
    "# GW loss\n",
    "gw = inspiral.forces.GWLoss()\n",
    "# Stellar Distribution\n",
    "stellarHalo, stellarDiffusion = common.StellarDistributionAna(hs, E_m_s=m2)\n",
    "# Accretion Disk\n",
    "dmDisk, gdf_dm = common.AccretionDisk(hs)\n",
    "r_stellar = 6.95e8 * c.m_to_pc # solar radius\n",
    "ggd_dm = inspiral.forces.GasGeometricDrag(r_stellar, disk=dmDisk)\n",
    "# DM spikes\n",
    "spike_73, df_73 = common.DMSpike(hs, 7./3.)\n",
    "spike_32, df_32 = common.DMSpike(hs, 3./2.)"
   ]
  },
  {
   "cell_type": "code",
   "execution_count": 4,
   "metadata": {},
   "outputs": [],
   "source": [
    "inclined = lambda t, y, *args: np.abs(y[4]) - 1e-3\n",
    "inclined.terminal = True"
   ]
  },
  {
   "cell_type": "markdown",
   "metadata": {},
   "source": [
    "## Inspirals with gas dynamical friction"
   ]
  },
  {
   "cell_type": "code",
   "execution_count": 5,
   "metadata": {},
   "outputs": [],
   "source": [
    "a0 = 1e5 * hs.r_isco\n",
    "e0 = 0.\n",
    "i0_s = np.array([1, 5, 10, 15, 18.5, 19.5, 20, 20.5, 21.5, 25, 45, 90, 135, 160, 179]) /180. * np.pi"
   ]
  },
  {
   "cell_type": "code",
   "execution_count": 6,
   "metadata": {},
   "outputs": [],
   "source": [
    "t_GW = 3.*2**(7./2)/85 * a0**4 * (1.-e0)**(7./2) / m1**2 / m2\n",
    "\n",
    "k = 0.34\n",
    "sigma = np.sqrt(m1 / (1.+ stellarHalo.alpha) / a0)\n",
    "t_AM =  ( 2*k*sigma**3 / (stellarHalo.density(a0)/stellarDiffusion.E_m_s)\n",
    "          / stellarDiffusion.E_m_s**2 / stellarDiffusion.CoulombLogarithm * (1.-e0))"
   ]
  },
  {
   "cell_type": "code",
   "execution_count": 7,
   "metadata": {},
   "outputs": [],
   "source": [
    "# Inspirals with SD+GDF, SD+GDF+DM3/2, and SD+GDF+DM7/3\n",
    "opt_sd_gdf = inspiral.Classic.EvolutionOptions(dissipativeForces=[gw, stellarDiffusion, gdf_dm],\n",
    "                                              inclinationChange=True, considerRelativeVelocities=True,\n",
    "                                              progradeRotation=True, verbose=1, accuracy=1e-9,\n",
    "                                             additionalEvents=[inclined])\n",
    "\n",
    "opt_sd_gdf_32 = inspiral.Classic.EvolutionOptions(dissipativeForces=[gw, stellarDiffusion, gdf_dm, df_32],\n",
    "                                              inclinationChange=True, considerRelativeVelocities=True,\n",
    "                                              progradeRotation=True, verbose=1, accuracy=1e-9,\n",
    "                                             additionalEvents=[inclined])\n",
    "\n",
    "opt_sd_gdf_73 = inspiral.Classic.EvolutionOptions(dissipativeForces=[gw, stellarDiffusion, gdf_dm, df_73],\n",
    "                                              inclinationChange=True, considerRelativeVelocities=True,\n",
    "                                              progradeRotation=True, verbose=1, accuracy=1e-9,\n",
    "                                             additionalEvents=[inclined])"
   ]
  },
  {
   "cell_type": "code",
   "execution_count": 29,
   "metadata": {
    "scrolled": true
   },
   "outputs": [
    {
     "name": "stdout",
     "output_type": "stream",
     "text": [
      "809117.234008031 2.4840112175465093e+18 12.053176365010467\n",
      "Evolving from  100000.0  to  1.0 r_isco   on circular orbits  with  Options: dissipative forces employed {GWLoss, Stellar Diffusion2*, GasDynamicalFriction, }, accuracy = 1.0e-09, with inclination change\n",
      "A termination event occurred.\n",
      " -> Ended at 9.985e+04r_isco. Evolution took 127.6459s real time\n",
      "Evolving from  100000.0  to  1.0 r_isco   on circular orbits  with  Options: dissipative forces employed {GWLoss, Stellar Diffusion2*, GasDynamicalFriction, DynamicalFriction, }, accuracy = 1.0e-09, with inclination change\n",
      "A termination event occurred.\n",
      " -> Ended at 9.985e+04r_isco. Evolution took 113.7002s real time\n",
      "Evolving from  100000.0  to  1.0 r_isco   on circular orbits  with  Options: dissipative forces employed {GWLoss, Stellar Diffusion2*, GasDynamicalFriction, DynamicalFriction, }, accuracy = 1.0e-09, with inclination change\n",
      "A termination event occurred.\n",
      " -> Ended at 9.984e+04r_isco. Evolution took 113.4483s real time\n",
      "809117.234008031 2.4840112175465093e+18 6897.525391304627\n",
      "Evolving from  100000.0  to  1.0 r_isco   on circular orbits  with  Options: dissipative forces employed {GWLoss, Stellar Diffusion2*, GasDynamicalFriction, }, accuracy = 1.0e-09, with inclination change\n",
      "A termination event occurred.\n",
      " -> Ended at 9.596e+04r_isco. Evolution took 213.4501s real time\n",
      "Evolving from  100000.0  to  1.0 r_isco   on circular orbits  with  Options: dissipative forces employed {GWLoss, Stellar Diffusion2*, GasDynamicalFriction, DynamicalFriction, }, accuracy = 1.0e-09, with inclination change\n",
      "A termination event occurred.\n",
      " -> Ended at 9.596e+04r_isco. Evolution took 205.4999s real time\n",
      "Evolving from  100000.0  to  1.0 r_isco   on circular orbits  with  Options: dissipative forces employed {GWLoss, Stellar Diffusion2*, GasDynamicalFriction, DynamicalFriction, }, accuracy = 1.0e-09, with inclination change\n",
      "A termination event occurred.\n",
      " -> Ended at 9.586e+04r_isco. Evolution took 182.1566s real time\n",
      "809117.234008031 2.4840112175465093e+18 110699.4896705773\n",
      "Evolving from  100000.0  to  1.0 r_isco   on circular orbits  with  Options: dissipative forces employed {GWLoss, Stellar Diffusion2*, GasDynamicalFriction, }, accuracy = 1.0e-09, with inclination change\n",
      "A termination event occurred.\n",
      " -> Ended at 6.752e+04r_isco. Evolution took 256.1589s real time\n",
      "Evolving from  100000.0  to  1.0 r_isco   on circular orbits  with  Options: dissipative forces employed {GWLoss, Stellar Diffusion2*, GasDynamicalFriction, DynamicalFriction, }, accuracy = 1.0e-09, with inclination change\n",
      "A termination event occurred.\n",
      " -> Ended at 6.752e+04r_isco. Evolution took 269.3455s real time\n",
      "Evolving from  100000.0  to  1.0 r_isco   on circular orbits  with  Options: dissipative forces employed {GWLoss, Stellar Diffusion2*, GasDynamicalFriction, DynamicalFriction, }, accuracy = 1.0e-09, with inclination change\n",
      "A termination event occurred.\n",
      " -> Ended at 6.636e+04r_isco. Evolution took 285.5317s real time\n",
      "809117.234008031 2.4840112175465093e+18 558350.8349599208\n",
      "Evolving from  100000.0  to  1.0 r_isco   on circular orbits  with  Options: dissipative forces employed {GWLoss, Stellar Diffusion2*, GasDynamicalFriction, }, accuracy = 1.0e-09, with inclination change\n"
     ]
    },
    {
     "name": "stderr",
     "output_type": "stream",
     "text": [
      "/media/data/Documents/PhD/imripy/src/imripy/inspiral/forces.py:130: IntegrationWarning: The occurrence of roundoff error is detected, which prevents \n",
      "  the requested tolerance from being achieved.  The error may be \n",
      "  underestimated.\n",
      "  return -(1.-e**2)**(3./2.)/2./np.pi * quad(integrand, 0., 2.*np.pi, limit = 100)[0]\n"
     ]
    },
    {
     "name": "stdout",
     "output_type": "stream",
     "text": [
      "A termination event occurred.\n",
      " -> Ended at 1.631e+04r_isco. Evolution took 582.5792s real time\n",
      "Evolving from  100000.0  to  1.0 r_isco   on circular orbits  with  Options: dissipative forces employed {GWLoss, Stellar Diffusion2*, GasDynamicalFriction, DynamicalFriction, }, accuracy = 1.0e-09, with inclination change\n",
      "A termination event occurred.\n",
      " -> Ended at 1.631e+04r_isco. Evolution took 597.2717s real time\n",
      "Evolving from  100000.0  to  1.0 r_isco   on circular orbits  with  Options: dissipative forces employed {GWLoss, Stellar Diffusion2*, GasDynamicalFriction, DynamicalFriction, }, accuracy = 1.0e-09, with inclination change\n",
      "A termination event occurred.\n",
      " -> Ended at 1.460e+04r_isco. Evolution took 607.5659s real time\n",
      "809117.234008031 2.4840112175465093e+18 1286513.3344209534\n",
      "Evolving from  100000.0  to  1.0 r_isco   on circular orbits  with  Options: dissipative forces employed {GWLoss, Stellar Diffusion2*, GasDynamicalFriction, }, accuracy = 1.0e-09, with inclination change\n",
      "A termination event occurred.\n",
      " -> Ended at 1.578e+03r_isco. Evolution took 1068.1319s real time\n",
      "Evolving from  100000.0  to  1.0 r_isco   on circular orbits  with  Options: dissipative forces employed {GWLoss, Stellar Diffusion2*, GasDynamicalFriction, DynamicalFriction, }, accuracy = 1.0e-09, with inclination change\n",
      "A termination event occurred.\n",
      " -> Ended at 1.578e+03r_isco. Evolution took 1147.0515s real time\n",
      "Evolving from  100000.0  to  1.0 r_isco   on circular orbits  with  Options: dissipative forces employed {GWLoss, Stellar Diffusion2*, GasDynamicalFriction, DynamicalFriction, }, accuracy = 1.0e-09, with inclination change\n",
      "A termination event occurred.\n",
      " -> Ended at 1.166e+03r_isco. Evolution took 1133.5469s real time\n",
      "809117.234008031 2.4840112175465093e+18 1585844.4886440362\n",
      "Evolving from  100000.0  to  1.0 r_isco   on circular orbits  with  Options: dissipative forces employed {GWLoss, Stellar Diffusion2*, GasDynamicalFriction, }, accuracy = 1.0e-09, with inclination change\n",
      "A termination event occurred.\n",
      " -> Ended at 6.288e+02r_isco. Evolution took 1175.7026s real time\n",
      "Evolving from  100000.0  to  1.0 r_isco   on circular orbits  with  Options: dissipative forces employed {GWLoss, Stellar Diffusion2*, GasDynamicalFriction, DynamicalFriction, }, accuracy = 1.0e-09, with inclination change\n",
      "A termination event occurred.\n",
      " -> Ended at 6.286e+02r_isco. Evolution took 1097.9984s real time\n",
      "Evolving from  100000.0  to  1.0 r_isco   on circular orbits  with  Options: dissipative forces employed {GWLoss, Stellar Diffusion2*, GasDynamicalFriction, DynamicalFriction, }, accuracy = 1.0e-09, with inclination change\n",
      "A termination event occurred.\n",
      " -> Ended at 3.515e+02r_isco. Evolution took 1050.9648s real time\n",
      "809117.234008031 2.4840112175465093e+18 1753580.470805455\n",
      "Evolving from  100000.0  to  1.0 r_isco   on circular orbits  with  Options: dissipative forces employed {GWLoss, Stellar Diffusion2*, GasDynamicalFriction, }, accuracy = 1.0e-09, with inclination change\n",
      "A termination event occurred.\n",
      " -> Ended at 3.714e+02r_isco. Evolution took 1176.6762s real time\n",
      "Evolving from  100000.0  to  1.0 r_isco   on circular orbits  with  Options: dissipative forces employed {GWLoss, Stellar Diffusion2*, GasDynamicalFriction, DynamicalFriction, }, accuracy = 1.0e-09, with inclination change\n",
      "A termination event occurred.\n",
      " -> Ended at 3.713e+02r_isco. Evolution took 1343.1614s real time\n",
      "Evolving from  100000.0  to  1.0 r_isco   on circular orbits  with  Options: dissipative forces employed {GWLoss, Stellar Diffusion2*, GasDynamicalFriction, DynamicalFriction, }, accuracy = 1.0e-09, with inclination change\n",
      "A termination event occurred.\n",
      " -> Ended at 1.533e+02r_isco. Evolution took 1289.0967s real time\n",
      "809117.234008031 2.4840112175465093e+18 1934174.381669812\n",
      "Evolving from  100000.0  to  1.0 r_isco   on circular orbits  with  Options: dissipative forces employed {GWLoss, Stellar Diffusion2*, GasDynamicalFriction, }, accuracy = 1.0e-09, with inclination change\n",
      "A termination event occurred.\n",
      " -> Ended at 2.088e+02r_isco. Evolution took 1498.8113s real time\n",
      "Evolving from  100000.0  to  1.0 r_isco   on circular orbits  with  Options: dissipative forces employed {GWLoss, Stellar Diffusion2*, GasDynamicalFriction, DynamicalFriction, }, accuracy = 1.0e-09, with inclination change\n",
      "A termination event occurred.\n",
      " -> Ended at 2.087e+02r_isco. Evolution took 1347.1403s real time\n",
      "Evolving from  100000.0  to  1.0 r_isco   on circular orbits  with  Options: dissipative forces employed {GWLoss, Stellar Diffusion2*, GasDynamicalFriction, DynamicalFriction, }, accuracy = 1.0e-09, with inclination change\n",
      "A termination event occurred.\n",
      " -> Ended at 4.197e+01r_isco. Evolution took 1335.8847s real time\n",
      "809117.234008031 2.4840112175465093e+18 2336446.943872536\n",
      "Evolving from  100000.0  to  1.0 r_isco   on circular orbits  with  Options: dissipative forces employed {GWLoss, Stellar Diffusion2*, GasDynamicalFriction, }, accuracy = 1.0e-09, with inclination change\n",
      "A termination event occurred.\n",
      " -> Ended at 5.542e+01r_isco. Evolution took 1378.5777s real time\n",
      "Evolving from  100000.0  to  1.0 r_isco   on circular orbits  with  Options: dissipative forces employed {GWLoss, Stellar Diffusion2*, GasDynamicalFriction, DynamicalFriction, }, accuracy = 1.0e-09, with inclination change\n",
      "A termination event occurred.\n",
      " -> Ended at 5.539e+01r_isco. Evolution took 1321.2424s real time\n",
      "Evolving from  100000.0  to  1.0 r_isco   on circular orbits  with  Options: dissipative forces employed {GWLoss, Stellar Diffusion2*, GasDynamicalFriction, DynamicalFriction, }, accuracy = 1.0e-09, with inclination change\n"
     ]
    },
    {
     "name": "stderr",
     "output_type": "stream",
     "text": [
      "/media/data/Documents/PhD/imripy/src/imripy/inspiral/forces.py:534: RuntimeWarning: divide by zero encountered in divide\n",
      "  1./2. * np.log((1. + v_rel_tot/c_s)/(1. - v_rel_tot/c_s)) - v_rel_tot/c_s) # subsonic regime\n",
      "/media/data/Documents/PhD/imripy/src/imripy/inspiral/forces.py:534: RuntimeWarning: invalid value encountered in double_scalars\n",
      "  1./2. * np.log((1. + v_rel_tot/c_s)/(1. - v_rel_tot/c_s)) - v_rel_tot/c_s) # subsonic regime\n",
      "/media/data/Documents/PhD/imripy/src/imripy/halo/baryonic.py:978: RuntimeWarning: invalid value encountered in double_scalars\n",
      "  interpHalo.density = lambda r, z : density_interp(r)*np.exp(-z**2/scale_height_interp(r)**2)\n",
      "/media/data/Documents/PhD/imripy/src/imripy/halo/baryonic.py:978: RuntimeWarning: divide by zero encountered in double_scalars\n",
      "  interpHalo.density = lambda r, z : density_interp(r)*np.exp(-z**2/scale_height_interp(r)**2)\n",
      "/media/data/Documents/PhD/imripy/src/imripy/kepler.py:215: RuntimeWarning: invalid value encountered in sqrt\n",
      "  v = np.sqrt(self.m_tot *(2./r - 1./self.a))\n",
      "/media/data/Documents/PhD/imripy/src/imripy/kepler.py:216: RuntimeWarning: invalid value encountered in sqrt\n",
      "  v_phi = r * np.sqrt(self.m_tot*self.a*(1.-self.e**2))/r**2\n",
      "/media/data/Documents/PhD/imripy/src/imripy/merger_system.py:102: RuntimeWarning: invalid value encountered in sqrt\n",
      "  return np.sqrt(self.mass(r)/r**3)\n",
      "/media/data/Documents/PhD/imripy/src/imripy/kepler.py:240: RuntimeWarning: invalid value encountered in sqrt\n",
      "  v = np.sqrt(self.m_tot *(2./r - 1./self.a))\n",
      "/media/data/Documents/PhD/imripy/src/imripy/halo/dm.py:147: RuntimeWarning: invalid value encountered in double_scalars\n",
      "  return np.where(r > self.r_min, self.rho_spike * (self.r_spike/r)**self.alpha, 0.)\n",
      "/media/data/Documents/PhD/imripy/src/imripy/inspiral/forces.py:455: RuntimeWarning: invalid value encountered in sqrt\n",
      "  v_esc = np.sqrt(2*halo.potential(r))\n",
      "/media/data/Documents/PhD/imripy/src/imripy/inspiral/forces.py:1176: RuntimeWarning: invalid value encountered in sqrt\n",
      "  J = np.sqrt(ko.m1 * ko.a * (1.-ko.e**2))\n",
      "/media/data/Documents/PhD/imripy/src/imripy/inspiral/forces.py:1172: RuntimeWarning: invalid value encountered in sqrt\n",
      "  return np.sqrt(2.*(self.potential(r) - E_a))\n",
      "/media/data/Documents/PhD/imripy/src/imripy/halo/dm.py:196: RuntimeWarning: invalid value encountered in power\n",
      "  * eps**(self.alpha-3./2.) )\n",
      "/media/data/Documents/PhD/imripy/src/imripy/inspiral/forces.py:1190: IntegrationWarning: The occurrence of roundoff error is detected, which prevents \n",
      "  the requested tolerance from being achieved.  The error may be \n",
      "  underestimated.\n",
      "  * quad(integrand_orbit, 0., 2.*np.pi)[0] )\n",
      "/media/data/Documents/PhD/imripy/src/imripy/inspiral/forces.py:1222: RuntimeWarning: invalid value encountered in sqrt\n",
      "  J = np.sqrt(ko.m1 * ko.a * (1.-ko.e**2))\n",
      "/media/data/Documents/PhD/imripy/src/imripy/inspiral/forces.py:1237: IntegrationWarning: The occurrence of roundoff error is detected, which prevents \n",
      "  the requested tolerance from being achieved.  The error may be \n",
      "  underestimated.\n",
      "  * quad(integrand_deps2, 0., 2.*np.pi)[0] )\n",
      "/media/data/Documents/PhD/imripy/src/imripy/inspiral/forces.py:452: RuntimeWarning: divide by zero encountered in divide\n",
      "  alpha =  4.*np.pi*simpson(v2_list * f_list, x=np.sqrt(v2_list)) / density # TODO: Change Normalization of f from density to 1?\n",
      "/media/data/Documents/PhD/imripy/src/imripy/inspiral/forces.py:461: RuntimeWarning: divide by zero encountered in divide\n",
      "  beta =  4.*np.pi*simpson(v_list**2 * f_list * np.log((v_list + v_rel)/(v_list-v_rel)), x=v_list) / density\n",
      "/media/data/Documents/PhD/imripy/src/imripy/inspiral/forces.py:463: RuntimeWarning: divide by zero encountered in divide\n",
      "  delta =  -8.*np.pi*v_rel*simpson(v_list * f_list, x=v_list) / density\n",
      "/media/data/Documents/PhD/imripy/src/imripy/inspiral/forces.py:465: RuntimeWarning: invalid value encountered in double_scalars\n",
      "  bracket = (alpha * ln_Lambda + beta + delta)\n"
     ]
    },
    {
     "name": "stdout",
     "output_type": "stream",
     "text": [
      "A termination event occurred.\n",
      " -> Ended at 2.667e+00r_isco. Evolution took 1034.7165s real time\n",
      "809117.234008031 2.4840112175465093e+18 4245317.877383056\n",
      "Evolving from  100000.0  to  1.0 r_isco   on circular orbits  with  Options: dissipative forces employed {GWLoss, Stellar Diffusion2*, GasDynamicalFriction, }, accuracy = 1.0e-09, with inclination change\n",
      "A termination event occurred.\n",
      " -> Ended at 2.667e+00r_isco. Evolution took 1164.4624s real time\n",
      "Evolving from  100000.0  to  1.0 r_isco   on circular orbits  with  Options: dissipative forces employed {GWLoss, Stellar Diffusion2*, GasDynamicalFriction, DynamicalFriction, }, accuracy = 1.0e-09, with inclination change\n",
      "A termination event occurred.\n",
      " -> Ended at 2.667e+00r_isco. Evolution took 1101.2901s real time\n",
      "Evolving from  100000.0  to  1.0 r_isco   on circular orbits  with  Options: dissipative forces employed {GWLoss, Stellar Diffusion2*, GasDynamicalFriction, DynamicalFriction, }, accuracy = 1.0e-09, with inclination change\n",
      "A termination event occurred.\n",
      " -> Ended at 2.667e+00r_isco. Evolution took 1151.2780s real time\n",
      "809117.234008031 2.4840112175465093e+18 42245825.97956348\n",
      "Evolving from  100000.0  to  1.0 r_isco   on circular orbits  with  Options: dissipative forces employed {GWLoss, Stellar Diffusion2*, GasDynamicalFriction, }, accuracy = 1.0e-09, with inclination change\n"
     ]
    },
    {
     "name": "stderr",
     "output_type": "stream",
     "text": [
      "/media/data/Documents/PhD/imripy/src/imripy/inspiral/forces.py:130: IntegrationWarning: The integral is probably divergent, or slowly convergent.\n",
      "  return -(1.-e**2)**(3./2.)/2./np.pi * quad(integrand, 0., 2.*np.pi, limit = 100)[0]\n"
     ]
    },
    {
     "name": "stdout",
     "output_type": "stream",
     "text": [
      "A termination event occurred.\n",
      " -> Ended at 2.667e+00r_isco. Evolution took 1071.7928s real time\n",
      "Evolving from  100000.0  to  1.0 r_isco   on circular orbits  with  Options: dissipative forces employed {GWLoss, Stellar Diffusion2*, GasDynamicalFriction, DynamicalFriction, }, accuracy = 1.0e-09, with inclination change\n",
      "A termination event occurred.\n",
      " -> Ended at 2.667e+00r_isco. Evolution took 1071.4395s real time\n",
      "Evolving from  100000.0  to  1.0 r_isco   on circular orbits  with  Options: dissipative forces employed {GWLoss, Stellar Diffusion2*, GasDynamicalFriction, DynamicalFriction, }, accuracy = 1.0e-09, with inclination change\n",
      "A termination event occurred.\n",
      " -> Ended at 2.667e+00r_isco. Evolution took 984.4202s real time\n",
      "809117.234008031 2.4840112175465093e+18 543077139.9964972\n",
      "Evolving from  100000.0  to  1.0 r_isco   on circular orbits  with  Options: dissipative forces employed {GWLoss, Stellar Diffusion2*, GasDynamicalFriction, }, accuracy = 1.0e-09, with inclination change\n",
      "A termination event occurred.\n",
      " -> Ended at 2.667e+00r_isco. Evolution took 898.3109s real time\n",
      "Evolving from  100000.0  to  1.0 r_isco   on circular orbits  with  Options: dissipative forces employed {GWLoss, Stellar Diffusion2*, GasDynamicalFriction, DynamicalFriction, }, accuracy = 1.0e-09, with inclination change\n",
      "A termination event occurred.\n",
      " -> Ended at 2.667e+00r_isco. Evolution took 880.5513s real time\n",
      "Evolving from  100000.0  to  1.0 r_isco   on circular orbits  with  Options: dissipative forces employed {GWLoss, Stellar Diffusion2*, GasDynamicalFriction, DynamicalFriction, }, accuracy = 1.0e-09, with inclination change\n",
      "A termination event occurred.\n",
      " -> Ended at 2.667e+00r_isco. Evolution took 827.4589s real time\n",
      "809117.234008031 2.4840112175465093e+18 1783614407.168876\n",
      "Evolving from  100000.0  to  1.0 r_isco   on circular orbits  with  Options: dissipative forces employed {GWLoss, Stellar Diffusion2*, GasDynamicalFriction, }, accuracy = 1.0e-09, with inclination change\n",
      "A termination event occurred.\n",
      " -> Ended at 2.667e+00r_isco. Evolution took 752.0538s real time\n",
      "Evolving from  100000.0  to  1.0 r_isco   on circular orbits  with  Options: dissipative forces employed {GWLoss, Stellar Diffusion2*, GasDynamicalFriction, DynamicalFriction, }, accuracy = 1.0e-09, with inclination change\n",
      "A termination event occurred.\n",
      " -> Ended at 2.667e+00r_isco. Evolution took 810.5612s real time\n",
      "Evolving from  100000.0  to  1.0 r_isco   on circular orbits  with  Options: dissipative forces employed {GWLoss, Stellar Diffusion2*, GasDynamicalFriction, DynamicalFriction, }, accuracy = 1.0e-09, with inclination change\n",
      "A termination event occurred.\n",
      " -> Ended at 2.667e+00r_isco. Evolution took 724.7542s real time\n",
      "809117.234008031 2.4840112175465093e+18 2580685343.4593716\n",
      "Evolving from  100000.0  to  1.0 r_isco   on circular orbits  with  Options: dissipative forces employed {GWLoss, Stellar Diffusion2*, GasDynamicalFriction, }, accuracy = 1.0e-09, with inclination change\n",
      "A termination event occurred.\n",
      " -> Ended at 2.667e+00r_isco. Evolution took 600.2938s real time\n",
      "Evolving from  100000.0  to  1.0 r_isco   on circular orbits  with  Options: dissipative forces employed {GWLoss, Stellar Diffusion2*, GasDynamicalFriction, DynamicalFriction, }, accuracy = 1.0e-09, with inclination change\n",
      "A termination event occurred.\n",
      " -> Ended at 2.667e+00r_isco. Evolution took 590.5540s real time\n",
      "Evolving from  100000.0  to  1.0 r_isco   on circular orbits  with  Options: dissipative forces employed {GWLoss, Stellar Diffusion2*, GasDynamicalFriction, DynamicalFriction, }, accuracy = 1.0e-09, with inclination change\n",
      "A termination event occurred.\n",
      " -> Ended at 2.667e+00r_isco. Evolution took 574.1547s real time\n",
      "809117.234008031 2.4840112175465093e+18 3535258869.67731\n",
      "Evolving from  100000.0  to  1.0 r_isco   on circular orbits  with  Options: dissipative forces employed {GWLoss, Stellar Diffusion2*, GasDynamicalFriction, }, accuracy = 1.0e-09, with inclination change\n",
      "A termination event occurred.\n",
      " -> Ended at 2.667e+00r_isco. Evolution took 138.4093s real time\n",
      "Evolving from  100000.0  to  1.0 r_isco   on circular orbits  with  Options: dissipative forces employed {GWLoss, Stellar Diffusion2*, GasDynamicalFriction, DynamicalFriction, }, accuracy = 1.0e-09, with inclination change\n",
      "A termination event occurred.\n",
      " -> Ended at 2.667e+00r_isco. Evolution took 144.2249s real time\n",
      "Evolving from  100000.0  to  1.0 r_isco   on circular orbits  with  Options: dissipative forces employed {GWLoss, Stellar Diffusion2*, GasDynamicalFriction, DynamicalFriction, }, accuracy = 1.0e-09, with inclination change\n",
      "A termination event occurred.\n",
      " -> Ended at 2.667e+00r_isco. Evolution took 138.6447s real time\n"
     ]
    }
   ],
   "source": [
    "evs_sd_gdf = []\n",
    "evs_sd_gdf_32 = []\n",
    "evs_sd_gdf_73 = []\n",
    "for i0 in i0_s:\n",
    "    k0 = kepler.KeplerOrbit(hs, m2, a0, e0, inclination_angle = i0)\n",
    "    T_i = np.abs(i0 / gdf_dm.dinclination_angle_dt(hs, k0,opt=opt_sd_gdf))\n",
    "    print(t_AM, t_GW, T_i)\n",
    "    ev = inspiral.Classic.Evolve(hs, k0, t_fin=1e2*np.min([t_AM, t_GW, T_i]), opt=opt_sd_gdf)\n",
    "    evs_sd_gdf.append(ev)\n",
    "    ev1 = inspiral.Classic.Evolve(hs, k0, t_fin=2.*ev.t[-1], opt=opt_sd_gdf_32)\n",
    "    evs_sd_gdf_32.append(ev1)\n",
    "    ev2 = inspiral.Classic.Evolve(hs, k0, t_fin=2.*ev.t[-1], opt=opt_sd_gdf_73)\n",
    "    evs_sd_gdf_73.append(ev2)"
   ]
  },
  {
   "cell_type": "code",
   "execution_count": 16,
   "metadata": {},
   "outputs": [
    {
     "data": {
      "image/png": "[encoded data removed]",
      "text/plain": [
       "<Figure size 864x432 with 2 Axes>"
      ]
     },
     "metadata": {
      "needs_background": "light"
     },
     "output_type": "display_data"
    }
   ],
   "source": [
    "fig, axs = plt.subplots(1,2, figsize=(12,6))\n",
    "axs[0].set_prop_cycle('color',plt.cm.plasma(np.linspace(0,1, len(evs_sd_gdf))))\n",
    "for i, (ev, ev1, ev2) in enumerate(zip(evs_sd_gdf,evs_sd_gdf_32, evs_sd_gdf_73)):\n",
    "    #l=pu.plotEvolution(hs, ev, ax_a=axs[1], label=f\"$\\iota_0={i0_s[i]/np.pi*180:.0f}$\")\n",
    "    #pu.plotEvolution(hs, ev1, ax_a=axs[1] ,color=l.get_c(), linestyle='-.')\n",
    "    #pu.plotEvolution(hs, ev2, ax_a=axs[1] ,color=l.get_c(), linestyle='--')\n",
    "    \n",
    "    l, = axs[0].plot(ev.t/c.year_to_pc, ev.inclination_angle/np.pi*180)\n",
    "    axs[0].plot(ev1.t/c.year_to_pc, ev1.inclination_angle/np.pi*180, color=l.get_c(), linestyle='-.')\n",
    "    axs[0].plot(ev2.t/c.year_to_pc, ev2.inclination_angle/np.pi*180, color=l.get_c(), linestyle='--')\n",
    "    \n",
    "    axs[1].plot(ev.a/hs.r_isco, ev.inclination_angle/np.pi*180, color=l.get_c())\n",
    "    axs[1].plot(ev1.a/hs.r_isco, ev1.inclination_angle/np.pi*180, color=l.get_c(), linestyle='-.')\n",
    "    axs[1].plot(ev2.a/hs.r_isco, ev2.inclination_angle/np.pi*180, color=l.get_c(), linestyle='--')\n",
    "    \n",
    "    if ev.a[-1] < 4.*hs.r_isco:\n",
    "        axs[0].plot(ev.t[-1]/c.year_to_pc, ev.inclination_angle[-1]/np.pi*180, \n",
    "                      marker='*', color=l.get_c(), fillstyle='none')\n",
    "        axs[1].plot(ev.a[-1]/hs.r_isco, ev.inclination_angle[-1]/np.pi*180, \n",
    "                       marker='*', color=l.get_c(), fillstyle='none')\n",
    "        #axs[0,0].plot(evs_sd_gdf_32[i].t[-1]/c.year_to_pc, evs_sd_gdf_32[i].inclination_angle[-1]/np.pi*180, \n",
    "        #                  marker='*', color=l.get_c(), fillstyle='left', markeredgecolor=l.get_c())\n",
    "    if ev2.a[-1] < 4.*hs.r_isco:\n",
    "        axs[0].plot(ev2.t[-1]/c.year_to_pc, ev2.inclination_angle[-1]/np.pi*180, \n",
    "                          marker='*', color=l.get_c(), fillstyle='full', markeredgecolor=l.get_c())\n",
    "        axs[1].plot(ev2.a[-1]/hs.r_isco, ev2.inclination_angle[-1]/np.pi*180, \n",
    "                          marker='*', color=l.get_c(), fillstyle='full', markeredgecolor=l.get_c())\n",
    "\n",
    "\n",
    "axs[0].set_xscale('log'); #axs[0].set_yscale('log'); \n",
    "axs[0].plot(axs[0].get_xlim(), [0.,0.], color='black')\n",
    "axs[0].set_xlabel(\"t / yrs\"); axs[0].set_ylabel(\"$\\iota$ / deg°\")\n",
    "#axs[1].legend(); axs[1].set_xlabel(\"t / yrs\"); axs[1].set_ylabel(\"a / $r_{isco}$\")\n",
    "axs[1].set_xlim(left=1.); axs[1].set_xscale('log')\n",
    "axs[1].set_xlabel(\"a / $r_{isco}$\"); axs[0].set_ylabel(\"$\\iota$ / rad\")\n",
    "axs[1].plot(axs[1].get_xlim(), [0.,0.], color='black')\n",
    "\n",
    "for ax in axs.flatten():\n",
    "    ax.grid()\n",
    "fig.subplots_adjust(wspace=0.)\n",
    "axs[1].get_yaxis().set_ticklabels([]);\n",
    "\n",
    "#fig.savefig(f\"plots/inc_sd_gdf_{m1/c.solar_mass_to_pc:.0e}.pdf\", bbox_inches=\"tight\")"
   ]
  },
  {
   "cell_type": "code",
   "execution_count": 34,
   "metadata": {},
   "outputs": [],
   "source": [
    "# Save for later use\n",
    "for i, ev in enumerate(evs_sd_gdf):\n",
    "    ev.save(f\"runs/iota_sd_1e5_1e1_{i}.npz\")\n",
    "for i, ev in enumerate(evs_sd_gdf_32):\n",
    "    ev.save(f\"runs/iota_sd_32_1e5_1e1_{i}.npz\")\n",
    "for i, ev in enumerate(evs_sd_gdf_73):\n",
    "    ev.save(f\"runs/iota_sd_73_1e5_1e1_{i}.npz\")"
   ]
  },
  {
   "cell_type": "code",
   "execution_count": 12,
   "metadata": {},
   "outputs": [],
   "source": [
    "# and load\n",
    "evs_sd_gdf = []\n",
    "evs_sd_gdf_32 = []\n",
    "evs_sd_gdf_73 = []\n",
    "for i in range(15):\n",
    "    evs_sd_gdf.append(inspiral.Classic.EvolutionResults.load(f\"runs/iota_sd_1e5_1e1_{i}.npz\", hs, opt_sd_gdf))\n",
    "for i in range(15):\n",
    "    evs_sd_gdf_32.append(inspiral.Classic.EvolutionResults.load(f\"runs/iota_sd_32_1e5_1e1_{i}.npz\", hs, opt_sd_gdf_32))\n",
    "for i in range(15):\n",
    "    evs_sd_gdf_73.append(inspiral.Classic.EvolutionResults.load(f\"runs/iota_sd_73_1e5_1e1_{i}.npz\", hs, opt_sd_gdf_32))"
   ]
  },
  {
   "cell_type": "markdown",
   "metadata": {},
   "source": [
    "#### Animate"
   ]
  },
  {
   "cell_type": "code",
   "execution_count": null,
   "metadata": {},
   "outputs": [],
   "source": []
  },
  {
   "cell_type": "markdown",
   "metadata": {},
   "source": [
    "## Inspirals with Geometric Drag"
   ]
  },
  {
   "cell_type": "code",
   "execution_count": null,
   "metadata": {},
   "outputs": [],
   "source": [
    "a0 = 1e5 * hs.r_isco\n",
    "e0 = 0.\n",
    "i0_s = np.array([1, 5, 10, 15, 20, 25, 45, 90, 135, 160, 179]) /180. * np.pi"
   ]
  },
  {
   "cell_type": "code",
   "execution_count": null,
   "metadata": {},
   "outputs": [],
   "source": [
    "inclined = lambda t, y, *args: np.abs(y[4]) - 1e-3\n",
    "inclined.terminal = True"
   ]
  },
  {
   "cell_type": "code",
   "execution_count": null,
   "metadata": {},
   "outputs": [],
   "source": [
    "opt_sd_ggd = inspiral.Classic.EvolutionOptions(dissipativeForces={gw, stellarDiffusion, ggd_dm},\n",
    "                                              inclinationChange=True, considerRelativeVelocities=True,\n",
    "                                              progradeRotation=True, verbose=1, accuracy=1e-9,\n",
    "                                             additionalEvents=[inclined])\n",
    "\n",
    "opt_sd_ggd_32 = inspiral.Classic.EvolutionOptions(dissipativeForces={gw, stellarDiffusion, ggd_dm, df_32},\n",
    "                                              inclinationChange=True, considerRelativeVelocities=True,\n",
    "                                              progradeRotation=True, verbose=1, accuracy=1e-9,\n",
    "                                             additionalEvents=[inclined])\n",
    "\n",
    "opt_sd_ggd_73 = inspiral.Classic.EvolutionOptions(dissipativeForces={gw, stellarDiffusion, ggd_dm, df_73},\n",
    "                                              inclinationChange=True, considerRelativeVelocities=True,\n",
    "                                              progradeRotation=True, verbose=1, accuracy=1e-9,\n",
    "                                             additionalEvents=[inclined])"
   ]
  },
  {
   "cell_type": "code",
   "execution_count": null,
   "metadata": {},
   "outputs": [],
   "source": [
    "t_GW = 3.*2**(7./2)/85 * a0**4 * (1.-e0)**(7./2) / m1**2 / m2\n",
    "\n",
    "k = 0.34\n",
    "sigma = np.sqrt(m1 / (1.+ stellarHalo.alpha) / a0)\n",
    "t_AM =  ( 2*k*sigma**3 / (stellarHalo.density(a0)/stellarDiffusion.E_m_s)\n",
    "          / stellarDiffusion.E_m_s2 / stellarDiffusion.CoulombLogarithm * (1.-e0))"
   ]
  },
  {
   "cell_type": "code",
   "execution_count": null,
   "metadata": {},
   "outputs": [],
   "source": [
    "evs_sd_ggd = []\n",
    "evs_sd_ggd_32 = []\n",
    "evs_sd_ggd_73 = []\n",
    "for i,i0 in enumerate(i0_s):\n",
    "    k0 = kepler.KeplerOrbit(hs, m2, a0, e0, inclination_angle = i0)\n",
    "    T_i = np.abs(i0 / ggd_dm.dinclination_angle_dt(hs, k0,opt=opt_sd_ggd))\n",
    "    print(i, t_AM, t_GW, T_i)\n",
    "    ev = inspiral.Classic.Evolve(hs, k0, t_fin=1e2*np.min([t_AM, t_GW, T_i]), opt=opt_sd_ggd)\n",
    "    evs_sd_ggd.append(ev)\n",
    "    ev1 = inspiral.Classic.Evolve(hs, k0, t_fin=2.*ev.t[-1], opt=opt_sd_ggd_32)\n",
    "    evs_sd_ggd_32.append(ev1)\n",
    "    ev2 = inspiral.Classic.Evolve(hs, k0, t_fin=2.*ev.t[-1], opt=opt_sd_ggd_73)\n",
    "    evs_sd_ggd_73.append(ev2)"
   ]
  },
  {
   "cell_type": "code",
   "execution_count": null,
   "metadata": {},
   "outputs": [],
   "source": [
    "fig, axs = plt.subplots(1,2, figsize=(12,6))\n",
    "for i, (ev, ev1, ev2) in enumerate(zip(evs_sd_ggd, evs_sd_ggd_32, evs_sd_ggd_73)):\n",
    "    #l=pu.plotEvolution(hs, ev, ax_a=axs[1], label=f\"$\\iota_0={i0_s[i]/np.pi*180:.0f}$\")\n",
    "    #pu.plotEvolution(hs, ev1, ax_a=axs[1] ,color=l.get_c(), linestyle='-.')\n",
    "    #pu.plotEvolution(hs, ev2, ax_a=axs[1] ,color=l.get_c(), linestyle='--')\n",
    "    \n",
    "    l, = axs[0].plot(ev.t/c.year_to_pc, ev.inclination_angle/np.pi*180)\n",
    "    axs[0].plot(ev1.t/c.year_to_pc, ev1.inclination_angle/np.pi*180, color=l.get_c(), linestyle='-.')\n",
    "    axs[0].plot(ev2.t/c.year_to_pc, ev2.inclination_angle/np.pi*180, color=l.get_c(), linestyle='--')\n",
    "    \n",
    "    axs[1].plot(ev.a/hs.r_isco, ev.inclination_angle/np.pi*180, color=l.get_c())\n",
    "    axs[1].plot(ev1.a/hs.r_isco, ev1.inclination_angle/np.pi*180, color=l.get_c(), linestyle='-.')\n",
    "    axs[1].plot(ev2.a/hs.r_isco, ev2.inclination_angle/np.pi*180, color=l.get_c(), linestyle='--')\n",
    "    \n",
    "    if ev.a[-1] < 2.*hs.r_isco:\n",
    "        axs[0].plot(ev.t[-1]/c.year_to_pc, ev.inclination_angle[-1]/np.pi*180, \n",
    "                      marker='*', color=l.get_c(), fillstyle='none')\n",
    "        axs[1].plot(ev.a[-1]/hs.r_isco, ev.inclination_angle[-1]/np.pi*180, \n",
    "                       marker='*', color=l.get_c(), fillstyle='none')\n",
    "        #axs[0,0].plot(evs_sd_gdf_32[i].t[-1]/c.year_to_pc, evs_sd_gdf_32[i].inclination_angle[-1]/np.pi*180, \n",
    "        #                  marker='*', color=l.get_c(), fillstyle='left', markeredgecolor=l.get_c())\n",
    "    if ev2.a[-1] < 2.*hs.r_isco:\n",
    "        axs[0].plot(ev2.t[-1]/c.year_to_pc, ev2.inclination_angle[-1]/np.pi*180, \n",
    "                          marker='*', color=l.get_c(), fillstyle='full', markeredgecolor=l.get_c())\n",
    "        axs[1].plot(ev2.a[-1]/hs.r_isco, ev2.inclination_angle[-1]/np.pi*180, \n",
    "                          marker='*', color=l.get_c(), fillstyle='full', markeredgecolor=l.get_c())\n",
    "\n",
    "\n",
    "axs[0].set_xscale('log'); #axs[0].set_yscale('log'); \n",
    "axs[0].plot(axs[0].get_xlim(), [0.,0.], color='black')\n",
    "axs[0].set_xlabel(\"t / yrs\"); axs[0].set_ylabel(\"$\\iota$ / deg°\")\n",
    "#axs[1].legend(); axs[1].set_xlabel(\"t / yrs\"); axs[1].set_ylabel(\"a / $r_{isco}$\")\n",
    "axs[1].set_xlim(left=1.); axs[1].set_xscale('log')\n",
    "axs[1].set_xlabel(\"a / $r_{isco}$\"); #axs[1].set_ylabel(\"$\\iota$ / rad\")\n",
    "axs[1].plot(axs[1].get_xlim(), [0.,0.], color='black')\n",
    "\n",
    "for ax in axs.flatten():\n",
    "    ax.grid()\n",
    "fig.subplots_adjust(wspace=0.)\n",
    "axs[1].get_yaxis().set_ticklabels([]);\n",
    "\n",
    "fig.savefig(f\"plots/inc_sd_ggd_{m1/c.solar_mass_to_pc:.0e}.pdf\", bbox_inches=\"tight\")"
   ]
  },
  {
   "cell_type": "markdown",
   "metadata": {},
   "source": [
    "## Critical Alignment Angle"
   ]
  },
  {
   "cell_type": "code",
   "execution_count": 5,
   "metadata": {},
   "outputs": [],
   "source": [
    "inclined = lambda t, y, *args: np.abs(y[4]) - 1e-3\n",
    "inclined.terminal = True"
   ]
  },
  {
   "cell_type": "code",
   "execution_count": 6,
   "metadata": {},
   "outputs": [],
   "source": [
    "def find_alignment_angle(hs, k0, gdf, opt, i0_left=1./180.*np.pi, i0_right=180./180.*np.pi, depth=0, max_depth=8, evs=[]):\n",
    "    \"\"\"\n",
    "    Binary search for the critical alignment angle\n",
    "    \"\"\"\n",
    "    i0 = (i0_left + i0_right)/2.\n",
    "    if depth >= max_depth or (i0_right - i0_left) < 0.1/180.*np.pi:\n",
    "        return i0, evs\n",
    "    if len(opt.additionalEvents) < 1:\n",
    "        opt.additionalEvents.append(inclined)\n",
    "    \n",
    "    k0.inclination_angle = i0\n",
    "    # timescales\n",
    "    t_GW = 3.*2**(7./2)/85 * k0.a**4 * (1.-k0.e)**(7./2) / hs.m1**2 / k0.m2\n",
    "    stellarDiffusion = opt.dissipativeForces[1]; stellarHalo = stellarDiffusion.stellarDistribution\n",
    "    k = 0.34; sigma = np.sqrt(hs.m1 / (1.+ stellarHalo.alpha) / k0.a)\n",
    "    t_AM =  ( 2*k*sigma**3 / (stellarHalo.density(k0.a)/stellarDiffusion.E_m_s)\n",
    "          / stellarDiffusion.E_m_s**2 / stellarDiffusion.CoulombLogarithm * (1.-k0.e))\n",
    "    T_i = np.abs(i0 / gdf.dinclination_angle_dt(hs, k0, opt=opt))\n",
    "    time_estimates = np.array([t_AM, t_GW, T_i])\n",
    "    if len(evs) > 0 and (i0_right-i0_left) < 10./180.*np.pi:\n",
    "        time_estimates = np.append(time_estimates, evs[-1].t[-1])\n",
    "    # lets go\n",
    "    print(depth, i0, time_estimates)\n",
    "    ev = inspiral.Classic.Evolve(hs, k0, t_fin=1e1*np.min(time_estimates), opt=opt)\n",
    "    evs.append(ev)\n",
    "    if ev.a[-1] < 3.*hs.r_isco:\n",
    "        return find_alignment_angle(hs, k0, gdf, opt, i0_left=i0_left, i0_right=i0, \n",
    "                                        depth=depth+1, max_depth=max_depth, evs=evs)\n",
    "    else:\n",
    "        return find_alignment_angle(hs, k0, gdf, opt, i0_left=i0, i0_right=i0_right, \n",
    "                                        depth=depth+1, max_depth=max_depth, evs=evs)"
   ]
  },
  {
   "cell_type": "code",
   "execution_count": 9,
   "metadata": {},
   "outputs": [],
   "source": [
    "def compare(m1, m2):\n",
    "    \"\"\"\n",
    "    Calculates the critical alignment angle with and without spikes\n",
    "    \"\"\"\n",
    "    hs = ms.HostSystem(m1)\n",
    "    \n",
    "    #environmental effects\n",
    "    gw = inspiral.forces.GWLoss()\n",
    "    stellarHalo, stellarDiffusion = common.StellarDistributionAna(hs, E_m_s=m2)\n",
    "    dmDisk, gdf_dm = common.AccretionDisk(hs)\n",
    "    spike_73, df_73 = common.DMSpike(hs, 7./3.)\n",
    "    spike_32, df_32 = common.DMSpike(hs, 3./2.)\n",
    "    \n",
    "    # different inspirals\n",
    "    opt_base = inspiral.Classic.EvolutionOptions(dissipativeForces=[gw, stellarDiffusion, gdf_dm],\n",
    "                                                 inclinationChange=True, considerRelativeVelocities=True, \n",
    "                                                 accuracy=1e-9, additionalEvents=[inclined])\n",
    "    \n",
    "    opt_32 = inspiral.Classic.EvolutionOptions(dissipativeForces=[gw, stellarDiffusion, gdf_dm , df_32],\n",
    "                                                 inclinationChange=True, considerRelativeVelocities=True, \n",
    "                                                 accuracy=1e-9, additionalEvents=[inclined])\n",
    "\n",
    "    opt_73 = inspiral.Classic.EvolutionOptions(dissipativeForces=[gw, stellarDiffusion, gdf_dm , df_73],\n",
    "                                                 inclinationChange=True, considerRelativeVelocities=True, \n",
    "                                                 accuracy=1e-9, additionalEvents=[inclined])\n",
    "    # initial orbit\n",
    "    a0 = 1e5 * hs.r_isco\n",
    "    e0 = 0.\n",
    "    k0 = kepler.KeplerOrbit(hs, m2, a0, e0)\n",
    "    # alignemnt angles\n",
    "    i0_base, evs_base = find_alignment_angle(hs, k0, gdf_dm, opt_base, \n",
    "                                             i0_left=15./180.*np.pi, i0_right=30./180.*np.pi, max_depth=10, evs=[])\n",
    "    i0_32, evs_32 = find_alignment_angle(hs, k0, gdf_dm, opt_32, \n",
    "                                             i0_left=15./180.*np.pi, i0_right=30./180.*np.pi, max_depth=10, evs=[])\n",
    "    i0_73, evs_73 = find_alignment_angle(hs, k0, gdf_dm, opt_73, \n",
    "                                             i0_left=15./180.*np.pi, i0_right=30./180.*np.pi, max_depth=10, evs=[])\n",
    "    \n",
    "    return [i0_base, i0_32, i0_73], evs_base, evs_32, evs_73"
   ]
  },
  {
   "cell_type": "code",
   "execution_count": 10,
   "metadata": {
    "scrolled": true
   },
   "outputs": [
    {
     "name": "stdout",
     "output_type": "stream",
     "text": [
      "0 0.39269908169872414 [8.09117234e+05 2.48401122e+18 2.79781118e+06]\n",
      "Evolving from  100000.0  to  1.0 r_isco   on circular orbits  with  Options: dissipative forces employed {GWLoss, Stellar Diffusion2*, GasDynamicalFriction, }, accuracy = 1.0e-09, with inclination change\n"
     ]
    },
    {
     "name": "stderr",
     "output_type": "stream",
     "text": [
      "/media/data/Documents/PhD/imripy/src/imripy/inspiral/forces.py:534: RuntimeWarning: divide by zero encountered in divide\n",
      "  1./2. * np.log((1. + v_rel_tot/c_s)/(1. - v_rel_tot/c_s)) - v_rel_tot/c_s) # subsonic regime\n",
      "/media/data/Documents/PhD/imripy/src/imripy/inspiral/forces.py:534: RuntimeWarning: invalid value encountered in double_scalars\n",
      "  1./2. * np.log((1. + v_rel_tot/c_s)/(1. - v_rel_tot/c_s)) - v_rel_tot/c_s) # subsonic regime\n",
      "/media/data/Documents/PhD/imripy/src/imripy/halo/baryonic.py:978: RuntimeWarning: invalid value encountered in double_scalars\n",
      "  interpHalo.density = lambda r, z : density_interp(r)*np.exp(-z**2/scale_height_interp(r)**2)\n",
      "/media/data/Documents/PhD/imripy/src/imripy/halo/baryonic.py:978: RuntimeWarning: divide by zero encountered in double_scalars\n",
      "  interpHalo.density = lambda r, z : density_interp(r)*np.exp(-z**2/scale_height_interp(r)**2)\n",
      "/media/data/Documents/PhD/imripy/src/imripy/kepler.py:215: RuntimeWarning: invalid value encountered in sqrt\n",
      "  v = np.sqrt(self.m_tot *(2./r - 1./self.a))\n",
      "/media/data/Documents/PhD/imripy/src/imripy/kepler.py:216: RuntimeWarning: invalid value encountered in sqrt\n",
      "  v_phi = r * np.sqrt(self.m_tot*self.a*(1.-self.e**2))/r**2\n",
      "/media/data/Documents/PhD/imripy/src/imripy/inspiral/forces.py:1176: RuntimeWarning: invalid value encountered in sqrt\n",
      "  J = np.sqrt(ko.m1 * ko.a * (1.-ko.e**2))\n",
      "/media/data/Documents/PhD/imripy/src/imripy/kepler.py:240: RuntimeWarning: invalid value encountered in sqrt\n",
      "  v = np.sqrt(self.m_tot *(2./r - 1./self.a))\n",
      "/media/data/Documents/PhD/imripy/src/imripy/inspiral/forces.py:1172: RuntimeWarning: invalid value encountered in sqrt\n",
      "  return np.sqrt(2.*(self.potential(r) - E_a))\n",
      "/media/data/Documents/PhD/imripy/src/imripy/halo/dm.py:196: RuntimeWarning: invalid value encountered in power\n",
      "  * eps**(self.alpha-3./2.) )\n",
      "/media/data/Documents/PhD/imripy/src/imripy/inspiral/forces.py:1190: IntegrationWarning: The occurrence of roundoff error is detected, which prevents \n",
      "  the requested tolerance from being achieved.  The error may be \n",
      "  underestimated.\n",
      "  * quad(integrand_orbit, 0., 2.*np.pi)[0] )\n",
      "/media/data/Documents/PhD/imripy/src/imripy/inspiral/forces.py:1222: RuntimeWarning: invalid value encountered in sqrt\n",
      "  J = np.sqrt(ko.m1 * ko.a * (1.-ko.e**2))\n",
      "/media/data/Documents/PhD/imripy/src/imripy/inspiral/forces.py:1237: IntegrationWarning: The occurrence of roundoff error is detected, which prevents \n",
      "  the requested tolerance from being achieved.  The error may be \n",
      "  underestimated.\n",
      "  * quad(integrand_deps2, 0., 2.*np.pi)[0] )\n",
      "/media/data/Documents/PhD/imripy/src/imripy/merger_system.py:102: RuntimeWarning: invalid value encountered in sqrt\n",
      "  return np.sqrt(self.mass(r)/r**3)\n",
      "/media/data/Documents/PhD/imripy/src/imripy/inspiral/forces.py:130: IntegrationWarning: The occurrence of roundoff error is detected, which prevents \n",
      "  the requested tolerance from being achieved.  The error may be \n",
      "  underestimated.\n",
      "  return -(1.-e**2)**(3./2.)/2./np.pi * quad(integrand, 0., 2.*np.pi, limit = 100)[0]\n"
     ]
    },
    {
     "name": "stdout",
     "output_type": "stream",
     "text": [
      "A termination event occurred.\n",
      " -> Ended at 2.667e+00r_isco. Evolution took 1264.0708s real time\n",
      "1 0.32724923474893675 [8.09117234e+05 2.48401122e+18 1.35701499e+06 1.60441290e+05]\n",
      "Evolving from  100000.0  to  1.0 r_isco   on circular orbits  with  Options: dissipative forces employed {GWLoss, Stellar Diffusion2*, GasDynamicalFriction, }, accuracy = 1.0e-09, with inclination change\n"
     ]
    },
    {
     "name": "stderr",
     "output_type": "stream",
     "text": [
      "/media/data/Documents/PhD/imripy/src/imripy/inspiral/forces.py:533: RuntimeWarning: invalid value encountered in log\n",
      "  1./2. * np.log(1. - (c_s/v_rel_tot)**2) + ln_Lambda, # supersonic regime\n",
      "/media/data/Documents/PhD/imripy/src/imripy/inspiral/forces.py:130: IntegrationWarning: The maximum number of subdivisions (100) has been achieved.\n",
      "  If increasing the limit yields no improvement it is advised to analyze \n",
      "  the integrand in order to determine the difficulties.  If the position of a \n",
      "  local difficulty can be determined (singularity, discontinuity) one will \n",
      "  probably gain from splitting up the interval and calling the integrator \n",
      "  on the subranges.  Perhaps a special-purpose integrator should be used.\n",
      "  return -(1.-e**2)**(3./2.)/2./np.pi * quad(integrand, 0., 2.*np.pi, limit = 100)[0]\n"
     ]
    },
    {
     "name": "stdout",
     "output_type": "stream",
     "text": [
      "A termination event occurred.\n",
      " -> Ended at 1.273e+03r_isco. Evolution took 1159.7733s real time\n",
      "2 0.35997415822383044 [8.09117234e+05 2.48401122e+18 1.98140481e+06 1.10296483e+05]\n",
      "Evolving from  100000.0  to  1.0 r_isco   on circular orbits  with  Options: dissipative forces employed {GWLoss, Stellar Diffusion2*, GasDynamicalFriction, }, accuracy = 1.0e-09, with inclination change\n",
      "A termination event occurred.\n",
      " -> Ended at 1.793e+02r_isco. Evolution took 1260.5696s real time\n",
      "3 0.3763366199612773 [8.09117234e+05 2.48401122e+18 2.36349650e+06 1.35074574e+05]\n",
      "Evolving from  100000.0  to  1.0 r_isco   on circular orbits  with  Options: dissipative forces employed {GWLoss, Stellar Diffusion2*, GasDynamicalFriction, }, accuracy = 1.0e-09, with inclination change\n",
      "A termination event occurred.\n",
      " -> Ended at 5.036e+01r_isco. Evolution took 1387.3704s real time\n",
      "4 0.38451785083000073 [8.09117234e+05 2.48401122e+18 2.57385377e+06 1.48651507e+05]\n",
      "Evolving from  100000.0  to  1.0 r_isco   on circular orbits  with  Options: dissipative forces employed {GWLoss, Stellar Diffusion2*, GasDynamicalFriction, }, accuracy = 1.0e-09, with inclination change\n",
      "A termination event occurred.\n",
      " -> Ended at 2.667e+00r_isco. Evolution took 1146.7574s real time\n",
      "5 0.38042723539563905 [8.09117234e+05 2.48401122e+18 2.46700952e+06 1.55804712e+05]\n",
      "Evolving from  100000.0  to  1.0 r_isco   on circular orbits  with  Options: dissipative forces employed {GWLoss, Stellar Diffusion2*, GasDynamicalFriction, }, accuracy = 1.0e-09, with inclination change\n",
      "A termination event occurred.\n",
      " -> Ended at 3.321e+01r_isco. Evolution took 1436.8443s real time\n",
      "6 0.38247254311281986 [8.09117234e+05 2.48401122e+18 2.52001097e+06 1.52265396e+05]\n",
      "Evolving from  100000.0  to  1.0 r_isco   on circular orbits  with  Options: dissipative forces employed {GWLoss, Stellar Diffusion2*, GasDynamicalFriction, }, accuracy = 1.0e-09, with inclination change\n",
      "A termination event occurred.\n",
      " -> Ended at 2.359e+01r_isco. Evolution took 1464.2681s real time\n",
      "7 0.3834951969714103 [8.09117234e+05 2.48401122e+18 2.54682666e+06 1.54131635e+05]\n",
      "Evolving from  100000.0  to  1.0 r_isco   on circular orbits  with  Options: dissipative forces employed {GWLoss, Stellar Diffusion2*, GasDynamicalFriction, }, accuracy = 1.0e-09, with inclination change\n",
      "A termination event occurred.\n",
      " -> Ended at 1.322e+01r_isco. Evolution took 1192.5499s real time\n",
      "0 0.39269908169872414 [8.09117234e+05 2.48401122e+18 2.79781118e+06]\n",
      "Evolving from  100000.0  to  1.0 r_isco   on circular orbits  with  Options: dissipative forces employed {GWLoss, Stellar Diffusion2*, GasDynamicalFriction, DynamicalFriction, }, accuracy = 1.0e-09, with inclination change\n"
     ]
    },
    {
     "name": "stderr",
     "output_type": "stream",
     "text": [
      "/media/data/Documents/PhD/imripy/src/imripy/halo/dm.py:147: RuntimeWarning: invalid value encountered in double_scalars\n",
      "  return np.where(r > self.r_min, self.rho_spike * (self.r_spike/r)**self.alpha, 0.)\n",
      "/media/data/Documents/PhD/imripy/src/imripy/inspiral/forces.py:455: RuntimeWarning: invalid value encountered in sqrt\n",
      "  v_esc = np.sqrt(2*halo.potential(r))\n",
      "/media/data/Documents/PhD/imripy/src/imripy/inspiral/forces.py:452: RuntimeWarning: divide by zero encountered in divide\n",
      "  alpha =  4.*np.pi*simpson(v2_list * f_list, x=np.sqrt(v2_list)) / density # TODO: Change Normalization of f from density to 1?\n",
      "/media/data/Documents/PhD/imripy/src/imripy/inspiral/forces.py:461: RuntimeWarning: divide by zero encountered in divide\n",
      "  beta =  4.*np.pi*simpson(v_list**2 * f_list * np.log((v_list + v_rel)/(v_list-v_rel)), x=v_list) / density\n",
      "/media/data/Documents/PhD/imripy/src/imripy/inspiral/forces.py:463: RuntimeWarning: divide by zero encountered in divide\n",
      "  delta =  -8.*np.pi*v_rel*simpson(v_list * f_list, x=v_list) / density\n",
      "/media/data/Documents/PhD/imripy/src/imripy/inspiral/forces.py:465: RuntimeWarning: invalid value encountered in double_scalars\n",
      "  bracket = (alpha * ln_Lambda + beta + delta)\n"
     ]
    },
    {
     "name": "stdout",
     "output_type": "stream",
     "text": [
      "A termination event occurred.\n",
      " -> Ended at 2.667e+00r_isco. Evolution took 1117.4347s real time\n",
      "1 0.32724923474893675 [8.09117234e+05 2.48401122e+18 1.35701499e+06 1.60426720e+05]\n",
      "Evolving from  100000.0  to  1.0 r_isco   on circular orbits  with  Options: dissipative forces employed {GWLoss, Stellar Diffusion2*, GasDynamicalFriction, DynamicalFriction, }, accuracy = 1.0e-09, with inclination change\n",
      "A termination event occurred.\n",
      " -> Ended at 1.273e+03r_isco. Evolution took 1261.1251s real time\n",
      "2 0.35997415822383044 [8.09117234e+05 2.48401122e+18 1.98140481e+06 1.10287106e+05]\n",
      "Evolving from  100000.0  to  1.0 r_isco   on circular orbits  with  Options: dissipative forces employed {GWLoss, Stellar Diffusion2*, GasDynamicalFriction, DynamicalFriction, }, accuracy = 1.0e-09, with inclination change\n",
      "A termination event occurred.\n",
      " -> Ended at 1.793e+02r_isco. Evolution took 1301.1201s real time\n",
      "3 0.3763366199612773 [8.09117234e+05 2.48401122e+18 2.36349650e+06 1.35063070e+05]\n",
      "Evolving from  100000.0  to  1.0 r_isco   on circular orbits  with  Options: dissipative forces employed {GWLoss, Stellar Diffusion2*, GasDynamicalFriction, DynamicalFriction, }, accuracy = 1.0e-09, with inclination change\n",
      "A termination event occurred.\n",
      " -> Ended at 5.033e+01r_isco. Evolution took 1410.6246s real time\n",
      "4 0.38451785083000073 [8.09117234e+05 2.48401122e+18 2.57385377e+06 1.48639682e+05]\n",
      "Evolving from  100000.0  to  1.0 r_isco   on circular orbits  with  Options: dissipative forces employed {GWLoss, Stellar Diffusion2*, GasDynamicalFriction, DynamicalFriction, }, accuracy = 1.0e-09, with inclination change\n",
      "A termination event occurred.\n",
      " -> Ended at 2.667e+00r_isco. Evolution took 1264.9195s real time\n",
      "5 0.38042723539563905 [8.09117234e+05 2.48401122e+18 2.46700952e+06 1.55790601e+05]\n",
      "Evolving from  100000.0  to  1.0 r_isco   on circular orbits  with  Options: dissipative forces employed {GWLoss, Stellar Diffusion2*, GasDynamicalFriction, DynamicalFriction, }, accuracy = 1.0e-09, with inclination change\n",
      "A termination event occurred.\n",
      " -> Ended at 3.319e+01r_isco. Evolution took 1550.3281s real time\n",
      "6 0.38247254311281986 [8.09117234e+05 2.48401122e+18 2.52001097e+06 1.52253178e+05]\n",
      "Evolving from  100000.0  to  1.0 r_isco   on circular orbits  with  Options: dissipative forces employed {GWLoss, Stellar Diffusion2*, GasDynamicalFriction, DynamicalFriction, }, accuracy = 1.0e-09, with inclination change\n",
      "A termination event occurred.\n",
      " -> Ended at 2.355e+01r_isco. Evolution took 1554.5488s real time\n",
      "7 0.3834951969714103 [8.09117234e+05 2.48401122e+18 2.54682666e+06 1.54119095e+05]\n",
      "Evolving from  100000.0  to  1.0 r_isco   on circular orbits  with  Options: dissipative forces employed {GWLoss, Stellar Diffusion2*, GasDynamicalFriction, DynamicalFriction, }, accuracy = 1.0e-09, with inclination change\n",
      "A termination event occurred.\n",
      " -> Ended at 1.308e+01r_isco. Evolution took 1363.2481s real time\n",
      "0 0.39269908169872414 [8.09117234e+05 2.48401122e+18 2.79781118e+06]\n",
      "Evolving from  100000.0  to  1.0 r_isco   on circular orbits  with  Options: dissipative forces employed {GWLoss, Stellar Diffusion2*, GasDynamicalFriction, DynamicalFriction, }, accuracy = 1.0e-09, with inclination change\n",
      "A termination event occurred.\n",
      " -> Ended at 2.667e+00r_isco. Evolution took 982.2809s real time\n",
      "1 0.32724923474893675 [8.09117234e+05 2.48401122e+18 1.35701499e+06 1.41771823e+05]\n",
      "Evolving from  100000.0  to  1.0 r_isco   on circular orbits  with  Options: dissipative forces employed {GWLoss, Stellar Diffusion2*, GasDynamicalFriction, DynamicalFriction, }, accuracy = 1.0e-09, with inclination change\n",
      "A termination event occurred.\n",
      " -> Ended at 8.965e+02r_isco. Evolution took 1140.0201s real time\n",
      "2 0.35997415822383044 [8.09117234e+05 2.48401122e+18 1.98140481e+06 1.06271156e+05]\n",
      "Evolving from  100000.0  to  1.0 r_isco   on circular orbits  with  Options: dissipative forces employed {GWLoss, Stellar Diffusion2*, GasDynamicalFriction, DynamicalFriction, }, accuracy = 1.0e-09, with inclination change\n",
      "A termination event occurred.\n",
      " -> Ended at 1.938e+01r_isco. Evolution took 1283.8231s real time\n",
      "3 0.3763366199612773 [8.09117234e+05 2.48401122e+18 2.36349650e+06 1.29722549e+05]\n",
      "Evolving from  100000.0  to  1.0 r_isco   on circular orbits  with  Options: dissipative forces employed {GWLoss, Stellar Diffusion2*, GasDynamicalFriction, DynamicalFriction, }, accuracy = 1.0e-09, with inclination change\n",
      "A termination event occurred.\n",
      " -> Ended at 2.667e+00r_isco. Evolution took 953.9809s real time\n",
      "4 0.36815538909255385 [8.09117234e+05 2.48401122e+18 2.16619258e+06 1.36380761e+05]\n",
      "Evolving from  100000.0  to  1.0 r_isco   on circular orbits  with  Options: dissipative forces employed {GWLoss, Stellar Diffusion2*, GasDynamicalFriction, DynamicalFriction, }, accuracy = 1.0e-09, with inclination change\n",
      "A termination event occurred.\n",
      " -> Ended at 2.667e+00r_isco. Evolution took 913.0784s real time\n",
      "5 0.3640647736581921 [8.09117234e+05 2.48401122e+18 2.07226737e+06 1.33358837e+05]\n",
      "Evolving from  100000.0  to  1.0 r_isco   on circular orbits  with  Options: dissipative forces employed {GWLoss, Stellar Diffusion2*, GasDynamicalFriction, DynamicalFriction, }, accuracy = 1.0e-09, with inclination change\n",
      "A termination event occurred.\n",
      " -> Ended at 2.667e+00r_isco. Evolution took 884.0113s real time\n",
      "6 0.3620194659410113 [8.09117234e+05 2.48401122e+18 2.02645738e+06 1.31707020e+05]\n",
      "Evolving from  100000.0  to  1.0 r_isco   on circular orbits  with  Options: dissipative forces employed {GWLoss, Stellar Diffusion2*, GasDynamicalFriction, DynamicalFriction, }, accuracy = 1.0e-09, with inclination change\n",
      "A termination event occurred.\n",
      " -> Ended at 2.667e+00r_isco. Evolution took 923.9148s real time\n",
      "7 0.36099681208242085 [8.09117234e+05 2.48401122e+18 2.00383693e+06 1.30821314e+05]\n",
      "Evolving from  100000.0  to  1.0 r_isco   on circular orbits  with  Options: dissipative forces employed {GWLoss, Stellar Diffusion2*, GasDynamicalFriction, DynamicalFriction, }, accuracy = 1.0e-09, with inclination change\n",
      "A termination event occurred.\n",
      " -> Ended at 2.667e+00r_isco. Evolution took 913.2584s real time\n"
     ]
    }
   ],
   "source": [
    "i0s1e5, evs0_1e5, evs1_1e5, evs2_1e5 = compare(1e5*c.solar_mass_to_pc, 10.*c.solar_mass_to_pc)"
   ]
  },
  {
   "cell_type": "code",
   "execution_count": 11,
   "metadata": {
    "scrolled": true
   },
   "outputs": [
    {
     "name": "stdout",
     "output_type": "stream",
     "text": [
      "0 0.39269908169872414 [3.75184673e+04 2.48401122e+16 4.35227504e+05]\n",
      "Evolving from  100000.0  to  1.0 r_isco   on circular orbits  with  Options: dissipative forces employed {GWLoss, Stellar Diffusion2*, GasDynamicalFriction, }, accuracy = 1.0e-09, with inclination change\n",
      "A termination event occurred.\n",
      " -> Ended at 2.667e+00r_isco. Evolution took 699.0729s real time\n",
      "1 0.32724923474893675 [3.75184673e+04 2.48401122e+16 2.11095385e+05 1.88262488e+04]\n",
      "Evolving from  100000.0  to  1.0 r_isco   on circular orbits  with  Options: dissipative forces employed {GWLoss, Stellar Diffusion2*, GasDynamicalFriction, }, accuracy = 1.0e-09, with inclination change\n",
      "A termination event occurred.\n",
      " -> Ended at 3.259e+02r_isco. Evolution took 888.1841s real time\n",
      "2 0.35997415822383044 [3.75184673e+04 2.48401122e+16 3.08226157e+05 1.44336654e+04]\n",
      "Evolving from  100000.0  to  1.0 r_isco   on circular orbits  with  Options: dissipative forces employed {GWLoss, Stellar Diffusion2*, GasDynamicalFriction, }, accuracy = 1.0e-09, with inclination change\n",
      "A termination event occurred.\n",
      " -> Ended at 2.667e+00r_isco. Evolution took 737.7765s real time\n",
      "3 0.34361169648638357 [3.75184673e+04 2.48401122e+16 2.56248959e+05 1.76183186e+04]\n",
      "Evolving from  100000.0  to  1.0 r_isco   on circular orbits  with  Options: dissipative forces employed {GWLoss, Stellar Diffusion2*, GasDynamicalFriction, }, accuracy = 1.0e-09, with inclination change\n",
      "A termination event occurred.\n",
      " -> Ended at 7.505e+01r_isco. Evolution took 1036.9014s real time\n",
      "4 0.35179292735510703 [3.75184673e+04 2.48401122e+16 2.81345322e+05 1.64482696e+04]\n",
      "Evolving from  100000.0  to  1.0 r_isco   on circular orbits  with  Options: dissipative forces employed {GWLoss, Stellar Diffusion2*, GasDynamicalFriction, }, accuracy = 1.0e-09, with inclination change\n",
      "A termination event occurred.\n",
      " -> Ended at 2.667e+00r_isco. Evolution took 815.9759s real time\n",
      "5 0.3477023119207453 [3.75184673e+04 2.48401122e+16 2.68579053e+05 1.72064658e+04]\n",
      "Evolving from  100000.0  to  1.0 r_isco   on circular orbits  with  Options: dissipative forces employed {GWLoss, Stellar Diffusion2*, GasDynamicalFriction, }, accuracy = 1.0e-09, with inclination change\n",
      "A termination event occurred.\n",
      " -> Ended at 2.667e+00r_isco. Evolution took 899.2084s real time\n",
      "6 0.34565700420356443 [3.75184673e+04 2.48401122e+16 2.62360100e+05 1.69519729e+04]\n",
      "Evolving from  100000.0  to  1.0 r_isco   on circular orbits  with  Options: dissipative forces employed {GWLoss, Stellar Diffusion2*, GasDynamicalFriction, }, accuracy = 1.0e-09, with inclination change\n",
      "A termination event occurred.\n",
      " -> Ended at 5.383e+01r_isco. Evolution took 1061.0357s real time\n",
      "7 0.34667965806215484 [3.75184673e+04 2.48401122e+16 2.65456023e+05 1.67135528e+04]\n",
      "Evolving from  100000.0  to  1.0 r_isco   on circular orbits  with  Options: dissipative forces employed {GWLoss, Stellar Diffusion2*, GasDynamicalFriction, }, accuracy = 1.0e-09, with inclination change\n",
      "A termination event occurred.\n",
      " -> Ended at 3.788e+01r_isco. Evolution took 1046.4852s real time\n",
      "0 0.39269908169872414 [3.75184673e+04 2.48401122e+16 4.35227504e+05]\n",
      "Evolving from  100000.0  to  1.0 r_isco   on circular orbits  with  Options: dissipative forces employed {GWLoss, Stellar Diffusion2*, GasDynamicalFriction, DynamicalFriction, }, accuracy = 1.0e-09, with inclination change\n",
      "A termination event occurred.\n",
      " -> Ended at 2.667e+00r_isco. Evolution took 860.1142s real time\n",
      "1 0.32724923474893675 [3.75184673e+04 2.48401122e+16 2.11095385e+05 1.88250099e+04]\n",
      "Evolving from  100000.0  to  1.0 r_isco   on circular orbits  with  Options: dissipative forces employed {GWLoss, Stellar Diffusion2*, GasDynamicalFriction, DynamicalFriction, }, accuracy = 1.0e-09, with inclination change\n",
      "A termination event occurred.\n",
      " -> Ended at 3.258e+02r_isco. Evolution took 1037.4554s real time\n",
      "2 0.35997415822383044 [3.75184673e+04 2.48401122e+16 3.08226157e+05 1.44330898e+04]\n",
      "Evolving from  100000.0  to  1.0 r_isco   on circular orbits  with  Options: dissipative forces employed {GWLoss, Stellar Diffusion2*, GasDynamicalFriction, DynamicalFriction, }, accuracy = 1.0e-09, with inclination change\n",
      "A termination event occurred.\n",
      " -> Ended at 2.667e+00r_isco. Evolution took 878.5861s real time\n",
      "3 0.34361169648638357 [3.75184673e+04 2.48401122e+16 2.56248959e+05 1.76171665e+04]\n",
      "Evolving from  100000.0  to  1.0 r_isco   on circular orbits  with  Options: dissipative forces employed {GWLoss, Stellar Diffusion2*, GasDynamicalFriction, DynamicalFriction, }, accuracy = 1.0e-09, with inclination change\n",
      "A termination event occurred.\n",
      " -> Ended at 7.501e+01r_isco. Evolution took 1123.2663s real time\n",
      "4 0.35179292735510703 [3.75184673e+04 2.48401122e+16 2.81345322e+05 1.64476099e+04]\n",
      "Evolving from  100000.0  to  1.0 r_isco   on circular orbits  with  Options: dissipative forces employed {GWLoss, Stellar Diffusion2*, GasDynamicalFriction, DynamicalFriction, }, accuracy = 1.0e-09, with inclination change\n",
      "A termination event occurred.\n",
      " -> Ended at 2.667e+00r_isco. Evolution took 900.8895s real time\n",
      "5 0.3477023119207453 [3.75184673e+04 2.48401122e+16 2.68579053e+05 1.72054842e+04]\n",
      "Evolving from  100000.0  to  1.0 r_isco   on circular orbits  with  Options: dissipative forces employed {GWLoss, Stellar Diffusion2*, GasDynamicalFriction, DynamicalFriction, }, accuracy = 1.0e-09, with inclination change\n",
      "A termination event occurred.\n",
      " -> Ended at 2.667e+00r_isco. Evolution took 905.0411s real time\n",
      "6 0.34565700420356443 [3.75184673e+04 2.48401122e+16 2.62360100e+05 1.69510409e+04]\n",
      "Evolving from  100000.0  to  1.0 r_isco   on circular orbits  with  Options: dissipative forces employed {GWLoss, Stellar Diffusion2*, GasDynamicalFriction, DynamicalFriction, }, accuracy = 1.0e-09, with inclination change\n",
      "A termination event occurred.\n",
      " -> Ended at 5.377e+01r_isco. Evolution took 1016.2620s real time\n",
      "7 0.34667965806215484 [3.75184673e+04 2.48401122e+16 2.65456023e+05 1.67129485e+04]\n",
      "Evolving from  100000.0  to  1.0 r_isco   on circular orbits  with  Options: dissipative forces employed {GWLoss, Stellar Diffusion2*, GasDynamicalFriction, DynamicalFriction, }, accuracy = 1.0e-09, with inclination change\n",
      "A termination event occurred.\n",
      " -> Ended at 3.778e+01r_isco. Evolution took 1098.5279s real time\n",
      "0 0.39269908169872414 [3.75184673e+04 2.48401122e+16 4.35227504e+05]\n",
      "Evolving from  100000.0  to  1.0 r_isco   on circular orbits  with  Options: dissipative forces employed {GWLoss, Stellar Diffusion2*, GasDynamicalFriction, DynamicalFriction, }, accuracy = 1.0e-09, with inclination change\n",
      "A termination event occurred.\n",
      " -> Ended at 2.667e+00r_isco. Evolution took 704.6723s real time\n",
      "1 0.32724923474893675 [3.75184673e+04 2.48401122e+16 2.11095385e+05 1.23516603e+04]\n",
      "Evolving from  100000.0  to  1.0 r_isco   on circular orbits  with  Options: dissipative forces employed {GWLoss, Stellar Diffusion2*, GasDynamicalFriction, DynamicalFriction, }, accuracy = 1.0e-09, with inclination change\n",
      "A termination event occurred.\n",
      " -> Ended at 2.667e+00r_isco. Evolution took 756.1776s real time\n",
      "2 0.2945243112740431 [3.75184673e+04 2.48401122e+16 1.38834245e+05 1.14088185e+04]\n",
      "Evolving from  100000.0  to  1.0 r_isco   on circular orbits  with  Options: dissipative forces employed {GWLoss, Stellar Diffusion2*, GasDynamicalFriction, DynamicalFriction, }, accuracy = 1.0e-09, with inclination change\n",
      "A termination event occurred.\n",
      " -> Ended at 4.331e+02r_isco. Evolution took 1043.4275s real time\n",
      "3 0.3108867730114899 [3.75184673e+04 2.48401122e+16 1.72152762e+05 1.01283837e+04]\n",
      "Evolving from  100000.0  to  1.0 r_isco   on circular orbits  with  Options: dissipative forces employed {GWLoss, Stellar Diffusion2*, GasDynamicalFriction, DynamicalFriction, }, accuracy = 1.0e-09, with inclination change\n",
      "A termination event occurred.\n",
      " -> Ended at 2.667e+00r_isco. Evolution took 769.4506s real time\n",
      "4 0.3027055421427665 [3.75184673e+04 2.48401122e+16 1.54826142e+05 1.10618913e+04]\n",
      "Evolving from  100000.0  to  1.0 r_isco   on circular orbits  with  Options: dissipative forces employed {GWLoss, Stellar Diffusion2*, GasDynamicalFriction, DynamicalFriction, }, accuracy = 1.0e-09, with inclination change\n",
      "A termination event occurred.\n",
      " -> Ended at 2.667e+00r_isco. Evolution took 756.2644s real time\n",
      "5 0.29861492670840484 [3.75184673e+04 2.48401122e+16 1.46667719e+05 1.08334049e+04]\n",
      "Evolving from  100000.0  to  1.0 r_isco   on circular orbits  with  Options: dissipative forces employed {GWLoss, Stellar Diffusion2*, GasDynamicalFriction, DynamicalFriction, }, accuracy = 1.0e-09, with inclination change\n"
     ]
    },
    {
     "name": "stdout",
     "output_type": "stream",
     "text": [
      "A termination event occurred.\n",
      " -> Ended at 1.909e+02r_isco. Evolution took 848.9558s real time\n",
      "6 0.30066023442558565 [3.75184673e+04 2.48401122e+16 1.50705771e+05 1.04878019e+04]\n",
      "Evolving from  100000.0  to  1.0 r_isco   on circular orbits  with  Options: dissipative forces employed {GWLoss, Stellar Diffusion2*, GasDynamicalFriction, DynamicalFriction, }, accuracy = 1.0e-09, with inclination change\n",
      "A termination event occurred.\n",
      " -> Ended at 9.878e+01r_isco. Evolution took 824.6597s real time\n",
      "7 0.3016828882841761 [3.75184673e+04 2.48401122e+16 1.52755598e+05 1.06662252e+04]\n",
      "Evolving from  100000.0  to  1.0 r_isco   on circular orbits  with  Options: dissipative forces employed {GWLoss, Stellar Diffusion2*, GasDynamicalFriction, DynamicalFriction, }, accuracy = 1.0e-09, with inclination change\n",
      "A termination event occurred.\n",
      " -> Ended at 5.820e+01r_isco. Evolution took 832.6743s real time\n"
     ]
    }
   ],
   "source": [
    "i0s1e4, evs0_1e4, evs1_1e4, evs2_1e4 = compare(1e4*c.solar_mass_to_pc, 10.*c.solar_mass_to_pc)"
   ]
  },
  {
   "cell_type": "code",
   "execution_count": 12,
   "metadata": {
    "scrolled": true
   },
   "outputs": [
    {
     "name": "stdout",
     "output_type": "stream",
     "text": [
      "0 0.39269908169872414 [1.89064555e+07 2.48401122e+20 1.91964967e+07]\n",
      "Evolving from  100000.0  to  1.0 r_isco   on circular orbits  with  Options: dissipative forces employed {GWLoss, Stellar Diffusion2*, GasDynamicalFriction, }, accuracy = 1.0e-09, with inclination change\n",
      "A termination event occurred.\n",
      " -> Ended at 2.667e+00r_isco. Evolution took 834.9972s real time\n",
      "1 0.32724923474893675 [1.89064555e+07 2.48401122e+20 9.31097374e+06 1.11799673e+06]\n",
      "Evolving from  100000.0  to  1.0 r_isco   on circular orbits  with  Options: dissipative forces employed {GWLoss, Stellar Diffusion2*, GasDynamicalFriction, }, accuracy = 1.0e-09, with inclination change\n",
      "A termination event occurred.\n",
      " -> Ended at 9.799e+02r_isco. Evolution took 895.5975s real time\n",
      "2 0.35997415822383044 [1.89064555e+07 2.48401122e+20 1.35950170e+07 8.00849205e+05]\n",
      "Evolving from  100000.0  to  1.0 r_isco   on circular orbits  with  Options: dissipative forces employed {GWLoss, Stellar Diffusion2*, GasDynamicalFriction, }, accuracy = 1.0e-09, with inclination change\n",
      "A termination event occurred.\n",
      " -> Ended at 1.025e+02r_isco. Evolution took 1024.8537s real time\n",
      "3 0.3763366199612773 [1.89064555e+07 2.48401122e+20 1.62166046e+07 9.55287403e+05]\n",
      "Evolving from  100000.0  to  1.0 r_isco   on circular orbits  with  Options: dissipative forces employed {GWLoss, Stellar Diffusion2*, GasDynamicalFriction, }, accuracy = 1.0e-09, with inclination change\n",
      "A termination event occurred.\n",
      " -> Ended at 2.538e+01r_isco. Evolution took 1020.2472s real time\n",
      "4 0.38451785083000073 [1.89064555e+07 2.48401122e+20 1.76598951e+07 1.03882394e+06]\n",
      "Evolving from  100000.0  to  1.0 r_isco   on circular orbits  with  Options: dissipative forces employed {GWLoss, Stellar Diffusion2*, GasDynamicalFriction, }, accuracy = 1.0e-09, with inclination change\n",
      "A termination event occurred.\n",
      " -> Ended at 2.667e+00r_isco. Evolution took 872.0734s real time\n",
      "5 0.38042723539563905 [1.89064555e+07 2.48401122e+20 1.69268219e+07 1.08438590e+06]\n",
      "Evolving from  100000.0  to  1.0 r_isco   on circular orbits  with  Options: dissipative forces employed {GWLoss, Stellar Diffusion2*, GasDynamicalFriction, }, accuracy = 1.0e-09, with inclination change\n",
      "A termination event occurred.\n",
      " -> Ended at 1.676e+01r_isco. Evolution took 1015.3243s real time\n",
      "6 0.38247254311281986 [1.89064555e+07 2.48401122e+20 1.72904722e+07 1.06120001e+06]\n",
      "Evolving from  100000.0  to  1.0 r_isco   on circular orbits  with  Options: dissipative forces employed {GWLoss, Stellar Diffusion2*, GasDynamicalFriction, }, accuracy = 1.0e-09, with inclination change\n",
      "A termination event occurred.\n",
      " -> Ended at 1.250e+01r_isco. Evolution took 1036.4958s real time\n",
      "7 0.3834951969714103 [1.89064555e+07 2.48401122e+20 1.74744584e+07 1.07280275e+06]\n",
      "Evolving from  100000.0  to  1.0 r_isco   on circular orbits  with  Options: dissipative forces employed {GWLoss, Stellar Diffusion2*, GasDynamicalFriction, }, accuracy = 1.0e-09, with inclination change\n",
      "A termination event occurred.\n",
      " -> Ended at 9.522e+00r_isco. Evolution took 1035.4918s real time\n",
      "0 0.39269908169872414 [1.89064555e+07 2.48401122e+20 1.91964967e+07]\n",
      "Evolving from  100000.0  to  1.0 r_isco   on circular orbits  with  Options: dissipative forces employed {GWLoss, Stellar Diffusion2*, GasDynamicalFriction, DynamicalFriction, }, accuracy = 1.0e-09, with inclination change\n",
      "A termination event occurred.\n",
      " -> Ended at 2.667e+00r_isco. Evolution took 845.1859s real time\n",
      "1 0.32724923474893675 [1.89064555e+07 2.48401122e+20 9.31097374e+06 1.11787737e+06]\n",
      "Evolving from  100000.0  to  1.0 r_isco   on circular orbits  with  Options: dissipative forces employed {GWLoss, Stellar Diffusion2*, GasDynamicalFriction, DynamicalFriction, }, accuracy = 1.0e-09, with inclination change\n",
      "A termination event occurred.\n",
      " -> Ended at 9.795e+02r_isco. Evolution took 884.5296s real time\n",
      "2 0.35997415822383044 [1.89064555e+07 2.48401122e+20 1.35950170e+07 8.00775086e+05]\n",
      "Evolving from  100000.0  to  1.0 r_isco   on circular orbits  with  Options: dissipative forces employed {GWLoss, Stellar Diffusion2*, GasDynamicalFriction, DynamicalFriction, }, accuracy = 1.0e-09, with inclination change\n",
      "A termination event occurred.\n",
      " -> Ended at 1.025e+02r_isco. Evolution took 1003.3610s real time\n",
      "3 0.3763366199612773 [1.89064555e+07 2.48401122e+20 1.62166046e+07 9.55193726e+05]\n",
      "Evolving from  100000.0  to  1.0 r_isco   on circular orbits  with  Options: dissipative forces employed {GWLoss, Stellar Diffusion2*, GasDynamicalFriction, DynamicalFriction, }, accuracy = 1.0e-09, with inclination change\n",
      "A termination event occurred.\n",
      " -> Ended at 2.537e+01r_isco. Evolution took 979.8431s real time\n",
      "4 0.38451785083000073 [1.89064555e+07 2.48401122e+20 1.76598951e+07 1.03872063e+06]\n",
      "Evolving from  100000.0  to  1.0 r_isco   on circular orbits  with  Options: dissipative forces employed {GWLoss, Stellar Diffusion2*, GasDynamicalFriction, DynamicalFriction, }, accuracy = 1.0e-09, with inclination change\n",
      "A termination event occurred.\n",
      " -> Ended at 2.667e+00r_isco. Evolution took 857.1473s real time\n",
      "5 0.38042723539563905 [1.89064555e+07 2.48401122e+20 1.69268219e+07 1.08427268e+06]\n",
      "Evolving from  100000.0  to  1.0 r_isco   on circular orbits  with  Options: dissipative forces employed {GWLoss, Stellar Diffusion2*, GasDynamicalFriction, DynamicalFriction, }, accuracy = 1.0e-09, with inclination change\n",
      "A termination event occurred.\n",
      " -> Ended at 1.675e+01r_isco. Evolution took 1042.7898s real time\n",
      "6 0.38247254311281986 [1.89064555e+07 2.48401122e+20 1.72904722e+07 1.06109859e+06]\n",
      "Evolving from  100000.0  to  1.0 r_isco   on circular orbits  with  Options: dissipative forces employed {GWLoss, Stellar Diffusion2*, GasDynamicalFriction, DynamicalFriction, }, accuracy = 1.0e-09, with inclination change\n",
      "A termination event occurred.\n",
      " -> Ended at 1.249e+01r_isco. Evolution took 1030.9753s real time\n",
      "7 0.3834951969714103 [1.89064555e+07 2.48401122e+20 1.74744584e+07 1.07269960e+06]\n",
      "Evolving from  100000.0  to  1.0 r_isco   on circular orbits  with  Options: dissipative forces employed {GWLoss, Stellar Diffusion2*, GasDynamicalFriction, DynamicalFriction, }, accuracy = 1.0e-09, with inclination change\n",
      "A termination event occurred.\n",
      " -> Ended at 9.500e+00r_isco. Evolution took 1067.9129s real time\n",
      "0 0.39269908169872414 [1.89064555e+07 2.48401122e+20 1.91964967e+07]\n",
      "Evolving from  100000.0  to  1.0 r_isco   on circular orbits  with  Options: dissipative forces employed {GWLoss, Stellar Diffusion2*, GasDynamicalFriction, DynamicalFriction, }, accuracy = 1.0e-09, with inclination change\n",
      "A termination event occurred.\n",
      " -> Ended at 2.667e+00r_isco. Evolution took 831.2514s real time\n",
      "1 0.32724923474893675 [1.89064555e+07 2.48401122e+20 9.31097374e+06 1.08698666e+06]\n",
      "Evolving from  100000.0  to  1.0 r_isco   on circular orbits  with  Options: dissipative forces employed {GWLoss, Stellar Diffusion2*, GasDynamicalFriction, DynamicalFriction, }, accuracy = 1.0e-09, with inclination change\n",
      "A termination event occurred.\n",
      " -> Ended at 9.094e+02r_isco. Evolution took 845.0135s real time\n",
      "2 0.35997415822383044 [1.89064555e+07 2.48401122e+20 1.35950170e+07 7.90812025e+05]\n",
      "Evolving from  100000.0  to  1.0 r_isco   on circular orbits  with  Options: dissipative forces employed {GWLoss, Stellar Diffusion2*, GasDynamicalFriction, DynamicalFriction, }, accuracy = 1.0e-09, with inclination change\n",
      "A termination event occurred.\n",
      " -> Ended at 8.152e+01r_isco. Evolution took 998.0505s real time\n",
      "3 0.3763366199612773 [1.89064555e+07 2.48401122e+20 1.62166046e+07 9.42360493e+05]\n",
      "Evolving from  100000.0  to  1.0 r_isco   on circular orbits  with  Options: dissipative forces employed {GWLoss, Stellar Diffusion2*, GasDynamicalFriction, DynamicalFriction, }, accuracy = 1.0e-09, with inclination change\n",
      "A termination event occurred.\n",
      " -> Ended at 1.090e+01r_isco. Evolution took 1065.4740s real time\n",
      "4 0.38451785083000073 [1.89064555e+07 2.48401122e+20 1.76598951e+07 1.02569191e+06]\n",
      "Evolving from  100000.0  to  1.0 r_isco   on circular orbits  with  Options: dissipative forces employed {GWLoss, Stellar Diffusion2*, GasDynamicalFriction, DynamicalFriction, }, accuracy = 1.0e-09, with inclination change\n",
      "A termination event occurred.\n",
      " -> Ended at 2.667e+00r_isco. Evolution took 865.1878s real time\n",
      "5 0.38042723539563905 [1.89064555e+07 2.48401122e+20 1.69268219e+07 1.05859987e+06]\n",
      "Evolving from  100000.0  to  1.0 r_isco   on circular orbits  with  Options: dissipative forces employed {GWLoss, Stellar Diffusion2*, GasDynamicalFriction, DynamicalFriction, }, accuracy = 1.0e-09, with inclination change\n"
     ]
    },
    {
     "name": "stdout",
     "output_type": "stream",
     "text": [
      "A termination event occurred.\n",
      " -> Ended at 2.667e+00r_isco. Evolution took 866.9407s real time\n",
      "6 0.3783819276784582 [1.89064555e+07 2.48401122e+20 1.65688856e+07 1.04348655e+06]\n",
      "Evolving from  100000.0  to  1.0 r_isco   on circular orbits  with  Options: dissipative forces employed {GWLoss, Stellar Diffusion2*, GasDynamicalFriction, DynamicalFriction, }, accuracy = 1.0e-09, with inclination change\n",
      "A termination event occurred.\n",
      " -> Ended at 2.667e+00r_isco. Evolution took 884.8647s real time\n",
      "7 0.3773592738198678 [1.89064555e+07 2.48401122e+20 1.63920418e+07 1.03551571e+06]\n",
      "Evolving from  100000.0  to  1.0 r_isco   on circular orbits  with  Options: dissipative forces employed {GWLoss, Stellar Diffusion2*, GasDynamicalFriction, DynamicalFriction, }, accuracy = 1.0e-09, with inclination change\n",
      "A termination event occurred.\n",
      " -> Ended at 2.667e+00r_isco. Evolution took 1049.0018s real time\n"
     ]
    }
   ],
   "source": [
    "i0s1e6, evs0_1e6, evs1_1e6, evs2_1e6 = compare(1e6*c.solar_mass_to_pc, 10.*c.solar_mass_to_pc)"
   ]
  },
  {
   "cell_type": "code",
   "execution_count": 17,
   "metadata": {},
   "outputs": [
    {
     "ename": "NameError",
     "evalue": "name 'i0s1e4' is not defined",
     "output_type": "error",
     "traceback": [
      "\u001b[0;31m---------------------------------------------------------------------------\u001b[0m",
      "\u001b[0;31mNameError\u001b[0m                                 Traceback (most recent call last)",
      "\u001b[0;32m<ipython-input-17-0adec17a1552>\u001b[0m in \u001b[0;36m<module>\u001b[0;34m\u001b[0m\n\u001b[0;32m----> 1\u001b[0;31m \u001b[0mnp\u001b[0m\u001b[0;34m.\u001b[0m\u001b[0marray\u001b[0m\u001b[0;34m(\u001b[0m\u001b[0mi0s1e4\u001b[0m\u001b[0;34m)\u001b[0m\u001b[0;34m*\u001b[0m\u001b[0;36m180\u001b[0m\u001b[0;34m/\u001b[0m\u001b[0mnp\u001b[0m\u001b[0;34m.\u001b[0m\u001b[0mpi\u001b[0m\u001b[0;34m,\u001b[0m \u001b[0mnp\u001b[0m\u001b[0;34m.\u001b[0m\u001b[0marray\u001b[0m\u001b[0;34m(\u001b[0m\u001b[0mi0s1e5\u001b[0m\u001b[0;34m)\u001b[0m\u001b[0;34m*\u001b[0m\u001b[0;36m180\u001b[0m\u001b[0;34m/\u001b[0m\u001b[0mnp\u001b[0m\u001b[0;34m.\u001b[0m\u001b[0mpi\u001b[0m\u001b[0;34m,\u001b[0m \u001b[0mnp\u001b[0m\u001b[0;34m.\u001b[0m\u001b[0marray\u001b[0m\u001b[0;34m(\u001b[0m\u001b[0mi0s1e6\u001b[0m\u001b[0;34m)\u001b[0m\u001b[0;34m*\u001b[0m\u001b[0;36m180\u001b[0m\u001b[0;34m/\u001b[0m\u001b[0mnp\u001b[0m\u001b[0;34m.\u001b[0m\u001b[0mpi\u001b[0m\u001b[0;34m\u001b[0m\u001b[0;34m\u001b[0m\u001b[0m\n\u001b[0m",
      "\u001b[0;31mNameError\u001b[0m: name 'i0s1e4' is not defined"
     ]
    }
   ],
   "source": [
    "np.array(i0s1e4)*180/np.pi, np.array(i0s1e5)*180/np.pi, np.array(i0s1e6)*180/np.pi"
   ]
  },
  {
   "cell_type": "code",
   "execution_count": 16,
   "metadata": {},
   "outputs": [],
   "source": [
    "# optional save for later\n",
    "for i, ev in enumerate(evs2_1e4):\n",
    "    ev.save(f\"runs/caa_evs2_1e4_1e1_{i}.npz\")"
   ]
  },
  {
   "cell_type": "code",
   "execution_count": 30,
   "metadata": {},
   "outputs": [
    {
     "data": {
      "image/png": "[encoded data removed]",
      "text/plain": [
       "<Figure size 432x288 with 1 Axes>"
      ]
     },
     "metadata": {
      "needs_background": "light"
     },
     "output_type": "display_data"
    }
   ],
   "source": [
    "labels=[\"SD\", \"SD+DM $3/2$\", \"SD+DM $7/3$\"]\n",
    "for i in range(len(i0s1e5)):\n",
    "    l, = plt.plot(1e5, i0s1e5[i]*180./np.pi, marker='o' if not i >= 1 else 'x', label=labels[i], color='red' if i ==2 else None)\n",
    "    plt.plot(1e6, i0s1e6[i]*180./np.pi, marker='o' if not i >= 1 else 'x', color=l.get_c())\n",
    "    plt.plot(1e4, i0s1e4[i]*180./np.pi, marker='o' if not i >= 1 else 'x', color=l.get_c())\n",
    "\n",
    "\n",
    "plt.xscale('log')\n",
    "plt.xlabel(\"MBH mass / $M_\\odot$\")\n",
    "plt.ylabel(\"critical alignment angle / °\", fontsize=20)\n",
    "plt.grid(); plt.legend(bbox_to_anchor=(1,1))\n",
    "#plt.savefig(\"plots/caa.pdf\", bbox_inches=\"tight\")"
   ]
  },
  {
   "cell_type": "code",
   "execution_count": null,
   "metadata": {},
   "outputs": [],
   "source": []
  }
 ],
 "metadata": {
  "kernelspec": {
   "display_name": "Python 3",
   "language": "python",
   "name": "python3"
  },
  "language_info": {
   "codemirror_mode": {
    "name": "ipython",
    "version": 3
   },
   "file_extension": ".py",
   "mimetype": "text/x-python",
   "name": "python",
   "nbconvert_exporter": "python",
   "pygments_lexer": "ipython3",
   "version": "3.8.10"
  }
 },
 "nbformat": 4,
 "nbformat_minor": 4
}
