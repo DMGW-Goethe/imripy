{
 "cells": [
  {
   "cell_type": "code",
   "execution_count": 1,
   "metadata": {},
   "outputs": [],
   "source": [
    "import numpy as np\n",
    "import matplotlib.pyplot as plt\n",
    "from scipy.interpolate import interp1d\n",
    "from scipy.integrate import simpson, cumulative_trapezoid\n",
    "from imripy import constants as c, kepler, merger_system as ms, halo, inspiral, plot_utils as pu, waveform, detector\n",
    "from imripy.inspiral import forces\n",
    "from imripy.kepler import KeplerOrbit\n",
    "import plotting\n",
    "import copy\n",
    "import common"
   ]
  },
  {
   "cell_type": "markdown",
   "metadata": {},
   "source": [
    "This notebook explores wet inspirals, that means a central MBH with an accretion disk. The possible interactions are gas dynamical friction, Type--I torque, and geometric drag. Additionally, can have stellar distribution and DM spikes around it.\n",
    "It explores the phase space flow of $(a,e)$, shows an example inspiral, and calculates the dephasing and deshifting."
   ]
  },
  {
   "cell_type": "code",
   "execution_count": 2,
   "metadata": {},
   "outputs": [],
   "source": [
    "# Example system\n",
    "m1 = 1e5 * c.solar_mass_to_pc\n",
    "m2 = 10. * c.solar_mass_to_pc\n",
    "D_l = 5e8 # 50 Mpc\n",
    "\n",
    "hs = ms.HostSystem(m1, D_l=D_l)"
   ]
  },
  {
   "cell_type": "code",
   "execution_count": 3,
   "metadata": {},
   "outputs": [],
   "source": [
    "from collections.abc import Sequence\n",
    "issequence = lambda x: isinstance(x, Sequence)"
   ]
  },
  {
   "cell_type": "markdown",
   "metadata": {},
   "source": [
    "# Wet Inspirals"
   ]
  },
  {
   "cell_type": "markdown",
   "metadata": {},
   "source": [
    "## Phase Space Flow"
   ]
  },
  {
   "cell_type": "code",
   "execution_count": 7,
   "metadata": {},
   "outputs": [],
   "source": [
    "# GW loss\n",
    "gw = inspiral.forces.GWLoss()\n",
    "# Stellar Distribution\n",
    "stellarHalo, stellarDiffusion = common.StellarDistribution(hs, E_m_s=m2)\n",
    "\n",
    "# Accretion Disk\n",
    "dmDisk, gdf_dm = common.AccretionDisk(hs)\n",
    "gt1_dm = forces.GasInteraction(disk=dmDisk) # Type 1 interaction\n",
    "\n",
    "# DM spikes\n",
    "spike_73, df_73 = common.DMSpike(hs, 7./3.)\n",
    "spike_32, df_32 = common.DMSpike(hs, 3./2.)"
   ]
  },
  {
   "cell_type": "code",
   "execution_count": null,
   "metadata": {},
   "outputs": [],
   "source": [
    "opt_gw_gdf = inspiral.Classic.EvolutionOptions(dissipativeForces=[gw, gdf_dm], \n",
    "                                                  considerRelativeVelocities=True)\n",
    "# ignore_32, is subdominant either way\n",
    "opt_gw_gdf_73 = inspiral.Classic.EvolutionOptions(dissipativeForces=[gw, gdf_dm, df_73], \n",
    "                                                  considerRelativeVelocities=True)\n",
    "\n",
    "opt_gw_sd_gdf = inspiral.Classic.EvolutionOptions(dissipativeForces=[gw, stellarDiffusion, gdf_dm], \n",
    "                                                  considerRelativeVelocities=True)\n",
    "\n",
    "opt_gw_sd_gdf_73 = inspiral.Classic.EvolutionOptions(dissipativeForces=[gw, stellarDiffusion, gdf_dm, df_73], \n",
    "                                                  considerRelativeVelocities=True)\n"
   ]
  },
  {
   "cell_type": "code",
   "execution_count": null,
   "metadata": {},
   "outputs": [],
   "source": [
    "fig,axs = plt.subplots(2,2, figsize=(12,12), sharex='all', sharey='all')\n",
    "a_grid = np.geomspace(hs.r_isco, 1e7*hs.r_isco, 25)\n",
    "e_grid = 1.- np.geomspace(1e-4, 1., 25)\n",
    "\n",
    "\n",
    "ko = KeplerOrbit(hs, m2, 0.)\n",
    "\n",
    "pu.streamline(axs[0,0], hs, opt_gw_sd_gdf, ko, a_grid, e_grid)\n",
    "axs[0,0].set_title(r\"SD+GDF\")\n",
    "pu.streamline(axs[0,1], hs, opt_gw_sd_gdf_73, ko, a_grid, e_grid)\n",
    "axs[0,1].set_title(r\"SD+GDF+$\\gamma=7/3$\")\n",
    "\n",
    "ko = KeplerOrbit(hs, m2, 0., inclination_angle=np.pi) # retrograde\n",
    "\n",
    "pu.streamline(axs[1,0], hs, opt_gw_sd_gdf, ko, a_grid, e_grid)\n",
    "pu.streamline(axs[1,1], hs, opt_gw_sd_gdf_73, ko, a_grid, e_grid)\n",
    "\n",
    "axs[1,0].set_xlabel(r\"$\\log_{10} 1-e$\"); \n",
    "axs[1,1].set_xlabel(r\"$\\log_{10} 1-e$\"); \n",
    "axs[0,0].set_ylabel(r\"$\\log_{10} a/r_{isco}$\")\n",
    "axs[1,0].set_ylabel(r\"$\\log_{10} a/r_{isco}$\")\n",
    "axs[0,1].set_ylabel(\"prograde\"); axs[0,1].yaxis.set_label_position(\"right\")\n",
    "axs[1,1].set_ylabel(\"retrograde\"); axs[1,1].yaxis.set_label_position(\"right\")\n",
    "\n",
    "fig.savefig(\"plots/psf_wet.pdf\", bbox_inches=\"tight\")"
   ]
  },
  {
   "cell_type": "code",
   "execution_count": null,
   "metadata": {},
   "outputs": [],
   "source": [
    "# without SD\n",
    "\n",
    "fig,axs = plt.subplots(2,2, figsize=(12,12), sharex='all', sharey='all')\n",
    "a_grid = np.geomspace(hs.r_isco, 1e7*hs.r_isco, 25)\n",
    "e_grid = 1.- np.geomspace(1e-4, 1., 25)\n",
    "\n",
    "\n",
    "ko = KeplerOrbit(hs, m2, 0.)\n",
    "\n",
    "pu.streamline(axs[0,0], hs, opt_gw_gdf, ko, a_grid, e_grid)\n",
    "axs[0,0].set_title(r\"GDF\")\n",
    "pu.streamline(axs[0,1], hs, opt_gw_gdf_73, ko, a_grid, e_grid)\n",
    "axs[0,1].set_title(r\"GDF+$\\gamma=7/3$\")\n",
    "\n",
    "ko = KeplerOrbit(hs, m2, 0., inclination_angle=np.pi) # retrograde\n",
    "\n",
    "pu.streamline(axs[1,0], hs, opt_gw_gdf, ko, a_grid, e_grid)\n",
    "pu.streamline(axs[1,1], hs, opt_gw_gdf_73, ko, a_grid, e_grid)\n",
    "\n",
    "axs[1,0].set_xlabel(r\"$\\log_{10} 1-e$\"); \n",
    "axs[1,1].set_xlabel(r\"$\\log_{10} 1-e$\"); \n",
    "axs[0,0].set_ylabel(r\"$\\log_{10} a/r_{isco}$\")\n",
    "axs[1,0].set_ylabel(r\"$\\log_{10} a/r_{isco}$\")\n",
    "axs[0,1].set_ylabel(\"prograde\"); axs[0,1].yaxis.set_label_position(\"right\")\n",
    "axs[1,1].set_ylabel(\"retrograde\"); axs[1,1].yaxis.set_label_position(\"right\")\n",
    "\n",
    "#fig.savefig(\"plots/psf_wet.pdf\", bbox_inches=\"tight\")"
   ]
  },
  {
   "cell_type": "markdown",
   "metadata": {},
   "source": [
    "## Example Inspirals with Torque-I"
   ]
  },
  {
   "cell_type": "code",
   "execution_count": 8,
   "metadata": {},
   "outputs": [],
   "source": [
    "a0 = 1e4 * hs.r_isco\n",
    "e0 = 0.  # circular\n",
    "\n",
    "inclination_angle = 0. # prograde\n",
    "k0 = kepler.KeplerOrbit(hs, m2, a0, e0, inclination_angle=inclination_angle)"
   ]
  },
  {
   "cell_type": "code",
   "execution_count": 9,
   "metadata": {},
   "outputs": [],
   "source": [
    "t_GW = 3.*2**(7./2)/85 * a0**4 * (1.-e0)**(7./2) / m1**2 / m2"
   ]
  },
  {
   "cell_type": "code",
   "execution_count": 10,
   "metadata": {},
   "outputs": [
    {
     "name": "stdout",
     "output_type": "stream",
     "text": [
      "Evolving from  10000.0  to  1.0 r_isco   on circular orbits  with  Options: dissipative forces employed {GWLoss, GasInteraction, }, accuracy = 1.0e-11\n",
      "A termination event occurred.\n",
      " -> Ended at 2.667e+00r_isco. Evolution took 0.9299s real time\n"
     ]
    }
   ],
   "source": [
    "opt_gt1 = inspiral.Classic.EvolutionOptions(dissipativeForces=[gw, gt1_dm], accuracy=1e-11)\n",
    "\n",
    "\n",
    "t_t1 = np.abs(inspiral.Classic.E_orbit(hs, k0, opt=opt_gt1) / gt1_dm.dE_dt(hs, k0, opt=opt_gt1))\n",
    "\n",
    "ev_gt1 = inspiral.Classic.Evolve(hs, k0, t_fin = 1e2*np.min([t_t1, t_GW]), opt=opt_gt1)"
   ]
  },
  {
   "cell_type": "code",
   "execution_count": 11,
   "metadata": {},
   "outputs": [
    {
     "name": "stdout",
     "output_type": "stream",
     "text": [
      "Evolving from  10000.0  to  1.0 r_isco   on circular orbits  with  Options: dissipative forces employed {GWLoss, GasInteraction, DynamicalFriction, }, accuracy = 1.0e-11\n",
      "A termination event occurred.\n",
      " -> Ended at 2.667e+00r_isco. Evolution took 9.1658s real time\n"
     ]
    }
   ],
   "source": [
    "opt_gt1_32 = inspiral.Classic.EvolutionOptions(dissipativeForces=[gw, gt1_dm, df_32],\n",
    "                                                    accuracy=1e-11)\n",
    "\n",
    "ev_gt1_32 = inspiral.Classic.Evolve(hs, k0, t_fin = 1e2*ev_gt1.t[-1], opt=opt_gt1_32)"
   ]
  },
  {
   "cell_type": "code",
   "execution_count": 12,
   "metadata": {},
   "outputs": [
    {
     "name": "stdout",
     "output_type": "stream",
     "text": [
      "Evolving from  10000.0  to  1.0 r_isco   on circular orbits  with  Options: dissipative forces employed {GWLoss, GasInteraction, DynamicalFriction, }, accuracy = 1.0e-11\n",
      "A termination event occurred.\n",
      " -> Ended at 2.667e+00r_isco. Evolution took 3.3359s real time\n"
     ]
    }
   ],
   "source": [
    "opt_gt1_73 = inspiral.Classic.EvolutionOptions(dissipativeForces=[gw, gt1_dm, df_73],\n",
    "                                                  accuracy=1e-11)\n",
    "\n",
    "\n",
    "ev_gt1_73 = inspiral.Classic.Evolve(hs, k0, t_fin = 1e2*ev_gt1.t[-1], opt=opt_gt1_73)"
   ]
  },
  {
   "cell_type": "code",
   "execution_count": 13,
   "metadata": {},
   "outputs": [],
   "source": [
    "ev_gt1.f = np.sqrt(ev_gt1.m_tot/ev_gt1.a**3) / 2. / np.pi\n",
    "ev_gt1_32.f = np.sqrt(ev_gt1_32.m_tot/ev_gt1_32.a**3) / 2. / np.pi\n",
    "ev_gt1_73.f = np.sqrt(ev_gt1_73.m_tot/ev_gt1_73.a**3) / 2. / np.pi\n",
    "\n",
    "ev_gt1.N = cumulative_trapezoid(ev_gt1.f, ev_gt1.t, initial=0)\n",
    "ev_gt1_32.N = cumulative_trapezoid(ev_gt1_32.f, ev_gt1_32.t, initial=0)\n",
    "ev_gt1_73.N = cumulative_trapezoid(ev_gt1_73.f, ev_gt1_73.t, initial=0)"
   ]
  },
  {
   "cell_type": "code",
   "execution_count": 26,
   "metadata": {},
   "outputs": [
    {
     "data": {
      "image/png": "[encoded data removed]",
      "text/plain": [
       "<Figure size 1008x720 with 4 Axes>"
      ]
     },
     "metadata": {
      "needs_background": "light"
     },
     "output_type": "display_data"
    }
   ],
   "source": [
    "fig, axs = plt.subplots(2,2, figsize=(14,10))\n",
    "\n",
    "l0=pu.plotEvolution(hs, ev_gt1, ax_a=axs[0,0], ax_n=axs[1,0], label='Type-I')\n",
    "l1=pu.plotEvolution(hs, ev_gt1_32, ax_a=axs[0,0], ax_n=axs[1,0], label='Type-I+ DM 3/2')\n",
    "l2=pu.plotEvolution(hs, ev_gt1_73, ax_a=axs[0,0], ax_n=axs[1,0], label='Type-I+ DM 7/3')\n",
    "\n",
    "pu.plotGWcharacteristicStrain(hs, ev_gt1, axs[0,1], harmonics=[2])\n",
    "axs[1,1].loglog(ev_gt1.f / c.hz_to_invpc, ev_gt1.N, color=l0.get_c())\n",
    "\n",
    "pu.plotGWcharacteristicStrain(hs, ev_gt1_32, axs[0,1], harmonics=[2])\n",
    "axs[1,1].loglog(ev_gt1_32.f / c.hz_to_invpc, ev_gt1_32.N, color=l1.get_c())\n",
    "\n",
    "pu.plotGWcharacteristicStrain(hs, ev_gt1_73, axs[0,1], harmonics=[2])\n",
    "axs[1,1].loglog(ev_gt1_73.f / c.hz_to_invpc, ev_gt1_73.N, color=l2.get_c())\n",
    "\n",
    "f_gw = np.geomspace(detector.Lisa().Bandwith()[0], detector.Lisa().Bandwith()[1], 100)\n",
    "axs[0,1].loglog(f_gw/c.hz_to_invpc, detector.Lisa().NoiseStrain(f_gw), label='LISA')\n",
    "axs[0,1].set_xlabel(\"f / Hz\"); axs[0,1].set_ylabel(\"characteristic strain\")\n",
    "\n",
    "axs[0,0].set_xlabel(\"t / yr\"); axs[0,0].set_ylabel(\"a / $r_{isco}$\")\n",
    "axs[0,0].legend()\n",
    "\n",
    "axs[1,0].set_xscale('log'); axs[1,0].set_xlabel(\"f / Hz\"); axs[1,0].set_ylabel(\"braking index\")\n",
    "axs[1,0].set_xlim(left=1e-6); axs[1,0].set_ylim(bottom=0, top=5)\n",
    "\n",
    "axs[1,1].set_xlabel(\"f / Hz\"); axs[1,1].set_ylabel(\"number of cycles\")\n",
    "\n",
    "\n",
    "for ax in axs.flatten():\n",
    "    ax.grid()\n",
    "fig.savefig(f\"plots/ev_wet_{m1/c.solar_mass_to_pc:.0e}.pdf\", bbox_inches=\"tight\")"
   ]
  },
  {
   "cell_type": "code",
   "execution_count": 15,
   "metadata": {},
   "outputs": [
    {
     "name": "stdout",
     "output_type": "stream",
     "text": [
      "1.6470052249068665\n"
     ]
    }
   ],
   "source": [
    "dE_df_gt1_32 = common.energy_loss(hs, ev_gt1_32, df_32, opt_gt1_32)\n",
    "r_df_32 = dE_df_gt1_32 / spike_32.potentialEnergy(spike_32.r_spike)\n",
    "print(r_df_32)"
   ]
  },
  {
   "cell_type": "code",
   "execution_count": 16,
   "metadata": {},
   "outputs": [
    {
     "name": "stdout",
     "output_type": "stream",
     "text": [
      "0.7208855840361718\n"
     ]
    }
   ],
   "source": [
    "dE_df_gt1_73 = common.energy_loss(hs, ev_gt1_73, df_73, opt_gt1_73)\n",
    "r_df_73 = dE_df_gt1_73 / spike_73.potentialEnergy(spike_73.r_spike)\n",
    "print(r_df_73)"
   ]
  },
  {
   "cell_type": "markdown",
   "metadata": {},
   "source": [
    "## with stellar diffusion"
   ]
  },
  {
   "cell_type": "code",
   "execution_count": null,
   "metadata": {},
   "outputs": [],
   "source": [
    "a0 = 1e4 * hs.r_isco\n",
    "e0 = 0.  # circular\n",
    "\n",
    "inclination_angle = 0. # prograde\n",
    "k0 = kepler.KeplerOrbit(hs, m2, a0, e0, inclination_angle=inclination_angle)"
   ]
  },
  {
   "cell_type": "code",
   "execution_count": null,
   "metadata": {},
   "outputs": [],
   "source": [
    "stellarHalo, stellarDiffusion = common.StellarDistributionAna(hs)"
   ]
  },
  {
   "cell_type": "code",
   "execution_count": null,
   "metadata": {},
   "outputs": [],
   "source": [
    "t_GW = 3.*2**(7./2)/85 * a0**4 * (1.-e0)**(7./2) / m1**2 / m2\n",
    "\n",
    "k = 0.34\n",
    "sigma = np.sqrt(m1 / (1.+ stellarHalo.alpha) / a0)\n",
    "t_AM =  ( 2*k*sigma**3 / (stellarHalo.density(a0)/stellarDiffusion.E_m_s)\n",
    "          / stellarDiffusion.E_m_s**2 / stellarDiffusion.CoulombLogarithm * (1.-e0))\n",
    "print(t_GW, t_AM)"
   ]
  },
  {
   "cell_type": "code",
   "execution_count": null,
   "metadata": {},
   "outputs": [],
   "source": [
    "opt_sd_gt1 = inspiral.Classic.EvolutionOptions(dissipativeForces={gw, gt1_dm, stellarDiffusion}, accuracy=1e-11)\n",
    "\n",
    "hs.halo = stellarHalo # We ignore the mass of the accretion disk\n",
    "\n",
    "ev_sd_gt1 = inspiral.Classic.Evolve(hs, k0, t_fin = 1e2*np.min([t_AM, t_GW]), opt=opt_sd_gt1)"
   ]
  },
  {
   "cell_type": "code",
   "execution_count": null,
   "metadata": {},
   "outputs": [],
   "source": [
    "opt_sd_gt1_32 = inspiral.Classic.EvolutionOptions(dissipativeForces={gw, gt1_dm, stellarDiffusion, df_32},\n",
    "                                                    accuracy=1e-11)\n",
    "hs.halo = halo.CombinedHalo([stellarHalo, spike_32])\n",
    "\n",
    "ev_sd_gt1_32 = inspiral.Classic.Evolve(hs, k0, t_fin = 1e2*ev_sd_gt1.t[-1], opt=opt_sd_gt1_32)"
   ]
  },
  {
   "cell_type": "code",
   "execution_count": null,
   "metadata": {},
   "outputs": [],
   "source": [
    "opt_sd_gt1_73 = inspiral.Classic.EvolutionOptions(dissipativeForces={gw, gt1_dm, stellarDiffusion, df_73},\n",
    "                                                  accuracy=1e-11)\n",
    "\n",
    "hs.halo = halo.CombinedHalo([stellarHalo, spike_73])\n",
    "\n",
    "ev_sd_gt1_73 = inspiral.Classic.Evolve(hs, k0, t_fin = 1e2*ev_sd_gt1.t[-1], opt=opt_sd_gt1_73)"
   ]
  },
  {
   "cell_type": "code",
   "execution_count": null,
   "metadata": {},
   "outputs": [],
   "source": [
    "ev_sd_gt1.f = np.sqrt(ev_sd_gt1.m_tot/ev_sd_gt1.a**3) / 2. / np.pi\n",
    "ev_sd_gt1_32.f = np.sqrt(ev_sd_gt1_32.m_tot/ev_sd_gt1_32.a**3) / 2. / np.pi\n",
    "ev_sd_gt1_73.f = np.sqrt(ev_sd_gt1_73.m_tot/ev_sd_gt1_73.a**3) / 2. / np.pi\n",
    "\n",
    "ev_sd_gt1.N = cumulative_trapezoid(ev_sd_gt1.f, ev_sd_gt1.t, initial=0)\n",
    "ev_sd_gt1_32.N = cumulative_trapezoid(ev_sd_gt1_32.f, ev_sd_gt1_32.t, initial=0)\n",
    "ev_sd_gt1_73.N = cumulative_trapezoid(ev_sd_gt1_73.f, ev_sd_gt1_73.t, initial=0)"
   ]
  },
  {
   "cell_type": "code",
   "execution_count": null,
   "metadata": {},
   "outputs": [],
   "source": [
    "fig, axs = plt.subplots(2,2, figsize=(18,12))\n",
    "\n",
    "l0=pu.plotEvolution(hs, ev_sd_gt1, ax_a=axs[0,0], ax_n=axs[1,0], label='SD+Type-I')\n",
    "l1=pu.plotEvolution(hs, ev_sd_gt1_32, ax_a=axs[0,0], ax_n=axs[1,0], label='SD+Type-I+ DM 3/2')\n",
    "l2=pu.plotEvolution(hs, ev_sd_gt1_73, ax_a=axs[0,0], ax_n=axs[1,0], label='SD+Type-I+ DM 7/3')\n",
    "\n",
    "pu.plotGWcharacteristicStrain(hs, ev_sd_gt1, axs[0,1], harmonics=[2], label='SD+AC')\n",
    "axs[1,1].loglog(ev_sd_gt1.f / c.hz_to_invpc, ev_sd_gt1.N, color=l0.get_c())\n",
    "\n",
    "pu.plotGWcharacteristicStrain(hs, ev_sd_gt1_32, axs[0,1], harmonics=[2], label='SD+AC+DM 3/2')\n",
    "axs[1,1].loglog(ev_sd_gt1_32.f / c.hz_to_invpc, ev_sd_gt1_32.N, color=l1.get_c())\n",
    "\n",
    "pu.plotGWcharacteristicStrain(hs, ev_sd_gt1_73, axs[0,1], harmonics=[2], label='SD+AC+DM 7/3')\n",
    "axs[1,1].loglog(ev_sd_gt1.f / c.hz_to_invpc, ev_sd_gt1.N, color=l2.get_c())\n",
    "\n",
    "#pu.plotDeltaN(hs, ev_sd_gt1, ev_sd_gt1_32, axs[3], label='SD+AC+DM 3/2',color=l1.get_c(), plotFgw5year=True)\n",
    "#pu.plotDeltaN(hs, ev_sd_gt1, ev_sd_gt1_73, axs[3], label='SD+AC+DM 7/3',color=l2.get_c(), plotFgw5year=True)\n",
    "\n",
    "\n",
    "#axs[0].legend();  axs[0].set_xlim(right=1.1); axs[0].set_xlabel(\"1-e\"); axs[0].set_ylabel(\"a / $r_{isco}$\")\n",
    "\n",
    "f_gw = np.geomspace(detector.Lisa().Bandwith()[0], detector.Lisa().Bandwith()[1], 100)\n",
    "axs[0,1].loglog(f_gw/c.hz_to_invpc, detector.Lisa().NoiseStrain(f_gw), label='LISA')\n",
    "axs[0,1].set_xlabel(\"f / Hz\"); axs[0,1].set_ylabel(\"characteristic strain\")\n",
    "\n",
    "axs[0,0].set_xlabel(\"t / yr\"); axs[0,0].set_ylabel(\"a / $r_{isco}$\")\n",
    "axs[0,0].legend()\n",
    "\n",
    "axs[1,0].set_xscale('log'); axs[1,0].set_xlabel(\"f / Hz\"); axs[1,0].set_ylabel(\"breaking index\")\n",
    "\n",
    "axs[1,1].set_xlabel(\"f / Hz\"); axs[1,1].set_ylabel(\"number of cycles\")\n",
    "\n",
    "\n",
    "for ax in axs.flatten():\n",
    "    ax.grid()\n",
    "#fig.savefig(f\"plots/ev_wet_sd_{m1/c.solar_mass_to_pc:.0e}.pdf\", bbox_inches=\"tight\")"
   ]
  },
  {
   "cell_type": "code",
   "execution_count": null,
   "metadata": {},
   "outputs": [],
   "source": [
    "dE_df_gt1_32 = common.energy_loss(hs, ev_sd_gt1_32, df_32, opt_sd_gt1_32)\n",
    "r_df_32 = dE_df_gt1_32 / spike_32.potentialEnergy(spike_32.r_spike)\n",
    "print(r_df_32)"
   ]
  },
  {
   "cell_type": "code",
   "execution_count": null,
   "metadata": {},
   "outputs": [],
   "source": [
    "dE_df_gt1_73 = common.energy_loss(hs, ev_sd_gt1_73, df_73, opt_sd_gt1_73)\n",
    "r_df_73 = dE_df_gt1_73 / spike_73.potentialEnergy(spike_73.r_spike)\n",
    "print(r_df_73)"
   ]
  },
  {
   "cell_type": "markdown",
   "metadata": {},
   "source": [
    "## Dephasing"
   ]
  },
  {
   "cell_type": "code",
   "execution_count": 17,
   "metadata": {},
   "outputs": [],
   "source": [
    "def timescales(hs, k0, df=None, opt=None):\n",
    "    a0 = k0.a; e0 = k0.e; m1=hs.m1; m2=k0.m2; \n",
    "    t_GW = 3.*2**(7./2)/85 * a0**4 * (1.-e0)**(7./2) / m1**2 / m2\n",
    "    \n",
    "    if not df is None:\n",
    "        t_DF = np.abs(inspiral.Classic.E_orbit(hs, k0, opt=opt) / df.dE_dt(hs, k0, opt=opt))\n",
    "        return t_GW, t_DF\n",
    "    return t_GW"
   ]
  },
  {
   "cell_type": "code",
   "execution_count": 18,
   "metadata": {},
   "outputs": [],
   "source": [
    "def calc_dephasing(hss, df_base, df_compare, k0s, opts, hs_base=None, k0_base=None, opt_base=None, n=2):\n",
    "    if not issequence(hss):\n",
    "        hss = [copy.deepcopy(hss) for i in range(len(df_compare))]  # careful to make actual copies and not references\n",
    "    if not issequence(k0s):\n",
    "        k0s = [copy.deepcopy(k0s) for i in range(len(df_compare))]\n",
    "    if not issequence(opts):\n",
    "        opts = [copy.deepcopy(opts) for i in range(len(df_compare))]\n",
    "    \n",
    "    hs_base = hs_base or copy.deepcopy(hss[0])\n",
    "    k0_base = k0_base or copy.deepcopy(k0s[0])\n",
    "    opt_base = opt_base or copy.deepcopy(opts[0])\n",
    "    opt_base.dissipativeForces = df_base\n",
    "    for i, dfs in enumerate(df_compare):\n",
    "        opts[i].dissipativeForces = df_base + dfs\n",
    "    \n",
    "    ts = np.array(timescales(hs_base, k0_base, df_base[1]))\n",
    "    print(ts)\n",
    "    ev_base = inspiral.Classic.Evolve(hs_base, k0_base, t_fin=1e2*np.min(ts), opt=opt_base)\n",
    "    ev_base.f_gw, ev_base.N = waveform.N_cycles_n(2, hs_base, ev_base)\n",
    "    _, ev_base.h_2p, ev_base.h_2c, __ = waveform.h_n(2, hs_base, ev_base)\n",
    "    ev_base.f_orbit, ev_base.h_1p, ev_base.h_1c, __ = waveform.h_n(1, hs_base, ev_base)\n",
    "    N_0interp = interp1d(ev_base.f_gw, ev_base.N, kind='cubic', bounds_error=False, fill_value=(0.,0.))\n",
    "    #pa_base = interp1d(ev_base.f_gw, ev_base.periapse_angle - ev_base.periapse_angle[-1], \n",
    "    #                       bounds_error=False, fill_value=(0.,0.))\n",
    "\n",
    "    evs = [ev_base]\n",
    "    for i,(hs, k0, opt) in enumerate(zip(hss, k0s, opts)):\n",
    "        ts = list(timescales(hs, k0, opt.dissipativeForces[-1])); ts.append(ev_base.t[-1])\n",
    "        print(i, ts)\n",
    "        ev = inspiral.Classic.Evolve(hs, k0, t_fin=1e1*np.min(ts), opt=opt)\n",
    "        ev.f_gw, ev.N = waveform.N_cycles_n(2, hs, ev)\n",
    "        ev.dN = ev.N - N_0interp(ev.f_gw)\n",
    "        _, ev.h_2p, ev.h_2c, __ = waveform.h_n(2, hs, ev)\n",
    "        ev.f_orbit, ev.h_1p, ev.h_1c, __ = waveform.h_n(1, hs, ev)\n",
    "        #ev.dperiapse_angle = np.abs((ev.periapse_angle - ev.periapse_angle[-1]) - pa_base(ev.f_gw))\n",
    "        evs.append(ev)\n",
    "    return evs"
   ]
  },
  {
   "cell_type": "code",
   "execution_count": 39,
   "metadata": {},
   "outputs": [],
   "source": [
    "def compare_different_m1(m1, m2, D_l, acc=5e-13):\n",
    "    hs_base = ms.HostSystem(m1, D_l=D_l)\n",
    "    # GW loss\n",
    "    #environmental effects\n",
    "    gw = inspiral.forces.GWLoss()\n",
    "    #stellarHalo, stellarDiffusion = common.StellarDistribution(hs_base, m2)\n",
    "    dmDisk, _ = common.AccretionDisk(hs_base)\n",
    "    gt1_dm = forces.GasInteraction(disk=dmDisk)\n",
    "    spike_73, df_73 = common.DMSpike(hs_base, 7./3.)\n",
    "    spike_32, df_32 = common.DMSpike(hs_base, 3./2.)\n",
    "    \n",
    "    # base\n",
    "    #df_base = [gw, stellarDiffusion, gt1_dm]\n",
    "    df_base = [gw, gt1_dm]\n",
    "    opt_base = inspiral.Classic.EvolutionOptions(dissipativeForces=df_base, accuracy=acc)\n",
    "    # different hs for different mass precession\n",
    "    hs_32 = copy.deepcopy(hs_base); hs_73 = copy.deepcopy(hs_base); \n",
    "    hs_32.halo = spike_32; hs_73.halo = spike_73\n",
    "    # initial orbit\n",
    "    a0 = 1e2 * hs_base.r_isco\n",
    "    e0 = 0.\n",
    "    k0_base = kepler.KeplerOrbit(hs_base, m2, a0, e0)\n",
    "    # calc dephasing\n",
    "    evs = calc_dephasing([hs_32, hs_73], df_base, [[df_32], [df_73]], k0s=k0_base, opts=opt_base, hs_base=hs_base)\n",
    "    # feedback ratio\n",
    "    evs[1].r_df = common.energy_loss(evs[1].hs, evs[1], evs[1].options.dissipativeForces[-1], evs[1].options) / spike_32.potentialEnergy(spike_32.r_spike)\n",
    "    evs[2].r_df = common.energy_loss(evs[2].hs, evs[2], evs[2].options.dissipativeForces[-1], evs[2].options) / spike_73.potentialEnergy(spike_73.r_spike)\n",
    "    \n",
    "    return evs"
   ]
  },
  {
   "cell_type": "code",
   "execution_count": 40,
   "metadata": {
    "scrolled": false
   },
   "outputs": [
    {
     "name": "stdout",
     "output_type": "stream",
     "text": [
      "[ 2484011.21754651 15727390.45024074]\n",
      "Evolving from  100.0  to  1.0 r_isco   on circular orbits  with  Options: dissipative forces employed {GWLoss, GasInteraction, }, accuracy = 5.0e-13\n",
      "A termination event occurred.\n",
      " -> Ended at 2.667e+00r_isco. Evolution took 0.1765s real time\n",
      "0 [2484011.217546508, 527856075.00573295, 119642.00849569158]\n",
      "Evolving from  100.0  to  1.0 r_isco   on circular orbits  with  Options: dissipative forces employed {GWLoss, GasInteraction, DynamicalFriction, }, accuracy = 5.0e-13\n",
      "A termination event occurred.\n",
      " -> Ended at 2.667e+00r_isco. Evolution took 1.8863s real time\n",
      "1 [2484011.217546508, 5052.676637687681, 119642.00849569158]\n",
      "Evolving from  100.0  to  1.0 r_isco   on circular orbits  with  Options: dissipative forces employed {GWLoss, GasInteraction, DynamicalFriction, }, accuracy = 5.0e-13\n",
      "A termination event occurred.\n",
      " -> Ended at 2.667e+00r_isco. Evolution took 1.3661s real time\n"
     ]
    }
   ],
   "source": [
    "evs_wet_m1e5 = compare_different_m1(1e5*c.solar_mass_to_pc, 10.*c.solar_mass_to_pc, 5e8)"
   ]
  },
  {
   "cell_type": "code",
   "execution_count": 41,
   "metadata": {},
   "outputs": [
    {
     "name": "stdout",
     "output_type": "stream",
     "text": [
      "[ 24840.11217547 437427.70706567]\n",
      "Evolving from  100.0  to  1.0 r_isco   on circular orbits  with  Options: dissipative forces employed {GWLoss, GasInteraction, }, accuracy = 5.0e-13\n",
      "A termination event occurred.\n",
      " -> Ended at 2.667e+00r_isco. Evolution took 0.1841s real time\n",
      "0 [24840.11217546508, 53877819.74564897, 1207.074437489565]\n",
      "Evolving from  100.0  to  1.0 r_isco   on circular orbits  with  Options: dissipative forces employed {GWLoss, GasInteraction, DynamicalFriction, }, accuracy = 5.0e-13\n",
      "A termination event occurred.\n",
      " -> Ended at 2.667e+00r_isco. Evolution took 1.7785s real time\n",
      "1 [24840.11217546508, 163.9078941942494, 1207.074437489565]\n",
      "Evolving from  100.0  to  1.0 r_isco   on circular orbits  with  Options: dissipative forces employed {GWLoss, GasInteraction, DynamicalFriction, }, accuracy = 5.0e-13\n",
      "A termination event occurred.\n",
      " -> Ended at 2.667e+00r_isco. Evolution took 1.3674s real time\n"
     ]
    }
   ],
   "source": [
    "evs_wet_m1e4 = compare_different_m1(1e4*c.solar_mass_to_pc, 10.*c.solar_mass_to_pc, 5e8)"
   ]
  },
  {
   "cell_type": "code",
   "execution_count": 42,
   "metadata": {},
   "outputs": [
    {
     "name": "stdout",
     "output_type": "stream",
     "text": [
      "[  248.40112175 12117.35217792]\n",
      "Evolving from  100.0  to  1.0 r_isco   on circular orbits  with  Options: dissipative forces employed {GWLoss, GasInteraction, }, accuracy = 5.0e-13\n",
      "A termination event occurred.\n",
      " -> Ended at 2.667e+00r_isco. Evolution took 0.1824s real time\n",
      "0 [248.40112175465092, 5727686.7630075235, 12.005786968345193]\n",
      "Evolving from  100.0  to  1.0 r_isco   on circular orbits  with  Options: dissipative forces employed {GWLoss, GasInteraction, DynamicalFriction, }, accuracy = 5.0e-13\n",
      "A termination event occurred.\n",
      " -> Ended at 2.667e+00r_isco. Evolution took 1.8453s real time\n",
      "1 [248.40112175465092, 5.699770433513788, 12.005786968345193]\n",
      "Evolving from  100.0  to  1.0 r_isco   on circular orbits  with  Options: dissipative forces employed {GWLoss, GasInteraction, DynamicalFriction, }, accuracy = 5.0e-13\n",
      "A termination event occurred.\n",
      " -> Ended at 2.667e+00r_isco. Evolution took 1.4890s real time\n"
     ]
    }
   ],
   "source": [
    "evs_wet_m1e3 = compare_different_m1(1e3*c.solar_mass_to_pc, 10.*c.solar_mass_to_pc, 5e8)"
   ]
  },
  {
   "cell_type": "code",
   "execution_count": 56,
   "metadata": {},
   "outputs": [],
   "source": [
    "def plot_observable_dephasing(ax, evs, labels, ax_di=None, min_dN=100.):\n",
    "    Lisa = detector.Lisa()\n",
    "    bw = Lisa.Bandwith()\n",
    "    \n",
    "    for i, ev in enumerate(evs):\n",
    "        observable = ( (ev.f_gw > bw[0]) &  (ev.f_gw < bw[1]) & \n",
    "                                  (2.*ev.f_gw*np.abs(ev.h_2p) > Lisa.NoiseStrain(ev.f_gw)))\n",
    "\n",
    "        nobservable = np.where(np.logical_not(observable))[0]\n",
    "        observable = np.where(observable)[0]\n",
    "        \n",
    "        if np.any(nobservable[1:] != (nobservable[:-1]+1)): # there is a gap\n",
    "            lgap = np.argmax(nobservable[1:] != (nobservable[:-1]+1))\n",
    "            rgap = len(nobservable)-1- np.argmax(nobservable[::-1][1:] != (nobservable[::-1][:-1]-1))\n",
    "            l, = ax.loglog(ev.f_gw[nobservable[:lgap]]/c.hz_to_invpc, np.abs(ev.dN[nobservable[:lgap]]), \n",
    "                        linestyle= '--')\n",
    "            l, = ax.loglog(ev.f_gw[nobservable[rgap:]]/c.hz_to_invpc, np.abs(ev.dN[nobservable[rgap:]]), \n",
    "                        linestyle= '--', color=l.get_c())\n",
    "        else:\n",
    "            l, = ax.loglog(ev.f_gw[nobservable]/c.hz_to_invpc, np.abs(ev.dN[nobservable]), \n",
    "                        linestyle= '--')\n",
    "            \n",
    "        l, = ax.loglog(ev.f_gw[observable]/c.hz_to_invpc, np.abs(ev.dN[observable]), \n",
    "                       label=labels[i], linestyle='-', color=l.get_c())\n",
    "        print(labels[i], ev.r_df)\n",
    "        \n",
    "        l, f5yrs = pu.plotLastTyears(ev.hs, ev, ax, color=l.get_c(), marker='p',\n",
    "                                            y=interp1d(ev.f_gw, np.abs(ev.dN)))\n",
    "        \n",
    "        if ax_di is not None:\n",
    "            ddN_df = np.gradient(ev.dN, ev.f_gw)\n",
    "            stop = np.where(np.abs(ev.dN) < min_dN)[0]\n",
    "            stop = stop[0] if len(stop) > 0 else len(ddN_df)\n",
    "            ax_di.plot(ev.f_gw[:stop]/c.hz_to_invpc, (ddN_df/ev.dN * ev.f_gw)[:stop], color=l.get_c())\n",
    "        "
   ]
  },
  {
   "cell_type": "code",
   "execution_count": 59,
   "metadata": {
    "scrolled": false
   },
   "outputs": [
    {
     "name": "stdout",
     "output_type": "stream",
     "text": [
      "$m_1=10^5M_\\odot, \\gamma=3/2$ 0.02957575026849159\n",
      "$m_1=10^5M_\\odot, \\gamma=7/3$ 0.5796096381566886\n",
      "$m_1=10^4M_\\odot, \\gamma=3/2$ 0.1197227756024433\n",
      "$m_1=10^4M_\\odot, \\gamma=7/3$ 9.085671660801935\n",
      "$m_1=10^3M_\\odot, \\gamma=3/2$ 0.45662656566064574\n",
      "$m_1=10^3M_\\odot, \\gamma=7/3$ 126.86425976273931\n"
     ]
    },
    {
     "name": "stderr",
     "output_type": "stream",
     "text": [
      "<ipython-input-56-d52b631c52b8>:34: RuntimeWarning: divide by zero encountered in divide\n",
      "  ax_di.plot(ev.f_gw[:stop]/c.hz_to_invpc, (ddN_df/ev.dN * ev.f_gw)[:stop], color=l.get_c())\n"
     ]
    },
    {
     "data": {
      "image/png": "[encoded data removed]",
      "text/plain": [
       "<Figure size 576x576 with 3 Axes>"
      ]
     },
     "metadata": {
      "needs_background": "light"
     },
     "output_type": "display_data"
    }
   ],
   "source": [
    "fig, axs = plt.subplots(3,1, sharex='all', figsize=(8,8))\n",
    "Lisa = detector.Lisa()\n",
    "f_gw = np.geomspace(Lisa.Bandwith()[0], Lisa.Bandwith()[1], 100)\n",
    "for ev in evs_wet_m1e5[1:]:\n",
    "    pu.plotGWcharacteristicStrain(ev.hs, ev, axs[0], harmonics=[2])\n",
    "for ev in evs_wet_m1e4[1:]:\n",
    "    pu.plotGWcharacteristicStrain(ev.hs, ev, axs[0], harmonics=[2])\n",
    "for ev in evs_wet_m1e3[1:]:\n",
    "    pu.plotGWcharacteristicStrain(ev.hs, ev, axs[0], harmonics=[2])\n",
    "\n",
    "axs[0].loglog(f_gw/c.hz_to_invpc, Lisa.NoiseStrain(f_gw), label='LISA', color='black')\n",
    "axs[0].fill_between(f_gw/c.hz_to_invpc, Lisa.NoiseStrain(f_gw), color='gray', alpha=0.3)\n",
    "    \n",
    "plot_observable_dephasing(axs[1], evs_wet_m1e5[1:], [\"$m_1=10^5M_\\odot, \\gamma=3/2$\", \"$m_1=10^5M_\\odot, \\gamma=7/3$\"], ax_di=axs[2])\n",
    "plot_observable_dephasing(axs[1], evs_wet_m1e4[1:], [\"$m_1=10^4M_\\odot, \\gamma=3/2$\", \"$m_1=10^4M_\\odot, \\gamma=7/3$\"], ax_di=axs[2])\n",
    "plot_observable_dephasing(axs[1], evs_wet_m1e3[1:], [\"$m_1=10^3M_\\odot, \\gamma=3/2$\", \"$m_1=10^3M_\\odot, \\gamma=7/3$\"], ax_di=axs[2])\n",
    "for ax in axs:\n",
    "    ax.grid()\n",
    "\n",
    "axs[0].set_ylabel(\"characteristic strain\", fontsize=20)\n",
    "axs[1].legend(bbox_to_anchor=(1.,1.), loc='upper left')\n",
    "axs[1].set_ylim(bottom=1.); axs[1].set_xlim(left=1e-5, right=1)\n",
    "axs[1].set_ylabel(\"$|\\Delta N^{(2)}|$\")\n",
    "axs[2].set_ylabel(\"dephasing index\")\n",
    "axs[2].set_xlabel(\"f / Hz\")\n",
    "axs[2].set_ylim(-5,2)\n",
    "\n",
    "fig.subplots_adjust(hspace=0.)\n",
    "fig.savefig(f\"plots/dephasing_wet.pdf\", bbox_inches=\"tight\")"
   ]
  },
  {
   "cell_type": "markdown",
   "metadata": {},
   "source": [
    "## On retrograde orbits"
   ]
  },
  {
   "cell_type": "markdown",
   "metadata": {},
   "source": [
    "### Example"
   ]
  },
  {
   "cell_type": "code",
   "execution_count": null,
   "metadata": {},
   "outputs": [],
   "source": [
    "# GW loss\n",
    "gw = inspiral.forces.GWLoss()\n",
    "# Stellar Distribution\n",
    "stellarHalo, stellarDiffusion = common.StellarDistribution(hs, m2)\n",
    "\n",
    "# Accretion Disk\n",
    "dmDisk, gdf_dm = common.AccretionDisk(hs)\n",
    "\n",
    "# DM spikes\n",
    "spike_73, df_73 = common.DMSpike(hs, 7./3.)\n",
    "spike_32, df_32 = common.DMSpike(hs, 3./2.)"
   ]
  },
  {
   "cell_type": "code",
   "execution_count": null,
   "metadata": {},
   "outputs": [],
   "source": [
    "a0 = 1e4 * hs.r_isco\n",
    "e0 = 0.9 # large eccentricity\n",
    "inclination_angle = np.pi # retrograde\n",
    "k0 = kepler.KeplerOrbit(hs, m2, a0, e0, inclination_angle=inclination_angle)"
   ]
  },
  {
   "cell_type": "code",
   "execution_count": null,
   "metadata": {},
   "outputs": [],
   "source": [
    "t_GW = 3.*2**(7./2)/85 * a0**4 * (1.-e0)**(7./2) / m1**2 / m2\n",
    "\n",
    "k = 0.34\n",
    "sigma = np.sqrt(m1 / (1.+ stellarHalo.alpha) / a0)\n",
    "t_AM =  ( 2*k*sigma**3 / (stellarHalo.density(a0)/stellarDiffusion.E_m_s)\n",
    "          / stellarDiffusion.E_m_s2 / stellarDiffusion.CoulombLogarithm * (1.-e0))\n",
    "print(t_GW, t_AM)"
   ]
  },
  {
   "cell_type": "code",
   "execution_count": null,
   "metadata": {},
   "outputs": [],
   "source": [
    "opt_sd_gdf = inspiral.Classic.EvolutionOptions(dissipativeForces={gw, gdf_dm, stellarDiffusion}, accuracy=1e-11)\n",
    "\n",
    "hs.halo = stellarHalo # We ignore the mass of the accretion disk\n",
    "\n",
    "ev_sd_gdf = inspiral.Classic.Evolve(hs, k0, t_fin = 1e2*np.min([t_AM, t_GW]), opt=opt_sd_gdf)"
   ]
  },
  {
   "cell_type": "code",
   "execution_count": null,
   "metadata": {},
   "outputs": [],
   "source": [
    "opt_sd_gdf_32 = inspiral.Classic.EvolutionOptions(dissipativeForces={gw, gdf_dm, stellarDiffusion, df_32},\n",
    "                                                    accuracy=1e-11)\n",
    "hs.halo = halo.CombinedHalo([stellarHalo, spike_32])\n",
    "\n",
    "ev_sd_gdf_32 = inspiral.Classic.Evolve(hs, k0, t_fin = 1e2*ev_sd_gdf.t[-1], opt=opt_sd_gdf_32)"
   ]
  },
  {
   "cell_type": "code",
   "execution_count": null,
   "metadata": {},
   "outputs": [],
   "source": [
    "opt_sd_gdf_73 = inspiral.Classic.EvolutionOptions(dissipativeForces={gw, gdf_dm, stellarDiffusion, df_73},\n",
    "                                                  accuracy=1e-11)\n",
    "\n",
    "hs.halo = halo.CombinedHalo([stellarHalo, spike_73])\n",
    "\n",
    "ev_sd_gdf_73 = inspiral.Classic.Evolve(hs, k0, t_fin = 1e2*ev_sd_gdf.t[-1], opt=opt_sd_gdf_73)"
   ]
  },
  {
   "cell_type": "code",
   "execution_count": null,
   "metadata": {},
   "outputs": [],
   "source": [
    "fig, axs = plt.subplots(2,2, figsize=(16,10))\n",
    "axs = axs.flatten()\n",
    "\n",
    "pu.plotEvolution(hs, ev_sd_gdf, ax_1mea=axs[0], ax_n=axs[2], label='SD+GDF')\n",
    "l1=pu.plotEvolution(hs, ev_sd_gdf_32, ax_1mea=axs[0], ax_n=axs[2], label='SD+GDF+DM 3/2')\n",
    "l2=pu.plotEvolution(hs, ev_sd_gdf_73, ax_1mea=axs[0], ax_n=axs[2], label='SD+GDF+DM 7/3')\n",
    "\n",
    "pu.plotGWcharacteristicStrain(hs, ev_sd_gdf, axs[1], harmonics=[2])\n",
    "pu.plotGWcharacteristicStrain(hs, ev_sd_gdf_32, axs[1], harmonics=[2])\n",
    "pu.plotGWcharacteristicStrain(hs, ev_sd_gdf_73, axs[1], harmonics=[2])\n",
    "\n",
    "pu.plotDeltaN(hs, ev_sd_gdf, ev_sd_gdf_32, axs[3],color=l1.get_c(), plotFgw5year=True)\n",
    "pu.plotDeltaN(hs, ev_sd_gdf, ev_sd_gdf_73, axs[3],color=l2.get_c(), plotFgw5year=True)\n",
    "\n",
    "e_grid = 1.-np.array(axs[0].get_xlim())\n",
    "axs[0].plot(1.-e_grid, 8./6./(1.-e_grid), linestyle='--', color='black')\n",
    "#axs[0].legend();  axs[0].set_xlim(right=1.1); axs[0].set_xlabel(\"1-e\"); axs[0].set_ylabel(\"a / $r_{isco}$\")\n",
    "\n",
    "f_gw = np.geomspace(detector.Lisa().Bandwith()[0], detector.Lisa().Bandwith()[1], 100)\n",
    "axs[1].loglog(f_gw/c.hz_to_invpc, detector.Lisa().NoiseStrain(f_gw), label='LISA')\n",
    "axs[1].set_xlabel(\"f / Hz\"); axs[1].set_ylabel(\"characteristic strain\")\n",
    "\n",
    "axs[2].set_xscale('log'); axs[2].axhline(4./3.); axs[2].set_ylim(bottom=0., top = 5.)\n",
    "axs[2].set_xlabel(\"f / Hz\"); axs[2].set_ylabel(\"breaking index\")\n",
    "\n",
    "axs[3].set_xlim(left=axs[3].get_xlim()[0]*1e1)\n",
    "axs[1].set_xlim(axs[3].get_xlim())\n",
    "axs[3].set_xlabel(\"f / Hz\"); axs[3].set_ylabel(\"$\\Delta N^{(2)}$\")\n",
    "\n",
    "\n",
    "for ax in axs:\n",
    "    ax.grid()\n",
    "#fig.savefig(f\"plots/ev_wet_retro_{m1/c.solar_mass_to_pc:.0e}.pdf\", bbox_inches=\"tight\")"
   ]
  },
  {
   "cell_type": "code",
   "execution_count": null,
   "metadata": {},
   "outputs": [],
   "source": [
    "dE_df_gdf_32 = common.energy_loss(hs, ev_sd_gdf_32, df_32, opt_sd_gdf_32)\n",
    "r_df_32 = dE_df_gdf_32 / spike_32.potentialEnergy(spike_32.r_spike)\n",
    "print(r_df_32)"
   ]
  },
  {
   "cell_type": "code",
   "execution_count": null,
   "metadata": {},
   "outputs": [],
   "source": [
    "dE_df_gdf_73 = common.energy_loss(hs, ev_sd_gdf_73, df_73, opt_sd_gdf_73)\n",
    "r_df_73 = dE_df_gdf_73 / spike_73.potentialEnergy(spike_73.r_spike)\n",
    "print(r_df_73)"
   ]
  },
  {
   "cell_type": "markdown",
   "metadata": {},
   "source": [
    "### Compare"
   ]
  },
  {
   "cell_type": "code",
   "execution_count": null,
   "metadata": {},
   "outputs": [],
   "source": [
    "def timescales(hs, k0, df=None, opt=None):\n",
    "    a0 = k0.a; e0 = k0.e; m1=hs.m1; m2=k0.m2; \n",
    "    t_GW = 3.*2**(7./2)/85 * a0**4 * (1.-e0)**(7./2) / m1**2 / m2\n",
    "    \n",
    "    if not df is None:\n",
    "        t_DF = np.abs(inspiral.Classic.E_orbit(hs, k0, opt=opt) / df.dE_dt(hs, k0, opt=opt))\n",
    "        return t_GW, t_DF\n",
    "    return t_GW"
   ]
  },
  {
   "cell_type": "code",
   "execution_count": null,
   "metadata": {},
   "outputs": [],
   "source": [
    "def calc_dephasing(hss, df_base, df_compare, k0s, opts, hs_base=None, k0_base=None, opt_base=None, n=2):\n",
    "    if not issequence(hss):\n",
    "        hss = [copy.deepcopy(hss) for i in range(len(df_compare))]  # careful to make actual copies and not references\n",
    "    if not issequence(k0s):\n",
    "        k0s = [copy.deepcopy(k0s) for i in range(len(df_compare))]\n",
    "    if not issequence(opts):\n",
    "        opts = [copy.deepcopy(opts) for i in range(len(df_compare))]\n",
    "    \n",
    "    hs_base = hs_base or copy.deepcopy(hss[0])\n",
    "    k0_base = k0_base or copy.deepcopy(k0s[0])\n",
    "    opt_base = opt_base or copy.deepcopy(opts[0])\n",
    "    opt_base.dissipativeForces = df_base\n",
    "    for i, dfs in enumerate(df_compare):\n",
    "        opts[i].dissipativeForces = df_base + dfs\n",
    "    \n",
    "    #ts = np.array(timescales(hs_base, k0_base, df_base[1]))\n",
    "    ts = np.array(timescales(hs_base, k0_base, df_base[1]))\n",
    "    print(ts)\n",
    "    ev_base = inspiral.Classic.Evolve(hs_base, k0_base, t_fin=1e2*np.min(ts), opt=opt_base)\n",
    "    ev_base.f_gw, ev_base.N = waveform.N_cycles_n(2, hs_base, ev_base)\n",
    "    _, ev_base.h_2p, ev_base.h_2c, __ = waveform.h_n(2, hs_base, ev_base)\n",
    "    ev_base.f_orbit, ev_base.h_1p, ev_base.h_1c, __ = waveform.h_n(1, hs_base, ev_base)\n",
    "    N_0interp = interp1d(ev_base.f_gw, ev_base.N, kind='cubic', bounds_error=False, fill_value=(0.,0.))\n",
    "    #pa_base = interp1d(ev_base.f_gw, ev_base.periapse_angle - ev_base.periapse_angle[-1], \n",
    "    #                       bounds_error=False, fill_value=(0.,0.))\n",
    "\n",
    "    evs = [ev_base]\n",
    "    for i,(hs, k0, opt) in enumerate(zip(hss, k0s, opts)):\n",
    "        ts = list(timescales(hs, k0, df_base[2])); ts.append(ev_base.t[-1])\n",
    "        print(i, ts)\n",
    "        ev = inspiral.Classic.Evolve(hs, k0, t_fin=1e1*np.min(ts), opt=opt)\n",
    "        ev.f_gw, ev.N = waveform.N_cycles_n(2, hs, ev)\n",
    "        ev.dN = ev.N - N_0interp(ev.f_gw)\n",
    "        _, ev.h_2p, ev.h_2c, __ = waveform.h_n(2, hs, ev)\n",
    "        ev.f_orbit, ev.h_1p, ev.h_1c, __ = waveform.h_n(1, hs, ev)\n",
    "        #ev.dperiapse_angle = np.abs((ev.periapse_angle - ev.periapse_angle[-1]) - pa_base(ev.f_gw))\n",
    "        evs.append(ev)\n",
    "    return evs"
   ]
  },
  {
   "cell_type": "code",
   "execution_count": null,
   "metadata": {},
   "outputs": [],
   "source": [
    "def compare_different_m1(m1, m2, D_l, acc=1e-12):\n",
    "    hs_base = ms.HostSystem(m1, D_l=D_l)\n",
    "    # GW loss\n",
    "    #environmental effects\n",
    "    gw = inspiral.forces.GWLoss()\n",
    "    #stellarHalo, stellarDiffusion = common.StellarDistribution(hs_base, m2)\n",
    "    dmDisk, _ = common.AccretionDisk(hs_base)\n",
    "    gt1_dm = forces.GasInteraction(disk=dmDisk)\n",
    "    spike_73, df_73 = common.DMSpike(hs_base, 7./3.)\n",
    "    spike_32, df_32 = common.DMSpike(hs_base, 3./2.)\n",
    "    \n",
    "    # base\n",
    "    #df_base = [gw, stellarDiffusion, gt1_dm]\n",
    "    df_base = [gw, gt1_dm]\n",
    "    opt_base = inspiral.Classic.EvolutionOptions(dissipativeForces=df_base, accuracy=acc)\n",
    "    # different hs for different mass precession\n",
    "    hs_32 = copy.deepcopy(hs_base); hs_73 = copy.deepcopy(hs_base); \n",
    "    hs_32.halo = spike_32; hs_73.halo = spike_73\n",
    "    # initial orbit\n",
    "    a0 = 1e2 * hs_base.r_isco\n",
    "    e0 = 0.\n",
    "    k0_base = kepler.KeplerOrbit(hs_base, m2, a0, e0)\n",
    "    # calc dephasing\n",
    "    evs = calc_dephasing([hs_32, hs_73], df_base, [[df_32], [df_73]], k0s=k0_base, opts=opt_base, hs_base=hs_base)\n",
    "    # feedback ratio\n",
    "    evs[1].r_df = common.energy_loss(evs[1].hs, evs[1], evs[1].options.dissipativeForces[-1], evs[1].options) / spike_32.potentialEnergy(spike_32.r_spike)\n",
    "    evs[2].r_df = common.energy_loss(evs[2].hs, evs[2], evs[2].options.dissipativeForces[-1], evs[2].options) / spike_73.potentialEnergy(spike_73.r_spike)\n",
    "    \n",
    "    return evs"
   ]
  },
  {
   "cell_type": "code",
   "execution_count": null,
   "metadata": {
    "scrolled": false
   },
   "outputs": [],
   "source": [
    "evs_wet_m1e5 = compare_different_m1(1e5*c.solar_mass_to_pc, 1.*c.solar_mass_to_pc, 5e8)"
   ]
  },
  {
   "cell_type": "code",
   "execution_count": null,
   "metadata": {},
   "outputs": [],
   "source": [
    "evs_wet_m1e4 = compare_different_m1(1e4*c.solar_mass_to_pc, 1.*c.solar_mass_to_pc, 5e8)"
   ]
  },
  {
   "cell_type": "code",
   "execution_count": null,
   "metadata": {},
   "outputs": [],
   "source": [
    "evs_wet_m1e3 = compare_different_m1(1e3*c.solar_mass_to_pc, 1.*c.solar_mass_to_pc, 5e8)"
   ]
  },
  {
   "cell_type": "code",
   "execution_count": null,
   "metadata": {},
   "outputs": [],
   "source": [
    "def plot_observable_dephasing(ax, evs, labels):\n",
    "    Lisa = detector.Lisa()\n",
    "    bw = Lisa.Bandwith()\n",
    "    \n",
    "    for i, ev in enumerate(evs):\n",
    "        observable = ( (ev.f_gw > bw[0]) &  (ev.f_gw < bw[1]) & \n",
    "                                  (2.*ev.f_gw*np.abs(ev.h_2p) > Lisa.NoiseStrain(ev.f_gw)))\n",
    "\n",
    "        nobservable = np.where(np.logical_not(observable))[0]\n",
    "        observable = np.where(observable)[0]\n",
    "        \n",
    "        if np.any(nobservable[1:] != (nobservable[:-1]+1)): # there is a gap\n",
    "            lgap = np.argmax(nobservable[1:] != (nobservable[:-1]+1))\n",
    "            rgap = len(nobservable)-1- np.argmax(nobservable[::-1][1:] != (nobservable[::-1][:-1]-1))\n",
    "            l, = ax.loglog(ev.f_gw[nobservable[:lgap]]/c.hz_to_invpc, np.abs(ev.dN[nobservable[:lgap]]), \n",
    "                        linestyle= '--')\n",
    "            l, = ax.loglog(ev.f_gw[nobservable[rgap:]]/c.hz_to_invpc, np.abs(ev.dN[nobservable[rgap:]]), \n",
    "                        linestyle= '--', color=l.get_c())\n",
    "        else:\n",
    "            l, = ax.loglog(ev.f_gw[nobservable]/c.hz_to_invpc, np.abs(ev.dN[nobservable]), \n",
    "                        linestyle= '--')\n",
    "            \n",
    "        l, = ax.loglog(ev.f_gw[observable]/c.hz_to_invpc, np.abs(ev.dN[observable]), \n",
    "                       label=labels[i], linestyle='-', color=l.get_c())\n",
    "        print(labels[i], ev.r_df)\n",
    "        l, f5yrs = pu.plotLastTyears(ev.hs, ev, ax, color=l.get_c())\n",
    "        if l is not None:\n",
    "            l.remove()\n",
    "            index_f5yrs = np.argmax(ev.f_gw > f5yrs )\n",
    "            ax.plot(ev.f_gw[index_f5yrs]/c.hz_to_invpc, np.abs(ev.dN[index_f5yrs]), marker='p', color=l.get_c())\n",
    "        "
   ]
  },
  {
   "cell_type": "code",
   "execution_count": null,
   "metadata": {
    "scrolled": false
   },
   "outputs": [],
   "source": [
    "fig, axs = plt.subplots(2,1, sharex='all', figsize=(8,8))\n",
    "Lisa = detector.Lisa()\n",
    "f_gw = np.geomspace(Lisa.Bandwith()[0], Lisa.Bandwith()[1], 100)\n",
    "for ev in evs_wet_m1e5[1:]:\n",
    "    pu.plotGWcharacteristicStrain(ev.hs, ev, axs[0], harmonics=[2])\n",
    "for ev in evs_wet_m1e4[1:]:\n",
    "    pu.plotGWcharacteristicStrain(ev.hs, ev, axs[0], harmonics=[2])\n",
    "for ev in evs_wet_m1e3[1:]:\n",
    "    pu.plotGWcharacteristicStrain(ev.hs, ev, axs[0], harmonics=[2])\n",
    "\n",
    "axs[0].loglog(f_gw/c.hz_to_invpc, Lisa.NoiseStrain(f_gw), label='LISA', color='black')\n",
    "axs[0].fill_between(f_gw/c.hz_to_invpc, Lisa.NoiseStrain(f_gw), color='gray', alpha=0.3)\n",
    "    \n",
    "plot_observable_dephasing(axs[1], evs_wet_m1e5[1:], [\"$m_1=10^5M_\\odot, \\gamma=3/2$\", \"$m_1=10^5M_\\odot, \\gamma=7/3$\"])\n",
    "plot_observable_dephasing(axs[1], evs_wet_m1e4[1:], [\"$m_1=10^4M_\\odot, \\gamma=3/2$\", \"$m_1=10^4M_\\odot, \\gamma=7/3$\"])\n",
    "plot_observable_dephasing(axs[1], evs_wet_m1e3[1:], [\"$m_1=10^3M_\\odot, \\gamma=3/2$\", \"$m_1=10^3M_\\odot, \\gamma=7/3$\"])\n",
    "for ax in axs:\n",
    "    ax.grid()\n",
    "axs[1].legend(bbox_to_anchor=(1.,1.), loc='upper left')\n",
    "axs[1].set_ylim(bottom=1.); axs[1].set_xlim(left=1e-5, right=1)\n",
    "axs[1].set_xlabel(\"f / Hz\")\n",
    "axs[1].set_ylabel(\"$|\\Delta N^{(2)}|$\")\n",
    "axs[0].set_ylabel(\"characteristic strain\")\n",
    "fig.subplots_adjust(hspace=0.)\n",
    "#fig.savefig(f\"plots/dephasing_wet_retro.pdf\", bbox_inches=\"tight\")"
   ]
  }
 ],
 "metadata": {
  "kernelspec": {
   "display_name": "Python 3",
   "language": "python",
   "name": "python3"
  },
  "language_info": {
   "codemirror_mode": {
    "name": "ipython",
    "version": 3
   },
   "file_extension": ".py",
   "mimetype": "text/x-python",
   "name": "python",
   "nbconvert_exporter": "python",
   "pygments_lexer": "ipython3",
   "version": "3.8.10"
  }
 },
 "nbformat": 4,
 "nbformat_minor": 4
}
