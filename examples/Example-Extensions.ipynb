{
 "cells": [
  {
   "cell_type": "code",
   "execution_count": 1,
   "id": "ac005324",
   "metadata": {},
   "outputs": [],
   "source": [
    "import numpy as np\n",
    "import matplotlib.pyplot as plt\n",
    "\n",
    "from imripy import constants as c, merger_system as ms, halo, inspiral, plot_utils as pu, kepler"
   ]
  },
  {
   "cell_type": "markdown",
   "id": "41f8c1ef",
   "metadata": {},
   "source": [
    "This notebook gives a simple example on how to extend the code.\n",
    "As a toy problem, we will try to model the orbital drag the ISS experiences. "
   ]
  },
  {
   "cell_type": "code",
   "execution_count": 2,
   "id": "d3f6dce2",
   "metadata": {},
   "outputs": [],
   "source": [
    "# First, some earth parameters\n",
    "m_earth = 3e-6 * c.solar_mass_to_pc  # Earth mass is 3e-6 solar masses\n",
    "r_earth = 6371. * 1e3*c.m_to_pc  # Earth radius 6371 km \n",
    "\n",
    "hs_earth = ms.HostSystem(m_earth)"
   ]
  },
  {
   "cell_type": "code",
   "execution_count": 3,
   "id": "c2a8c1f1",
   "metadata": {},
   "outputs": [],
   "source": [
    "# And ISS parameters, taken from wikipedia\n",
    "m_iss = 4.5e5 * c.kg_to_pc\n",
    "surface_area_iss = 109. * 73. * c.m_to_pc**2\n",
    "\n",
    "r_iss_min = r_earth + 413. * 1e3*c.m_to_pc\n",
    "r_iss_max = r_earth + 422. * 1e3*c.m_to_pc\n",
    "a_iss = (r_iss_min + r_iss_max) / 2.\n",
    "e_iss = (r_iss_max - r_iss_min) / 2. / a_iss\n",
    "\n",
    "ko_iss = kepler.KeplerOrbit(hs_earth, m_iss, a_iss, e_iss)"
   ]
  },
  {
   "cell_type": "markdown",
   "id": "d3932819",
   "metadata": {},
   "source": [
    "Now we can extend the halo.MatterHalo class to model our atmosphere.\n",
    "\n",
    "We take a simple exponential ansatz (which is not a great approximation at ISS distance)\n",
    "\n",
    "The mass function can be provided explicitly, or the density is integrated numerically."
   ]
  },
  {
   "cell_type": "code",
   "execution_count": 4,
   "id": "aed3bf8b",
   "metadata": {},
   "outputs": [],
   "source": [
    "class Atmosphere(halo.MatterHalo):\n",
    "    def __init__(self, r_0, rho_0, scale_height):\n",
    "        super().__init__(name=\"Atmosphere\")\n",
    "        self.r_0 = r_0\n",
    "        self.rho_0 = rho_0\n",
    "        self.scale_height = scale_height\n",
    "\n",
    "    def density(self, r):\n",
    "        return np.where(r >= self.r_0, \n",
    "                         self.rho_0 * np.exp(- (r - self.r_0) / self.scale_height),\n",
    "                        0.)"
   ]
  },
  {
   "cell_type": "code",
   "execution_count": 5,
   "id": "20b0e0a6",
   "metadata": {},
   "outputs": [],
   "source": [
    "# Atmospheric parameters\n",
    "rho_0_earth = 1.225e-3 *c.g_cm3_to_invpc2  # 1.225 kg/m^3\n",
    "scale_height_earth = 10.4  * 1e3*c.m_to_pc # 10.4 km\n",
    "\n",
    "at_earth = Atmosphere(r_earth, rho_0_earth, scale_height_earth)"
   ]
  },
  {
   "cell_type": "code",
   "execution_count": 6,
   "id": "8fbb2f8c",
   "metadata": {},
   "outputs": [
    {
     "data": {
      "text/plain": [
       "<matplotlib.legend.Legend at 0x7f1d300f5ea0>"
      ]
     },
     "execution_count": 6,
     "metadata": {},
     "output_type": "execute_result"
    },
    {
     "data": {
      "image/png": "[encoded data removed]",
      "text/plain": [
       "<Figure size 640x480 with 1 Axes>"
      ]
     },
     "metadata": {},
     "output_type": "display_data"
    }
   ],
   "source": [
    "r_grid = np.linspace(r_earth, r_earth + a_iss, 100)\n",
    "\n",
    "l, = plt.plot(r_grid/ c.m_to_pc, at_earth.density(r_grid), label=r'$\\rho$')\n",
    "plt.plot(r_grid / c.m_to_pc, at_earth.mass(r_grid), linestyle='--', color=l.get_c(), label='$m$')\n",
    "plt.axvline(r_earth/c.m_to_pc, color='black', linestyle='--', label=\"earth radius\")\n",
    "plt.grid(); plt.xlabel(\"r / m\"); plt.yscale('log'); plt.ylim(bottom=1e-30); plt.legend()"
   ]
  },
  {
   "cell_type": "markdown",
   "id": "fba7e749",
   "metadata": {},
   "source": [
    "Here, we create the drag force the ISS experiences, as simple geometric drag inside a gaseous medium.\n",
    "\n",
    "Since the force is antiparallel to the velocity, we can use the inspiral.forces.DissipativeForceSS class.\n",
    "If e.g. the gas is also moving relative to the earth, the force can point in a different direction. There is already a GasGeometricDrag class implemented that handles this.\n",
    "\n",
    "The only real function we have to provide is F, the force assumed to be antiparallel to the velocity of the secondary. The `halo` is our atmosphere, and this can be either directly provided to the GeometricDrag class, or taken from the HostSystem object as hs.halo.\n",
    "Then, the force is calculated from all the parameters and returned.\n",
    "The base class then converts this force to the energy and angular momentum loss by averaging over the orbit, and this is in turn converted to the changes in semimajor axis and eccentricity.\n",
    "\n",
    "If the force is not antiparallel, the signature is a bit more complicated, see the forces in imripy.inspiral.forces. Once F is specified, it can also calculate dE/dt, dL/dt, and di/dt for the inclination angle."
   ]
  },
  {
   "cell_type": "code",
   "execution_count": 7,
   "id": "05767c9d",
   "metadata": {},
   "outputs": [],
   "source": [
    "class GeometricDrag(inspiral.forces.DissipativeForceSS):\n",
    "    name = \"GeometricDrag\"\n",
    "\n",
    "    def __init__(self, surface_area, halo = None, C_drag= 1.):\n",
    "        self.surface_area = surface_area\n",
    "        self.halo = halo\n",
    "        self.C_drag = C_drag\n",
    "\n",
    "    def F(self, hs, ko, r, v, opt):\n",
    "        \"\"\"\n",
    "        The function gives the force of the geomtric drag of an object inside a gaseous halo at radius r\n",
    "            and with velocity v\n",
    "\n",
    "        Parameters:\n",
    "            hs (HostSystem) : The object describing the properties of the host system\n",
    "            ko (KeplerOrbit): The Kepler orbit object describing the current orbit\n",
    "            r  (float)      : The radius of the secondary (as in total distance to the MBH)\n",
    "            v  (float)      : The total velocity\n",
    "            opt (EvolutionOptions): The options for the evolution of the differential equations\n",
    "\n",
    "        Returns:\n",
    "            out : float\n",
    "                The magnitude of the drag force\n",
    "        \"\"\"\n",
    "        halo = self.halo or hs.halo\n",
    "        \n",
    "        F_gd = 2* self.C_drag  * self.surface_area * halo.density(r) * v**2\n",
    "        return F_gd"
   ]
  },
  {
   "cell_type": "code",
   "execution_count": 8,
   "id": "3dd71d4d",
   "metadata": {},
   "outputs": [],
   "source": [
    "gd = GeometricDrag(surface_area_iss, halo=at_earth)"
   ]
  },
  {
   "cell_type": "code",
   "execution_count": 9,
   "id": "7f53aa52",
   "metadata": {},
   "outputs": [
    {
     "name": "stdout",
     "output_type": "stream",
     "text": [
      "Evolving from  254647320.60185188  to  238986238.42592594 r_isco  with initial eccentricity 0.0006628857626869252  with  Options: dissipative forces employed {GeometricDrag, }, accuracy = 1.0e-10\n"
     ]
    },
    {
     "name": "stderr",
     "output_type": "stream",
     "text": [
      "/media/data/Documents/PhD/imripy/src/imripy/kepler.py:240: RuntimeWarning: invalid value encountered in sqrt\n",
      "  v = np.sqrt(self.m_tot *(2./r - 1./self.a))\n",
      "/tmp/ipykernel_4875/1292279335.py:10: RuntimeWarning: overflow encountered in exp\n",
      "  self.rho_0 * np.exp(- (r - self.r_0) / self.scale_height),\n",
      "/media/data/Documents/PhD/imripy/src/imripy/inspiral/forces.py:241: IntegrationWarning: The occurrence of roundoff error is detected, which prevents \n",
      "  the requested tolerance from being achieved.  The error may be \n",
      "  underestimated.\n",
      "  return -(1.-e**2)**(3./2.)/2./np.pi * quad(integrand, 0., 2.*np.pi, limit = 100)[0]\n",
      "/media/data/Documents/PhD/imripy/src/imripy/inspiral/forces.py:264: RuntimeWarning: invalid value encountered in sqrt\n",
      "  return -(1.-e**2)**(3./2.)/2./np.pi *np.sqrt(ko.m_tot * a*(1.-e**2))* quad(integrand, 0., 2.*np.pi, limit = 100)[0]\n",
      "/media/data/Documents/PhD/imripy/src/imripy/inspiral/forces.py:264: IntegrationWarning: The occurrence of roundoff error is detected, which prevents \n",
      "  the requested tolerance from being achieved.  The error may be \n",
      "  underestimated.\n",
      "  return -(1.-e**2)**(3./2.)/2./np.pi *np.sqrt(ko.m_tot * a*(1.-e**2))* quad(integrand, 0., 2.*np.pi, limit = 100)[0]\n",
      "/media/data/Documents/PhD/imripy/src/imripy/inspiral/classic.py:143: RuntimeWarning: invalid value encountered in sqrt\n",
      "  L = np.sqrt(ko.a * (1-ko.e**2) * ko.m_tot * ko.m_red**2 )\n"
     ]
    },
    {
     "name": "stdout",
     "output_type": "stream",
     "text": [
      "Required step size is less than spacing between numbers.\n",
      " -> Ended at 2.421e+08r_isco. Evolution took 0.6737s real time\n"
     ]
    }
   ],
   "source": [
    "opt = inspiral.Classic.EvolutionOptions( dissipativeForces=[gd]) # we only want our newly defined drag force\n",
    "\n",
    "# now solve the differential equations until the earth is hit\n",
    "ev = inspiral.Classic.Evolve(hs_earth, ko_iss, opt=opt, a_fin=r_earth)"
   ]
  },
  {
   "cell_type": "code",
   "execution_count": 10,
   "id": "c2d5eb3d",
   "metadata": {},
   "outputs": [
    {
     "data": {
      "image/png": "[encoded data removed]",
      "text/plain": [
       "<Figure size 500x500 with 1 Axes>"
      ]
     },
     "metadata": {},
     "output_type": "display_data"
    }
   ],
   "source": [
    "fig, ax = plt.subplots(1,1, figsize=(5,5))\n",
    "\n",
    "ax.plot(ev.t / c.year_to_pc, (ev.a - r_earth)/c.m_to_pc/1e3)\n",
    "ax.set_xlabel(\"t / yr\"); ax.set_ylabel(\"height / km\"); ax.grid()"
   ]
  },
  {
   "cell_type": "markdown",
   "id": "a03a003e",
   "metadata": {},
   "source": [
    "Of course, this is not a realistic example. Once the ISS is sufficiently inside the atmosphere, the forces become too strong and the resulting trajectory is certainly not Keplerian anymore.\n",
    "\n",
    "This is just a toy problem to see how easily the code can be extended. \n",
    "According to wikipedia, the ISS loses 2km/month, if not boosted by the docked rockets.\n",
    "We are just a few order of magnitude off, this is probably because of the oversimplified atmospheric model."
   ]
  },
  {
   "cell_type": "code",
   "execution_count": 11,
   "id": "3a046b46",
   "metadata": {},
   "outputs": [
    {
     "name": "stdout",
     "output_type": "stream",
     "text": [
      "-5.063853502614781e-05\n"
     ]
    }
   ],
   "source": [
    "da_dt = np.gradient(ev.a / c.m_to_pc / 1e3, ev.t / c.year_to_pc * 12.)  # convert to km / month\n",
    "print(da_dt[0])"
   ]
  },
  {
   "cell_type": "markdown",
   "id": "95ad0e5e",
   "metadata": {},
   "source": [
    "Note: The gas drag here is circularizing, so the initialy eccentricity is washed away. If the force were eccentrifying and the orbit highly eccentric, passing a_fin is not sufficient. This is because on an eccentric orbit, the surface can be hit while the semimajor axis is still larger.\n",
    "\n",
    "To adapt to this, we can use the opt.additionalEvents structure and create an event that triggers when the surface is actually hit. The event handling is according to scipy.solve_ivp. As an example we could do this"
   ]
  },
  {
   "cell_type": "code",
   "execution_count": 12,
   "id": "3bacb43b",
   "metadata": {},
   "outputs": [],
   "source": [
    "a_scale = ko_iss.a\n",
    "# in the internal integration y[0] is a in a_scale, with a_scale set to the initial semimajor axis\n",
    "# and y[1] is the eccentricity 0<=e<1\n",
    "# y[2] is the secondary's mass, y[3] the periapse angle, and y[4] the inclination angle\n",
    "surface_hit = lambda t,y, *args: a_scale*y[0]*(1. - y[1]) - r_earth  # the lowest point in the orbit is given by a*(1-e)\n",
    "surface_hit.terminal = True\n",
    "opt.additionalEvents = [surface_hit]"
   ]
  },
  {
   "cell_type": "code",
   "execution_count": null,
   "id": "c07ead65",
   "metadata": {},
   "outputs": [],
   "source": []
  }
 ],
 "metadata": {
  "kernelspec": {
   "display_name": "python-3.10-imripy",
   "language": "python",
   "name": "python-3.10-imripy"
  },
  "language_info": {
   "codemirror_mode": {
    "name": "ipython",
    "version": 3
   },
   "file_extension": ".py",
   "mimetype": "text/x-python",
   "name": "python",
   "nbconvert_exporter": "python",
   "pygments_lexer": "ipython3",
   "version": "3.10.12"
  }
 },
 "nbformat": 4,
 "nbformat_minor": 5
}
