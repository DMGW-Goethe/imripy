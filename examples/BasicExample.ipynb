{
 "cells": [
  {
   "cell_type": "code",
   "execution_count": null,
   "metadata": {},
   "outputs": [],
   "source": [
    "import numpy as np\n",
    "import matplotlib.pyplot as plt\n",
    "\n",
    "import imripy\n",
    "from imripy import constants as c\n",
    "from imripy import merger_system as ms\n",
    "\n",
    "from scipy.interpolate import interp1d"
   ]
  },
  {
   "cell_type": "markdown",
   "metadata": {},
   "source": [
    "### Define dark matter halo properties\n",
    "\n",
    "The code works in geometrized units with $c=G=1$, which means that energy, length, time, and mass all have the same units (see for example $E=mc^2 = m$, and $1 = c = \\text{length}/\\text{time}$)\n",
    "\n",
    "We can choose which unit we want to describe them with, and usually parsecs is chosen ($1$pc$\\approx 3.26$ light years$\\approx 3.09\\cdot 10^{16}$m). To this end, the imripy.merger_system file has a few constants for the transformation."
   ]
  },
  {
   "cell_type": "code",
   "execution_count": null,
   "metadata": {},
   "outputs": [],
   "source": [
    "# Dark matter spike with the values from the Eda paper\n",
    "r_spike = 0.54  # in parsecs\n",
    "\n",
    "alpha = 7./3.\n",
    "\n",
    "rho_spike = 226. * c.solar_mass_to_pc  # This takes the value of 226 M_sun/pc^3 and converts it to 1/pc^2\n",
    "\n",
    "spike = imripy.halo.Spike(rho_spike, r_spike, alpha)"
   ]
  },
  {
   "cell_type": "code",
   "execution_count": null,
   "metadata": {},
   "outputs": [],
   "source": [
    "# NFW for comparison\n",
    "r_s = 23.1\n",
    "rho_s = 3.8e-22 *c.g_cm3_to_invpc2\n",
    "nfw = imripy.halo.NFW(rho_s, r_s)"
   ]
  },
  {
   "cell_type": "code",
   "execution_count": null,
   "metadata": {},
   "outputs": [],
   "source": [
    "# Plot density\n",
    "r_grid = np.geomspace(1e-8, 1e3, 100)  # creates a grid in pc\n",
    "plt.loglog(r_grid, spike.density(r_grid), label='spike')\n",
    "plt.loglog(r_grid, nfw.density(r_grid), label='nfw')\n",
    "plt.grid(); plt.xlabel(\"radius / pc\"); plt.ylabel(\"density / 1/pc$^2$\"); plt.legend()"
   ]
  },
  {
   "cell_type": "markdown",
   "metadata": {},
   "source": [
    "### Define the IMRI system"
   ]
  },
  {
   "cell_type": "code",
   "execution_count": null,
   "metadata": {},
   "outputs": [],
   "source": [
    "m1 =  1e4 * c.solar_mass_to_pc   # The central mass m1 with a mass of 1e4 solar masses, converted to pc\n",
    "\n",
    "m2 = 1. * c.solar_mass_to_pc   # The secondary mass\n",
    "\n",
    "D_luminosity = 5e8              # The distance to the system from earth as 500 Mpc\n",
    "\n",
    "sp = ms.SystemProp(m1, m2, spike, D_luminosity)   # Create the SystemProp object describing the IMRI system"
   ]
  },
  {
   "cell_type": "markdown",
   "metadata": {},
   "source": [
    "### Define initial conditions for a circular inspiral"
   ]
  },
  {
   "cell_type": "code",
   "execution_count": null,
   "metadata": {},
   "outputs": [],
   "source": [
    "R0 = 100. * sp.r_isco()    # Start the inspiral from an initial separataion of 100 * r_isco, the radius of the \n",
    "                            # innermost stable ciricular orbit\n",
    "\n",
    "R_fin = sp.r_isco()      # The final condition for the evolution"
   ]
  },
  {
   "cell_type": "markdown",
   "metadata": {},
   "source": [
    "### Solve the differential equations"
   ]
  },
  {
   "cell_type": "code",
   "execution_count": null,
   "metadata": {},
   "outputs": [],
   "source": [
    "ev = imripy.inspiral.Classic.Evolve(sp, R0,  a_fin = R_fin)"
   ]
  },
  {
   "cell_type": "code",
   "execution_count": null,
   "metadata": {},
   "outputs": [],
   "source": [
    "#  The evolution result has the following parameters\n",
    "attr = []\n",
    "for d in dir(ev):\n",
    "    if not \"__\" in d:\n",
    "        attr.append(d)\n",
    "# with the time t, radius R (in the circular case), semimajor axis a, eccentricity e, secondary mass m2\n",
    "# integration message msg, the EvolutionOptions used options, and the SystemProp object used sp\n",
    "print(attr)"
   ]
  },
  {
   "cell_type": "code",
   "execution_count": null,
   "metadata": {},
   "outputs": [],
   "source": [
    "# Plot the result\n",
    "plt.loglog(ev.t/c.year_to_pc,  ev.R/sp.r_isco())\n",
    "plt.grid(); plt.xlabel(\"time / yr\"); plt.ylabel(\"radius / $r_{isco}$\")"
   ]
  },
  {
   "cell_type": "code",
   "execution_count": null,
   "metadata": {},
   "outputs": [],
   "source": [
    "# Alternatively use the plot_utils (which becomes more useful when several things are plotted, such as eccentricity)\n",
    "imripy.plot_utils.plotEvolution(sp, ev, ax_a=plt.gca())\n",
    "plt.grid(); plt.xlabel(\"time / yr\"); plt.ylabel(\"radius / $r_{isco}$\")"
   ]
  },
  {
   "cell_type": "markdown",
   "metadata": {},
   "source": [
    "### Calculate the gravitational wave signal"
   ]
  },
  {
   "cell_type": "code",
   "execution_count": null,
   "metadata": {},
   "outputs": [],
   "source": [
    "# First, the gravitational wave signal right before inspiral\n",
    "tom = ev.t[-1]    # time of merger\n",
    "t_grid = np.linspace(tom - 20.*c.s_to_pc, tom, 500)   # Look at the last 20s of inspiral\n",
    "h_plus, h_cross = imripy.waveform.h(sp, ev, t_grid)\n",
    "\n",
    "plt.figure(figsize=(10,8))\n",
    "plt.plot((t_grid - tom)/c.s_to_pc, h_plus, label=\"$h_+$\")\n",
    "plt.plot((t_grid - tom)/c.s_to_pc, h_cross, label=\"$h_x$\")\n",
    "plt.grid(); plt.legend(); plt.xlabel(\"time to merger / s\")"
   ]
  },
  {
   "cell_type": "code",
   "execution_count": null,
   "metadata": {},
   "outputs": [],
   "source": [
    "# The characteristic strain of the signal compared to the LISA sensitivity\n",
    "f_gw, h_2_plus, h_2_cross, _ = imripy.waveform.h_2(sp, ev)\n",
    "plt.loglog(f_gw/c.hz_to_invpc, 2.* f_gw*h_2_plus, label=\"h_+^{(2)}\")\n",
    "\n",
    "Lisa = imripy.detector.Lisa()\n",
    "f_gw = np.geomspace(Lisa.Bandwith()[0], Lisa.Bandwith()[1], 100)\n",
    "plt.loglog(f_gw/c.hz_to_invpc, Lisa.NoiseStrain(f_gw), label='LISA')\n",
    "plt.grid(); plt.legend(); plt.xlabel(\"frequency / Hz\"); plt.ylabel(\"characteristic strain\")"
   ]
  },
  {
   "cell_type": "markdown",
   "metadata": {},
   "source": [
    "### Calculate dephasing"
   ]
  },
  {
   "cell_type": "code",
   "execution_count": null,
   "metadata": {},
   "outputs": [],
   "source": [
    "# To calculate the dephasing, we need the vacuum case\n",
    "noDF = imripy.inspiral.Classic.EvolutionOptions(dynamicalFrictionLoss=False)\n",
    "ev_0 = imripy.inspiral.Classic.Evolve(sp, R0, a_fin=R_fin, opt=noDF)"
   ]
  },
  {
   "cell_type": "code",
   "execution_count": null,
   "metadata": {},
   "outputs": [],
   "source": [
    "# Now calculate N_cycles for both cases and compare\n",
    "f_gw_0, N_0 = imripy.waveform.N_cycles_n(2, sp, ev_0)\n",
    "N_0_interp = interp1d(f_gw_0, N_0, bounds_error=False, fill_value=(0.,0.))\n",
    "\n",
    "f_gw, N = imripy.waveform.N_cycles_n(2, sp, ev)\n",
    "\n",
    "plt.loglog(f_gw/c.hz_to_invpc, np.abs(N_0_interp(f_gw)- N))\n",
    "plt.grid(); plt.xlabel(\"frequency / Hz\"); plt.ylabel(\"$\\Delta N$\")"
   ]
  },
  {
   "cell_type": "code",
   "execution_count": null,
   "metadata": {},
   "outputs": [],
   "source": [
    "# Alternatively, use the plot_utils function (and additionally plot the dephasing index)\n",
    "fig, axes = plt.subplots(2, 1, figsize=(6,8), sharex='all')\n",
    "imripy.plot_utils.plotDeltaN(sp, ev_0, sp, ev, axes[0], ax_di=axes[1]);\n",
    "fig.subplots_adjust(hspace=0); axes[0].grid(); axes[1].grid()\n",
    "axes[0].set_ylim(bottom=1.)\n",
    "axes[1].set_xscale('log'); axes[1].set_xlabel(\"frequency / Hz\"); axes[1].set_ylabel(\"dephasing index\"); axes[0].set_ylabel(\"$\\Delta N$\")"
   ]
  },
  {
   "cell_type": "markdown",
   "metadata": {},
   "source": [
    "### Do the same for an eccentric inspiral"
   ]
  },
  {
   "cell_type": "code",
   "execution_count": null,
   "metadata": {},
   "outputs": [],
   "source": [
    "a0 = 100. * sp.r_isco()  \n",
    "e0 = 0.5    \n",
    "\n",
    "a_fin = sp.r_isco() \n",
    "\n",
    "ev_ecc = imripy.inspiral.Classic.Evolve(sp, a0, e_0=e0,  a_fin = R_fin)"
   ]
  },
  {
   "cell_type": "code",
   "execution_count": null,
   "metadata": {},
   "outputs": [],
   "source": [
    "# Plot the result and compare to circular case\n",
    "plt.loglog(ev.t/c.year_to_pc,  ev.R/sp.r_isco(), label='circular')\n",
    "plt.loglog(ev_ecc.t/c.year_to_pc,  ev_ecc.a/sp.r_isco(), label='eccentric')\n",
    "plt.grid(); plt.legend(); plt.xlabel(\"time / yr\"); plt.ylabel(\"radius / $r_{isco}$\")"
   ]
  },
  {
   "cell_type": "code",
   "execution_count": null,
   "metadata": {},
   "outputs": [],
   "source": [
    "# Plot eccentricity vs semimajor axis\n",
    "plt.plot(ev_ecc.a/sp.r_isco(),  ev_ecc.e)\n",
    "plt.grid(); plt.xlabel(\"semimajor axis / $r_{isco}$\"); plt.ylabel(\"eccentricity\")"
   ]
  },
  {
   "cell_type": "code",
   "execution_count": null,
   "metadata": {},
   "outputs": [],
   "source": [
    "# Alternatively use the plot_utils\n",
    "fig, axes = plt.subplots(3,1, figsize=(6, 12))\n",
    "imripy.plot_utils.plotEvolution(sp, ev_ecc, ax_a=axes[0], ax_ae=axes[1], ax_n=axes[2])\n",
    "axes[0].grid(); axes[0].set_xlabel(\"time / yr\"); axes[0].set_ylabel(\"radius / $r_{isco}$\")\n",
    "axes[1].grid(); axes[1].set_xlabel(\"semimajor axis / $r_{isco}$\"); axes[0].set_ylabel(\"eccentricity\");\n",
    "axes[2].grid(); axes[2].set_xscale('log'); axes[2].set_xlabel(\"frequency / Hz\"); axes[2].set_ylabel(\"braking index\")"
   ]
  },
  {
   "cell_type": "code",
   "execution_count": null,
   "metadata": {},
   "outputs": [],
   "source": [
    "t_grid = np.linspace(0., 5000.*c.s_to_pc, 500)   # Look at the first 5000s of inspiral to see the eccentric effects\n",
    "h_plus, h_cross = imripy.waveform.h(sp, ev_ecc, t_grid)\n",
    "\n",
    "plt.figure(figsize=(10,8))\n",
    "plt.plot(t_grid/c.s_to_pc, h_plus, label=\"$h_+$\")\n",
    "plt.plot(t_grid/c.s_to_pc, h_cross, label=\"$h_x$\")\n",
    "plt.grid(); plt.legend(); plt.xlabel(\"time / s\")"
   ]
  },
  {
   "cell_type": "code",
   "execution_count": null,
   "metadata": {},
   "outputs": [],
   "source": [
    "# Plot the first five harmonics\n",
    "n_comp = 5\n",
    "\n",
    "wfs = [imripy.waveform.h_n(n, sp, ev_ecc, acc=1e-13) for n in range(1, n_comp+1)]\n",
    "\n",
    "for i in range( len(wfs)):\n",
    "    plt.loglog(wfs[i][0]/c.hz_to_invpc, 2.*wfs[i][0]*np.abs(wfs[i][1]), label=r\"$|h^{(\" + str(i+1) + \")}_+|$\")\n",
    "\n",
    "Lisa = imripy.detector.Lisa()\n",
    "f_gw = np.geomspace(Lisa.Bandwith()[0], Lisa.Bandwith()[1], 100)\n",
    "plt.loglog(f_gw/c.hz_to_invpc, Lisa.NoiseStrain(f_gw), label='LISA')\n",
    "plt.grid(); plt.legend(); plt.xlabel(\"frequency / Hz\"); plt.ylabel(\"characteristic strain\"); plt.ylim(bottom=1e-24)"
   ]
  },
  {
   "cell_type": "code",
   "execution_count": null,
   "metadata": {},
   "outputs": [],
   "source": []
  }
 ],
 "metadata": {
  "kernelspec": {
   "display_name": "Python 3",
   "language": "python",
   "name": "python3"
  },
  "language_info": {
   "codemirror_mode": {
    "name": "ipython",
    "version": 3
   },
   "file_extension": ".py",
   "mimetype": "text/x-python",
   "name": "python",
   "nbconvert_exporter": "python",
   "pygments_lexer": "ipython3",
   "version": "3.8.10"
  }
 },
 "nbformat": 4,
 "nbformat_minor": 4
}
