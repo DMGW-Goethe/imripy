{
 "cells": [
  {
   "cell_type": "code",
   "execution_count": null,
   "metadata": {},
   "outputs": [],
   "source": [
    "import numpy as np\n",
    "import matplotlib.pyplot as plt\n",
    "\n",
    "from imripy import merger_system as ms\n",
    "from imripy import halo\n",
    "from imripy import inspiral\n",
    "from imripy import waveform\n",
    "from imripy import detector"
   ]
  },
  {
   "cell_type": "code",
   "execution_count": null,
   "metadata": {},
   "outputs": [],
   "source": [
    "m1 = 1e3 * ms.solar_mass_to_pc\n",
    "m2 = 1. * ms.solar_mass_to_pc\n",
    "D = 5e8\n",
    "\n",
    "sp_0 = ms.SystemProp(m1, m2, halo.ConstHalo(0.), D)"
   ]
  },
  {
   "cell_type": "code",
   "execution_count": null,
   "metadata": {},
   "outputs": [],
   "source": [
    "inspiral.Classic.ln_Lambda = -1\n",
    "rho_spike = 226. * ms.solar_mass_to_pc\n",
    "r_spike = 0.54\n",
    "e0 = 1e-4\n",
    "a0 = 100 * sp_0.r_isco()\n",
    "afin = 1. * sp_0.r_isco()\n",
    "\n",
    "sp_dm = ms.SystemProp(m1, m2, halo.Spike(rho_spike, r_spike, 7./3.), D)\n",
    "\n",
    "ev_0 = inspiral.Classic.evolve_elliptic_binary(sp_0, a0, e0, a_fin=afin, accretion=True, verbose=2, acc=1e-10)\n",
    "ev_nacc = inspiral.Classic.evolve_elliptic_binary(sp_dm, a0, e0, a_fin=afin, accretion=False, verbose=2, acc=1e-10)\n",
    "ev_acc = inspiral.Classic.evolve_elliptic_binary(sp_dm, a0, e0, a_fin=afin, accretion=True, verbose=2, acc=1e-10)"
   ]
  },
  {
   "cell_type": "code",
   "execution_count": null,
   "metadata": {},
   "outputs": [],
   "source": [
    "fig, (ax_p, ax_e, ax_m, ax_E, ax_L) = plt.subplots(5, 1, figsize=(16,30))\n",
    "ax_p.loglog(ev_0.t/ms.year_to_pc, ev_0.a*(1.-ev_0.e**2)/sp_0.m1, label='no dm')\n",
    "ax_p.loglog(ev_nacc.t/ms.year_to_pc, ev_nacc.a*(1.-ev_nacc.a**2)/sp_dm.m1, label='nacc')\n",
    "ax_p.loglog(ev_acc.t/ms.year_to_pc, ev_acc.a*(1.-ev_acc.e**2)/sp_dm.m1, label='acc')\n",
    "\n",
    "ax_e.loglog(ev_0.t/ms.year_to_pc, ev_0.e, label='no dm')\n",
    "ax_e.loglog(ev_nacc.t/ms.year_to_pc, ev_nacc.e, label='nacc')\n",
    "ax_e.loglog(ev_acc.t/ms.year_to_pc, ev_acc.e, label='acc')\n",
    "\n",
    "ax_m.loglog(ev_0.t/ms.year_to_pc, ev_0.m2/m2, label='no dm')\n",
    "ax_m.loglog(ev_acc.t/ms.year_to_pc, ev_acc.m2/m2, label='acc')\n",
    "\n",
    "ax_E.loglog(ev_0.t/ms.year_to_pc, -inspiral.Classic.E_orbit(sp_0, ev_0.a, ev_0.e), label='no dm')\n",
    "ax_E.loglog(ev_nacc.t/ms.year_to_pc, -inspiral.Classic.E_orbit(sp_dm, ev_nacc.a, ev_nacc.e), label='nacc')\n",
    "\n",
    "ax_L.loglog(ev_0.t/ms.year_to_pc, inspiral.Classic.L_orbit(sp_0, ev_0.a, ev_0.e), label='no dm')\n",
    "ax_L.loglog(ev_nacc.t/ms.year_to_pc, inspiral.Classic.L_orbit(sp_dm, ev_nacc.a, ev_nacc.e), label='nacc') \n",
    "\n",
    "sp_dm.m2 = ev_acc.m2\n",
    "ax_E.loglog(ev_acc.t/ms.year_to_pc, -inspiral.Classic.E_orbit(sp_dm, ev_acc.a, ev_acc.e), label='acc')\n",
    "ax_L.loglog(ev_acc.t/ms.year_to_pc, inspiral.Classic.L_orbit(sp_dm, ev_acc.a, ev_acc.e), label='nacc')             \n",
    "sp_dm.m2 = m2\n",
    "\n",
    "ax_p.grid(); ax_p.set_xlabel('t / yr'); ax_p.set_ylabel(r'p / $GM/c^4$')\n",
    "ax_p.legend();\n",
    "ax_e.grid(); ax_e.set_xlabel('t / yr'); ax_e.set_ylabel('e'); \n",
    "ax_e.set_xscale('log'); ax_e.set_ylim(bottom=e0/10.);\n",
    "ax_m.grid(); ax_m.set_xlabel('t / yr'); ax_m.set_ylabel(r'$\\Delta m/m$') \n",
    "\n",
    "ax_E.grid(); ax_E.set_xlabel('t / yr'); ax_E.set_ylabel(r'-E'); ax_E.set_xscale('log')\n",
    "ax_L.grid(); ax_L.set_xlabel('t / yr'); ax_L.set_ylabel(r'L'); ax_L.set_xscale('log')"
   ]
  },
  {
   "cell_type": "code",
   "execution_count": null,
   "metadata": {},
   "outputs": [],
   "source": [
    "# Plot observable phase difference in 2nd harmonic\n",
    "wf_0 = waveform.h_n(2, sp_0, ev_0, dbg=True, acc=1e-13)\n",
    "wf_acc = waveform.h_n(2, sp_dm, ev_acc, dbg=True, acc=1e-13)\n",
    "wf_nacc = waveform.h_n(2, sp_dm, ev_nacc, dbg=True, acc=1e-13)\n",
    "from scipy.interpolate import interp1d\n",
    "PhiT_0int = interp1d(wf_0[0], wf_0[4], kind='cubic', bounds_error=False, fill_value=(0.,0.))\n",
    "plt.figure(figsize=(16, 10))\n",
    "#plt.plot( wf_0[0]/ms.hz_to_invpc, wf_0[4], label=r\"$\\Phi_{0}$\")\n",
    "#plt.plot( wf_acc[0]/ms.hz_to_invpc, wf_acc[4], label=r\"$\\Phi_{acc}$\")\n",
    "#plt.plot( wf_nacc[0]/ms.hz_to_invpc, wf_nacc[4], label=r\"$\\Phi_{nacc}$\")\n",
    "plt.plot( wf_acc[0]/ms.hz_to_invpc, np.abs(wf_acc[4] - PhiT_0int(wf_acc[0])), label=r\"$\\Delta\\Phi_{acc}$\")\n",
    "plt.plot(wf_nacc[0]/ms.hz_to_invpc, np.abs(wf_nacc[4] - PhiT_0int(wf_nacc[0])), label=r\"$\\Delta\\Phi_{nacc}$\")\n",
    "PhiT_accint = interp1d(wf_acc[0], wf_acc[4], kind='cubic', bounds_error=False, fill_value=(0.,0.))\n",
    "plt.plot(wf_nacc[0]/ms.hz_to_invpc, np.abs(wf_nacc[4] - PhiT_accint(wf_nacc[0])), label=r\"$\\delta\\Phi_{acc}$\")\n",
    "plt.yscale('log'); plt.ylim(bottom=1e-2)\n",
    "plt.xlabel('f / Hz'); #plt.xlim(right=wf_acc[0][-1]//ms.hz_to_invpc)#plt.xlim((0.01,0.1))\n",
    "plt.xscale('log')\n",
    "plt.grid(); plt.legend(); plt.show()"
   ]
  },
  {
   "cell_type": "code",
   "execution_count": null,
   "metadata": {},
   "outputs": [],
   "source": [
    "def plotGWspectrum(sp, ev, ax_f, ax_Q=None, n_comp=20, n_disp = 5):\n",
    "    wfs = [waveform.h_n(n, sp, ev, acc=1e-13) for n in range(1, n_comp+1)]\n",
    "    for i in range( min(len(wfs), n_disp)):\n",
    "        ax_f.loglog(wfs[i][0]/ms.hz_to_invpc, 2.*wfs[i][0]*np.abs(wfs[i][1]), label=r\"$|h^{(\" + str(i+1) + \")}_+|$\")\n",
    "\n",
    "    f_gw = np.geomspace(np.min(wfs[0][0]), np.max(wfs[n_disp][0]), 5000)\n",
    "\n",
    "    h_plus_tot = np.sum([ np.interp(f_gw, wf[0], wf[1], left=0., right=0.) * np.exp(1.j * np.interp(f_gw, wf[0], wf[3], left=0., right=0.)) for wf in wfs ],  axis=0)\n",
    "    h_cross_tot = np.sum([ np.interp(f_gw, wf[0], wf[2], left=0., right=0.) * np.exp(1.j * np.interp(f_gw, wf[0], wf[3], left=0., right=0.)) for wf in wfs ],  axis=0)\n",
    "    ax_f.plot(f_gw/ms.hz_to_invpc, 2.*f_gw*np.abs(h_plus_tot), label=r\"$|h^{SPA}_+|$\")\n",
    "\n",
    "    if not ax_Q is None:\n",
    "        t_plot = np.linspace(np.min(ev.t) if ev.t[0] > 0. else ev.t[1]*1e-1, np.max(ev.t), 400)\n",
    "        if ax_Q.get_yscale() == 'log':\n",
    "            f_plot = np.geomspace(np.min(f_gw), np.max(f_gw)/1e3, 400)\n",
    "        else:\n",
    "            f_plot = np.linspace(np.min(f_gw), np.max(f_gw)/1e2, 400)\n",
    "        t_plot, f_plot = np.meshgrid(t_plot, f_plot)\n",
    "\n",
    "        h_plus_plot = np.zeros(shape=np.shape(t_plot)); h_cross_plot = np.zeros(shape=np.shape(t_plot))\n",
    "        for i in range(len(t_plot[0])):\n",
    "            for wf in wfs:\n",
    "                f = np.interp(t_plot[0, i], ev.t, wf[0], left=0., right=0.)\n",
    "                index_f = (np.abs(f_plot[:, i] - f)).argmin()\n",
    "                h_plus_plot[index_f, i] = np.abs(np.interp(f_plot[index_f, i], wf[0], wf[1]))\n",
    "                h_cross_plot[index_f, i] = np.abs(np.interp(f_plot[index_f, i], wf[0], wf[2]))\n",
    "\n",
    "        h_plus_plot = h_plus_plot/np.max(h_plus_plot);  h_cross_plot = h_cross_plot/np.max(h_cross_plot)\n",
    "        return ax_Q.contourf( t_plot/ms.year_to_pc, f_plot/ms.hz_to_invpc, h_plus_plot, cmap=plt.get_cmap(\"YlOrRd\"))\n",
    "        #ax_Q.contourf( t_plot/ms.s_to_pc, f_plot/ms.hz_to_invpc, h_cross_plot)\n",
    "\n"
   ]
  },
  {
   "cell_type": "code",
   "execution_count": null,
   "metadata": {},
   "outputs": [],
   "source": [
    "fig, (ax_f, ax_Q) = plt.subplots(2, 1, figsize=(16,20))\n",
    "mappable = plotGWspectrum(sp_0, ev_0, ax_f, ax_Q=ax_Q)\n",
    "f = np.geomspace(detector.Lisa().Bandwith()[0], detector.Lisa().Bandwith()[1], 100)\n",
    "ax_f.plot(f/ms.hz_to_invpc, detector.Lisa().NoiseStrain(f), label='LISA')\n",
    "ax_f.grid(); ax_f.legend()\n",
    "fig.colorbar(mappable)\n",
    "\n",
    "fig, (ax_f, ax_Q) = plt.subplots(2, 1, figsize=(16,20))\n",
    "mappable = plotGWspectrum(sp_dm, ev_acc, ax_f, ax_Q=ax_Q)\n",
    "f = np.geomspace(detector.Lisa().Bandwith()[0], detector.Lisa().Bandwith()[1], 100)\n",
    "ax_f.plot(f/ms.hz_to_invpc, detector.Lisa().NoiseStrain(f), label='LISA')\n",
    "ax_f.grid(); ax_f.legend()\n",
    "fig.colorbar(mappable)\n",
    "\n",
    "fig, (ax_f, ax_Q) = plt.subplots(2, 1, figsize=(16,20))\n",
    "mappable = plotGWspectrum(sp_dm, ev_nacc, ax_f, ax_Q=ax_Q)\n",
    "f = np.geomspace(detector.Lisa().Bandwith()[0], detector.Lisa().Bandwith()[1], 100)\n",
    "ax_f.plot(f/ms.hz_to_invpc, detector.Lisa().NoiseStrain(f), label='LISA')\n",
    "ax_f.grid(); ax_f.legend()\n",
    "fig.colorbar(mappable)"
   ]
  },
  {
   "cell_type": "code",
   "execution_count": null,
   "metadata": {},
   "outputs": [],
   "source": []
  }
 ],
 "metadata": {
  "kernelspec": {
   "display_name": "Python 3",
   "language": "python",
   "name": "python3"
  },
  "language_info": {
   "codemirror_mode": {
    "name": "ipython",
    "version": 3
   },
   "file_extension": ".py",
   "mimetype": "text/x-python",
   "name": "python",
   "nbconvert_exporter": "python",
   "pygments_lexer": "ipython3",
   "version": "3.8.10"
  }
 },
 "nbformat": 4,
 "nbformat_minor": 4
}
