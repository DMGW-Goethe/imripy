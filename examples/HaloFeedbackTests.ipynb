{
 "cells": [
  {
   "cell_type": "code",
   "execution_count": null,
   "metadata": {},
   "outputs": [],
   "source": [
    "import numpy as np\n",
    "from imripy import merger_system as ms\n",
    "from imripy import halo\n",
    "from imripy import inspiral\n",
    "from imripy import waveform\n",
    "import matplotlib.pyplot as plt\n",
    "from scipy.interpolate import interp1d"
   ]
  },
  {
   "cell_type": "code",
   "execution_count": null,
   "metadata": {},
   "outputs": [],
   "source": [
    "# Basic system and spike properties\n",
    "g_spike = 7./3.\n",
    "m1 = 1e5*ms.solar_mass_to_pc\n",
    "m2 = 1e3*ms.solar_mass_to_pc\n",
    "#rho_spike = 226.*ms.solar_mass_to_pc\n",
    "#r_spike = ( (3 - g_spike) * m1 / (2 * np.pi * rho_spike) * 0.2**(3.-g_spike) )**(1./3.)\n",
    "D = 5e8\n",
    "model = \"Form.m5.m3.alpha2.3\""
   ]
  },
  {
   "cell_type": "code",
   "execution_count": null,
   "metadata": {},
   "outputs": [],
   "source": [
    "# Model the system with spike\n",
    "potential = lambda r: m1/r\n",
    "Eps_grid = np.geomspace(1e-13, 1e1, 1000)\n",
    "\n",
    "NFWSpike = halo.Spike.FromSpikedNFW(halo.SpikedNFW.FromNFW(halo.NFW.FromHaloMass(1e3*m1, 20.), \n",
    "                                                            m1, g_spike))\n",
    "dh = halo.DynamicSS.FromStatic(Eps_grid, NFWSpike, potential)\n",
    "\n",
    "# This is so that we can extend the grid easily for the evolution\n",
    "f_grid_interp = interp1d(dh.Eps_grid, dh.f_grid, kind='cubic', fill_value=(0.,0.), bounds_error=False, copy=True)\n",
    "\n",
    "sp = ms.SystemProp(m1, m2, dh, D)"
   ]
  },
  {
   "cell_type": "code",
   "execution_count": null,
   "metadata": {},
   "outputs": [],
   "source": [
    "# Model the inspiral\n",
    "R0 = 60.* sp.r_isco()\n",
    "R_fin = 1. * sp.r_isco()\n",
    "r_grid = np.geomspace(sp.r_isco(), 50*R0, 1000)\n",
    "\n",
    "Eps_grid = np.geomspace(1e-13, 1e1, 1000)\n",
    "Eps_grid = np.sort(np.append(Eps_grid, np.geomspace(1e-1 * (sp.m1/R0 - (sp.omega_s_approx(R0)*R0)**2 / 2.), 1e1 * sp.m1/R0, 2000)))\n",
    "\n",
    "sp.halo.Eps_grid = Eps_grid; sp.halo.update_Eps()\n",
    "sp.halo.f_grid = f_grid_interp(Eps_grid)\n",
    "haloModel = inspiral.HaloModel(sp)"
   ]
  },
  {
   "cell_type": "code",
   "execution_count": null,
   "metadata": {},
   "outputs": [],
   "source": [
    "# Plot initial configuration\n",
    "fig, (ax_rho, ax_f) = plt.subplots(2, 1, figsize=(20,20))\n",
    "ax_rho.loglog(r_grid, NFWSpike.density(r_grid), label='analytic')\n",
    "ax_rho.loglog(r_grid, dh.density(r_grid), linestyle='--', label=r'recovered')\n",
    "ax_rho.axvline(R0, linestyle = '--', color='black', label = r'$R_0$')\n",
    "ax_rho.set_xlabel('r / pc')\n",
    "ax_rho.legend();\n",
    "ax_f.loglog(dh.Eps_grid, dh.f_grid, label=\"$f$\")\n",
    "ax_f.axvline(sp.m1/R0, linestyle='-.', label='$m1/r$')\n",
    "ax_rho.grid(); ax_f.grid()\n",
    "plt.legend(); "
   ]
  },
  {
   "cell_type": "code",
   "execution_count": null,
   "metadata": {},
   "outputs": [],
   "source": [
    "# Evolve the system\n",
    "t, R, f = haloModel.evolve_circular_binary( R0, R_fin = R_fin, acc=1e-8)"
   ]
  },
  {
   "cell_type": "code",
   "execution_count": null,
   "metadata": {},
   "outputs": [],
   "source": [
    "from matplotlib.animation import FuncAnimation\n",
    "n_frame = len(t)-1\n",
    "#n_frame = 10\n",
    "\n",
    "print(n_frame)\n",
    "fig, (ax_rho, ax_f) = plt.subplots(2, 1, figsize=(20,20))\n",
    "\n",
    "index = 0;\n",
    "v_0 = sp.omega_s_approx(R0)*R0\n",
    "Tini_orb =  2.*np.pi / sp.omega_s_approx(R0)\n",
    "lr0 = ax_rho.axvline(R0/sp.r_isco(), linestyle='-.', label='$r_0$', color='black')\n",
    "\n",
    "dh.f_grid = f[0,:]\n",
    "lrho, = ax_rho.loglog(r_grid/sp.r_isco(), dh.density(r_grid), label=r'$\\rho$')\n",
    "lrho_v0, = ax_rho.loglog(r_grid/sp.r_isco(), dh.density(r_grid, v_max=[sp.omega_s_approx(r)*r for r in r_grid]), \n",
    "                                  color=lrho.get_c(), linestyle='--', label=r'$\\rho_{v<v_{orb}}$')\n",
    "\n",
    "lr = ax_rho.axvline(R[0]/sp.r_isco(), linestyle='-.', color=lrho.get_c(), label='$r$')\n",
    "lf, = ax_f.loglog(dh.Eps_grid, dh.f_grid, label=\"$f$\", color=lrho.get_c())\n",
    "\n",
    "ldf, = ax_f.loglog(dh.Eps_grid, np.abs(haloModel.dfHalo_dt(R[0], v_cut=v_0)*Tini_orb), \n",
    "                                  linestyle='--', color=lrho.get_c(), label=\"$|\\Delta f|$\")\n",
    "lmr = ax_rho.axvline(sp.m1/R[0], linestyle='-.', color=lrho.get_c(), label='$m1/r$')\n",
    "l = [lrho, lrho_v0, lf, ldf, lr, lmr]\n",
    "\n",
    "\n",
    "ax_rho.set_ylabel(r'$\\rho$ / $pc^{-2}$', fontsize=20); ax_rho.set_xlabel(r'$r$ / $r_{isco}$', fontsize=20); ax_rho.grid()\n",
    "ax_f.set_ylabel(r'$f$ / $pc^{-2}$',fontsize=20); ax_f.set_xlabel(r'$\\epsilon$', fontsize=20); ax_f.grid()\n",
    "ax_rho.set_xlim((r_grid[0]/sp.r_isco(), r_grid[-1]/sp.r_isco()))\n",
    "fig.legend(fontsize=20, loc='center right')\n",
    "\n",
    "def init_plot():\n",
    "    return l\n",
    "\n",
    "def update_plot(frame):\n",
    "    index = frame\n",
    "    updt = True\n",
    "    print( index, t[index])\n",
    "    if updt:\n",
    "        ax_rho.set_title(f\"t_1={t[index]/ms.year_to_pc : .4f} yrs\")\n",
    "        lrho, lrho_v0, lf, ldf, lr, lmr = l\n",
    "        dh.f_grid = f[index,:]; \n",
    "        lrho.set_data(r_grid/sp.r_isco(), dh.density(r_grid))\n",
    "        lrho_v0.set_data(r_grid/sp.r_isco(), dh.density(r_grid, v_max=[sp.omega_s_approx(r)*r for r in r_grid]))\n",
    "        lr.set_data( R[index]/sp.r_isco(), lr.get_ydata())\n",
    "        lf.set_data(dh.Eps_grid, dh.f_grid)\n",
    "        \n",
    "        if index < len(t)-1:\n",
    "            delta_t = t[index+1] - t[index]\n",
    "            v_0 = sp.omega_s_approx(R[index])*R[index]\n",
    "            ldf.set_data(dh.Eps_grid, np.abs(haloModel.dfHalo_dt(R[index], v_cut=v_0)*delta_t))\n",
    "\n",
    "        lmr.set_data(sp.m1/R[index], lmr.get_ydata())\n",
    "    return l\n",
    "\n",
    "\n",
    "ani = FuncAnimation(fig, update_plot, frames=n_frame, blit=True, init_func=init_plot , interval=100, repeat=True)\n",
    "ani.save(\"HaloFeedbackEvolution.\" + model + \".mp4\")\n",
    "plt.show()"
   ]
  },
  {
   "cell_type": "code",
   "execution_count": null,
   "metadata": {},
   "outputs": [],
   "source": [
    "# Calculate Gravitational Wave Signal\n",
    "omega_s = sp.omega_s_approx(R)\n",
    "f_gw, h, _, __, ___, PhiTild, ____ = waveform.h_2(sp, t, omega_s, R, dbg=True)"
   ]
  },
  {
   "cell_type": "code",
   "execution_count": null,
   "metadata": {},
   "outputs": [],
   "source": [
    "# Compare to model w/o HaloFeedback\n",
    "sp_2 = ms.SystemProp(m1, m2, NFWSpike, D)\n",
    "t_2, R_2 = inspiral.Classic.evolve_circular_binary(sp_2, R0, R_fin = R_fin, acc=1e-10)\n",
    "omega_s_2 = sp_2.omega_s_approx(R_2)\n",
    "#print(len(t2), t2)\n",
    "f_gw2, h2, _, __, ___, PhiTild2, ____ = waveform.h_2(sp_2, t_2, omega_s_2, R_2, dbg=True)"
   ]
  },
  {
   "cell_type": "code",
   "execution_count": null,
   "metadata": {},
   "outputs": [],
   "source": [
    "# And to model w/o DM halo\n",
    "sp_0 = ms.SystemProp(m1, m2, halo.ConstHalo(0.), D)\n",
    "t_0, R_0 = inspiral.Classic.evolve_circular_binary(sp_0, R0, R_fin = R_fin, acc=1e-10)\n",
    "omega_s_0 = sp_0.omega_s_approx(R_0)\n",
    "#print(len(t0), t0)\n",
    "f_gw0, h0, _, __, ___, PhiTild0, ____ = waveform.h_2(sp_0, t_0, omega_s_0, R_0, dbg=True)\n",
    "from scipy.interpolate import interp1d\n",
    "PhiTild0int = interp1d(f_gw0, PhiTild0, kind='cubic', bounds_error=False, fill_value=(0., 0.))"
   ]
  },
  {
   "cell_type": "code",
   "execution_count": null,
   "metadata": {},
   "outputs": [],
   "source": [
    "# Plot phase difference\n",
    "f_gw5yr = 1./np.pi * (5./256./ (5.*ms.year_to_pc))**(3./8.) * sp_0.m_chirp()**(-5./8.)\n",
    "plt.figure(figsize=(10,6))\n",
    "plt.plot(f_gw/ms.hz_to_invpc, np.abs(PhiTild - PhiTild0int(f_gw)), label='$\\Delta\\Phi_{HF}$')\n",
    "plt.plot(f_gw2/ms.hz_to_invpc, np.abs(PhiTild2 - PhiTild0int(f_gw2)), label='$\\Delta\\Phi_{static}$')\n",
    "plt.axvline(f_gw5yr/ms.hz_to_invpc, linestyle='--')\n",
    "plt.grid(); plt.legend();\n",
    "plt.xscale('log'); plt.xlabel('f / Hz'); #plt.xlim(1e-2, 1.); \n",
    "plt.yscale('log');   plt.ylabel(r'$\\Delta \\Phi$'); #plt.ylim(1., 1e8);\n",
    "plt.savefig(\"deltaPhi.\" + model + \".jpg\")"
   ]
  },
  {
   "cell_type": "code",
   "execution_count": null,
   "metadata": {},
   "outputs": [],
   "source": [
    "# Plot GW strain\n",
    "plt.figure(figsize=(10,6))\n",
    "plt.plot(f_gw0 /ms.hz_to_invpc, 2.*f_gw0*h0 , label='$h_c^0$')\n",
    "plt.plot(f_gw  /ms.hz_to_invpc, 2.*f_gw*h   , label='$h_c$')\n",
    "plt.plot(f_gw2 /ms.hz_to_invpc, 2.*f_gw2*h2 , label='$h_c^2$')\n",
    "plt.axvline(f_gw5yr/ms.hz_to_invpc, linestyle='--')\n",
    "\n",
    "import imripy.detector as detector\n",
    "freq = np.geomspace(detector.Lisa().Bandwith()[0], detector.Lisa().Bandwith()[1], 100)\n",
    "plt.plot(freq/ms.hz_to_invpc, detector.Lisa().NoiseStrain(freq), label='LISA')\n",
    "plt.grid(); plt.legend();\n",
    "plt.xscale('log'); plt.xlabel('f / Hz')\n",
    "plt.yscale('log'); plt.ylabel('characteristic strain')\n",
    "plt.savefig(\"strain.\" + model + \".jpg\")"
   ]
  },
  {
   "cell_type": "code",
   "execution_count": null,
   "metadata": {},
   "outputs": [],
   "source": []
  }
 ],
 "metadata": {
  "kernelspec": {
   "display_name": "Python 3",
   "language": "python",
   "name": "python3"
  },
  "language_info": {
   "codemirror_mode": {
    "name": "ipython",
    "version": 3
   },
   "file_extension": ".py",
   "mimetype": "text/x-python",
   "name": "python",
   "nbconvert_exporter": "python",
   "pygments_lexer": "ipython3",
   "version": "3.8.10"
  }
 },
 "nbformat": 4,
 "nbformat_minor": 4
}
